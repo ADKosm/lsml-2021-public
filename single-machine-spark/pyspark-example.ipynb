{
 "cells": [
  {
   "cell_type": "code",
   "execution_count": 3,
   "metadata": {},
   "outputs": [],
   "source": [
    "import os\n",
    "import findspark\n",
    "\n",
    "os.environ[\"JAVA_HOME\"] = \"/usr/lib/jvm/java-8-openjdk-amd64\"\n",
    "os.environ[\"SPARK_HOME\"] = \"/spark/spark-3.1.1-bin-hadoop2.7\"\n",
    "\n",
    "findspark.init(\"/spark/spark-3.1.1-bin-hadoop2.7\")"
   ]
  },
  {
   "cell_type": "code",
   "execution_count": 4,
   "metadata": {},
   "outputs": [],
   "source": [
    "from pyspark import SparkContext\n",
    "from pyspark.conf import SparkConf"
   ]
  },
  {
   "cell_type": "code",
   "execution_count": 6,
   "metadata": {},
   "outputs": [],
   "source": [
    "import psutil"
   ]
  },
  {
   "cell_type": "code",
   "execution_count": 12,
   "metadata": {},
   "outputs": [
    {
     "name": "stdout",
     "output_type": "stream",
     "text": [
      "241.71878814697266\n",
      "32\n"
     ]
    }
   ],
   "source": [
    "available_mem_gb = int(psutil.virtual_memory().total / 1024 ** 3 - 10)\n",
    "available_cpu_count = psutil.cpu_count()\n",
    "\n",
    "print(available_mem_gb)\n",
    "print(available_cpu_count)"
   ]
  },
  {
   "cell_type": "code",
   "execution_count": 14,
   "metadata": {},
   "outputs": [],
   "source": [
    "conf = (\n",
    "    SparkConf()\n",
    "    .set(\"spark.ui.port\", 5050)  # Админка работает на 5050 порту\n",
    "    .set(\"spark.driver.memory\", \"{}g\".format(available_mem_gb))\n",
    ")"
   ]
  },
  {
   "cell_type": "code",
   "execution_count": 16,
   "metadata": {},
   "outputs": [],
   "source": [
    "# По воркеру на каждое ядро\n",
    "sc = SparkContext(\"local[*]\", \"single-machine-spark\", conf=conf)"
   ]
  },
  {
   "cell_type": "code",
   "execution_count": 17,
   "metadata": {},
   "outputs": [],
   "source": [
    "from pyspark.sql import SparkSession\n",
    "\n",
    "ss = SparkSession(sc)"
   ]
  },
  {
   "cell_type": "code",
   "execution_count": 18,
   "metadata": {},
   "outputs": [
    {
     "name": "stdout",
     "output_type": "stream",
     "text": [
      "--2021-03-03 16:37:28--  https://datasets.imdbws.com/title.basics.tsv.gz\n",
      "Resolving datasets.imdbws.com (datasets.imdbws.com)... 13.226.220.105, 13.226.220.70, 13.226.220.67, ...\n",
      "Connecting to datasets.imdbws.com (datasets.imdbws.com)|13.226.220.105|:443... connected.\n",
      "HTTP request sent, awaiting response... 200 OK\n",
      "Length: 136483291 (130M) [binary/octet-stream]\n",
      "Saving to: ‘STDOUT’\n",
      "\n",
      "-                   100%[===================>] 130.16M  32.2MB/s    in 4.0s    \n",
      "\n",
      "2021-03-03 16:37:32 (32.3 MB/s) - written to stdout [136483291/136483291]\n",
      "\n"
     ]
    }
   ],
   "source": [
    "! wget -O- https://datasets.imdbws.com/title.basics.tsv.gz | gunzip > title.basics.tsv"
   ]
  },
  {
   "cell_type": "code",
   "execution_count": 19,
   "metadata": {},
   "outputs": [
    {
     "name": "stdout",
     "output_type": "stream",
     "text": [
      "tconst\ttitleType\tprimaryTitle\toriginalTitle\tisAdult\tstartYear\tendYear\truntimeMinutes\tgenres\r\n",
      "tt0000001\tshort\tCarmencita\tCarmencita\t0\t1894\t\\N\t1\tDocumentary,Short\r\n",
      "tt0000002\tshort\tLe clown et ses chiens\tLe clown et ses chiens\t0\t1892\t\\N\t5\tAnimation,Short\r\n"
     ]
    }
   ],
   "source": [
    "! head -n 3 title.basics.tsv"
   ]
  },
  {
   "cell_type": "code",
   "execution_count": null,
   "metadata": {},
   "outputs": [],
   "source": []
  },
  {
   "cell_type": "code",
   "execution_count": 24,
   "metadata": {},
   "outputs": [],
   "source": [
    "rdd = sc.textFile('title.basics.tsv')"
   ]
  },
  {
   "cell_type": "code",
   "execution_count": 25,
   "metadata": {},
   "outputs": [
    {
     "data": {
      "text/plain": [
       "7668282"
      ]
     },
     "execution_count": 25,
     "metadata": {},
     "output_type": "execute_result"
    }
   ],
   "source": [
    "rdd.count()"
   ]
  },
  {
   "cell_type": "code",
   "execution_count": null,
   "metadata": {},
   "outputs": [],
   "source": []
  },
  {
   "cell_type": "code",
   "execution_count": 21,
   "metadata": {},
   "outputs": [],
   "source": [
    "title_df = ss.read.option(\"delimiter\", \"\\t\").csv('title.basics.tsv', header=True, inferSchema=True)"
   ]
  },
  {
   "cell_type": "code",
   "execution_count": 22,
   "metadata": {},
   "outputs": [
    {
     "data": {
      "text/plain": [
       "7668281"
      ]
     },
     "execution_count": 22,
     "metadata": {},
     "output_type": "execute_result"
    }
   ],
   "source": [
    "title_df.count()"
   ]
  },
  {
   "cell_type": "code",
   "execution_count": 26,
   "metadata": {},
   "outputs": [],
   "source": [
    "title_df.registerTempTable('title')"
   ]
  },
  {
   "cell_type": "code",
   "execution_count": 29,
   "metadata": {},
   "outputs": [
    {
     "name": "stdout",
     "output_type": "stream",
     "text": [
      "+---------+------+\n",
      "|startYear|amount|\n",
      "+---------+------+\n",
      "|     2017| 49868|\n",
      "|     2016| 49003|\n",
      "|     2018| 47899|\n",
      "|     2014| 46567|\n",
      "|     2015| 45545|\n",
      "|     2013| 42178|\n",
      "|     2019| 42123|\n",
      "|     2012| 37674|\n",
      "|     2020| 34674|\n",
      "|     2011| 32563|\n",
      "+---------+------+\n",
      "\n"
     ]
    }
   ],
   "source": [
    "ss.sql(\"\"\"\n",
    "    SELECT startYear, count(startYear) as amount\n",
    "    FROM title\n",
    "    WHERE titleType = 'short'\n",
    "    GROUP BY startYear\n",
    "    ORDER BY amount DESC\n",
    "    LIMIT 10\n",
    "\"\"\").show()"
   ]
  },
  {
   "cell_type": "code",
   "execution_count": 30,
   "metadata": {},
   "outputs": [],
   "source": [
    "sc.stop()"
   ]
  },
  {
   "cell_type": "code",
   "execution_count": null,
   "metadata": {},
   "outputs": [],
   "source": []
  }
 ],
 "metadata": {
  "kernelspec": {
   "display_name": "Python 3",
   "language": "python",
   "name": "python3"
  },
  "language_info": {
   "codemirror_mode": {
    "name": "ipython",
    "version": 3
   },
   "file_extension": ".py",
   "mimetype": "text/x-python",
   "name": "python",
   "nbconvert_exporter": "python",
   "pygments_lexer": "ipython3",
   "version": "3.8.6"
  }
 },
 "nbformat": 4,
 "nbformat_minor": 5
}
