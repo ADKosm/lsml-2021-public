{
 "cells": [
  {
   "cell_type": "markdown",
   "metadata": {},
   "source": [
    "### H2O\n",
    "\n",
    "H2O - это еще один инструмент для машинного обучения, нацеленный на удобный интерфейс взаимодействия и возможность эффективного распределенного обучения. Официальный сайт - https://www.h2o.ai/\n",
    "\n",
    "В Azure есть готовый компонент, который позволит развернуть кластер H2O по клику - https://portal.azure.com/#create/h2o-ai.h2o-sparklingwaterh2o-sparklingwater\n",
    "\n",
    "Весь этот ноутбук запущен именно на таком кластере"
   ]
  },
  {
   "cell_type": "code",
   "execution_count": 1,
   "metadata": {
    "cell_status": {
     "execute_time": {
      "duration": 26.93994140625,
      "end_time": 1614010150722.197
     }
    }
   },
   "outputs": [
    {
     "data": {
      "text/html": [
       "Current session configs: <tt>{u'numExecutors': 3, u'executorMemory': u'21G', u'kind': 'pyspark', u'conf': {u'spark.scheduler.minRegisteredResourcesRatio': u'1', u'spark.task.maxFailures': u'1', u'spark.yarn.am.extraJavaOption': u'-XX:MaxPermSize=384m', u'maximizeResourceAllocation': u'true', u'spark.yarn.max.executor.failures': u'1', u'spark.jars': u'/H2O-Sparkling-Water-files/sparkling-water-assembly-all.jar', u'spark.ext.h2o.announce.rest.url': u'http://ed10-lsml-h.axexy4k5kbfuxexn2dl0fl3zub.dx.internal.cloudapp.net:5000/flows', u'spark.submit.pyFiles': u'/H2O-Sparkling-Water-files/pySparkling.zip', u'spark.locality.wait': u'3000'}, u'driverMemory': u'21G'}</tt><br>"
      ],
      "text/plain": [
       "<IPython.core.display.HTML object>"
      ]
     },
     "metadata": {},
     "output_type": "display_data"
    },
    {
     "data": {
      "text/html": [
       "No active sessions."
      ],
      "text/plain": [
       "<IPython.core.display.HTML object>"
      ]
     },
     "metadata": {},
     "output_type": "display_data"
    }
   ],
   "source": [
    "%%configure -f\n",
    "{\n",
    "    \"conf\":{\n",
    "        \"spark.ext.h2o.announce.rest.url\": \"http://ed10-lsml-h.axexy4k5kbfuxexn2dl0fl3zub.dx.internal.cloudapp.net:5000/flows\",\n",
    "        \"spark.jars\":\"/H2O-Sparkling-Water-files/sparkling-water-assembly-all.jar\",\n",
    "        \"spark.submit.pyFiles\":\"/H2O-Sparkling-Water-files/pySparkling.zip\",\n",
    "        \"spark.locality.wait\":\"3000\",\n",
    "        \"spark.scheduler.minRegisteredResourcesRatio\":\"1\",\n",
    "        \"spark.task.maxFailures\":\"1\",\n",
    "        \"spark.yarn.am.extraJavaOption\":\"-XX:MaxPermSize=384m\",\n",
    "        \"spark.yarn.max.executor.failures\":\"1\",\n",
    "        \"maximizeResourceAllocation\": \"true\"\n",
    "    },\n",
    "    \"driverMemory\":\"21G\",\n",
    "    \"executorMemory\":\"21G\",\n",
    "    \"numExecutors\":3\n",
    "}"
   ]
  },
  {
   "cell_type": "code",
   "execution_count": 2,
   "metadata": {
    "cell_status": {
     "execute_time": {
      "duration": 5309.72998046875,
      "end_time": 1614010222339.819
     }
    }
   },
   "outputs": [
    {
     "name": "stdout",
     "output_type": "stream",
     "text": [
      "Starting Spark application\n"
     ]
    },
    {
     "data": {
      "text/html": [
       "<table>\n",
       "<tr><th>ID</th><th>YARN Application ID</th><th>Kind</th><th>State</th><th>Spark UI</th><th>Driver log</th><th>Current session?</th></tr><tr><td>0</td><td>application_1614009348742_0004</td><td>pyspark</td><td>idle</td><td><a target=\"_blank\" href=\"http://hn1-lsml-h.axexy4k5kbfuxexn2dl0fl3zub.dx.internal.cloudapp.net:8088/proxy/application_1614009348742_0004/\">Link</a></td><td><a target=\"_blank\" href=\"http://wn1-lsml-h.axexy4k5kbfuxexn2dl0fl3zub.dx.internal.cloudapp.net:30060/node/containerlogs/container_1614009348742_0004_01_000001/livy\">Link</a></td><td>✔</td></tr></table>"
      ],
      "text/plain": [
       "<IPython.core.display.HTML object>"
      ]
     },
     "metadata": {},
     "output_type": "display_data"
    },
    {
     "name": "stdout",
     "output_type": "stream",
     "text": [
      "SparkSession available as 'spark'.\n",
      "/usr/bin/anaconda/lib/python2.7/site-packages/matplotlib/font_manager.py:273: UserWarning: Matplotlib is building the font cache using fc-list. This may take a moment.\n",
      "  warnings.warn('Matplotlib is building the font cache using fc-list. This may take a moment.')"
     ]
    }
   ],
   "source": [
    "import pyspark\n",
    "import os\n",
    "os.environ[\"PYTHON_EGG_CACHE\"] = \"~/\"\n",
    "sc.addPyFile(\"wasb:///H2O-Sparkling-Water-files/pySparkling.zip\") # For Azure DataLake replace wasb with adl"
   ]
  },
  {
   "cell_type": "code",
   "execution_count": 3,
   "metadata": {
    "cell_status": {
     "execute_time": {
      "duration": 33946.917236328125,
      "end_time": 1614010256299.074
     }
    }
   },
   "outputs": [
    {
     "name": "stdout",
     "output_type": "stream",
     "text": [
      "Connecting to H2O server at http://10.0.0.13:54321 ... successful.\n",
      "--------------------------  ------------------------------------------------------------------\n",
      "H2O cluster uptime:         09 secs\n",
      "H2O cluster timezone:       Etc/UTC\n",
      "H2O data parsing timezone:  UTC\n",
      "H2O cluster version:        3.26.0.5\n",
      "H2O cluster version age:    1 year, 5 months and 6 days !!!\n",
      "H2O cluster name:           sparkling-water-yarn_application_1614009348742_0004\n",
      "H2O cluster total nodes:    3\n",
      "H2O cluster free memory:    55.58 Gb\n",
      "H2O cluster total cores:    24\n",
      "H2O cluster allowed cores:  9\n",
      "H2O cluster status:         accepting new members, healthy\n",
      "H2O connection url:         http://10.0.0.13:54321\n",
      "H2O connection proxy:\n",
      "H2O internal security:      False\n",
      "H2O API Extensions:         XGBoost, Algos, Amazon S3, AutoML, Core V3, TargetEncoder, Core V4\n",
      "Python version:             2.7.12 final\n",
      "--------------------------  ------------------------------------------------------------------\n",
      "\n",
      "Sparkling Water Context:\n",
      " * Sparkling Water Version: 3.26.5-2.4\n",
      " * H2O name: sparkling-water-yarn_application_1614009348742_0004\n",
      " * cluster size: 3\n",
      " * list of used nodes:\n",
      "  (executorId, host, port)\n",
      "  ------------------------\n",
      "  (1,10.0.0.16,54321)\n",
      "  (2,10.0.0.10,54321)\n",
      "  (3,10.0.0.15,54321)\n",
      "  ------------------------\n",
      "\n",
      "  Open H2O Flow in browser: http://10.0.0.13:54321 (CMD + click in Mac OSX)\n",
      "\n",
      "    \n",
      " * Yarn App ID of Spark application: application_1614009348742_0004\n",
      "    \n",
      "Method H2OContext.getOrCreate with argument of type SparkContext is deprecated and parameter of type SparkSession is preferred."
     ]
    }
   ],
   "source": [
    "import pysparkling, h2o\n",
    "\n",
    "h2o_context = pysparkling.H2OContext.getOrCreate(sc)"
   ]
  },
  {
   "cell_type": "code",
   "execution_count": 5,
   "metadata": {
    "cell_status": {
     "execute_time": {
      "duration": 253.912109375,
      "end_time": 1614010322123.529
     }
    }
   },
   "outputs": [
    {
     "name": "stdout",
     "output_type": "stream",
     "text": [
      "--------------------------  ------------------------------------------------------------------\n",
      "H2O cluster uptime:         1 min 18 secs\n",
      "H2O cluster timezone:       Etc/UTC\n",
      "H2O data parsing timezone:  UTC\n",
      "H2O cluster version:        3.26.0.5\n",
      "H2O cluster version age:    1 year, 5 months and 6 days !!!\n",
      "H2O cluster name:           sparkling-water-yarn_application_1614009348742_0004\n",
      "H2O cluster total nodes:    3\n",
      "H2O cluster free memory:    55.58 Gb\n",
      "H2O cluster total cores:    24\n",
      "H2O cluster allowed cores:  9\n",
      "H2O cluster status:         locked, healthy\n",
      "H2O connection url:         http://10.0.0.13:54321\n",
      "H2O connection proxy:\n",
      "H2O internal security:      False\n",
      "H2O API Extensions:         XGBoost, Algos, Amazon S3, AutoML, Core V3, TargetEncoder, Core V4\n",
      "Python version:             2.7.12 final\n",
      "--------------------------  ------------------------------------------------------------------"
     ]
    }
   ],
   "source": [
    "h2o.cluster().show_status()"
   ]
  },
  {
   "cell_type": "code",
   "execution_count": 10,
   "metadata": {
    "cell_status": {
     "execute_time": {
      "duration": 6597.453125,
      "end_time": 1614010807385.779
     }
    }
   },
   "outputs": [
    {
     "name": "stdout",
     "output_type": "stream",
     "text": [
      "--2021-02-22 16:20:00--  https://archive.ics.uci.edu/ml/machine-learning-databases/00462/drugsCom_raw.zip\n",
      "Resolving archive.ics.uci.edu (archive.ics.uci.edu)... 128.195.10.252\n",
      "Connecting to archive.ics.uci.edu (archive.ics.uci.edu)|128.195.10.252|:443... connected.\n",
      "HTTP request sent, awaiting response... 200 OK\n",
      "Length: 42989872 (41M) [application/x-httpd-php]\n",
      "Saving to: ‘drugsCom_raw.zip’\n",
      "\n",
      "drugsCom_raw.zip    100%[===================>]  41.00M  91.2MB/s    in 0.4s    \n",
      "\n",
      "2021-02-22 16:20:01 (91.2 MB/s) - ‘drugsCom_raw.zip’ saved [42989872/42989872]\n",
      "\n",
      "Archive:  drugsCom_raw.zip\n",
      "  inflating: drugsComTest_raw.tsv    \n",
      "  inflating: drugsComTrain_raw.tsv   \n",
      "rm: `/drugs/data': No such file or directory\n"
     ]
    }
   ],
   "source": [
    "%%local\n",
    "\n",
    "! wget https://archive.ics.uci.edu/ml/machine-learning-databases/00462/drugsCom_raw.zip\n",
    "! unzip drugsCom_raw.zip\n",
    "! hdfs dfs -rm -r /drugs/data || true\n",
    "! hdfs dfs -mkdir -p /drugs/data"
   ]
  },
  {
   "cell_type": "code",
   "execution_count": 11,
   "metadata": {
    "cell_status": {
     "execute_time": {
      "duration": 3375.591796875,
      "end_time": 1614010820075.316
     }
    },
    "collapsed": true
   },
   "outputs": [],
   "source": [
    "%%bash\n",
    "\n",
    "cat drugsComTrain_raw.tsv <(tail -n +2 drugsComTest_raw.tsv) | hdfs dfs -put - /drugs/data/drugs.tsv"
   ]
  },
  {
   "cell_type": "code",
   "execution_count": 12,
   "metadata": {
    "cell_status": {
     "execute_time": {
      "duration": 2088.880126953125,
      "end_time": 1614010826492.644
     }
    }
   },
   "outputs": [
    {
     "name": "stdout",
     "output_type": "stream",
     "text": [
      "Found 1 items\r\n",
      "-rw-r--r--   1 spark supergroup    107.2 M 2021-02-22 16:20 /drugs/data/drugs.tsv\r\n"
     ]
    }
   ],
   "source": [
    "%%local\n",
    "\n",
    "! hdfs dfs -ls  -h /drugs/data"
   ]
  },
  {
   "cell_type": "markdown",
   "metadata": {},
   "source": [
    "Полезно заметить, что инструмент умеет самостоятельно понимать, какой формат данных вы читаете и сам его сразу же и парсить."
   ]
  },
  {
   "cell_type": "code",
   "execution_count": 59,
   "metadata": {
    "cell_status": {
     "execute_time": {
      "duration": 5269.408203125,
      "end_time": 1614016514486.568
     }
    }
   },
   "outputs": [
    {
     "name": "stdout",
     "output_type": "stream",
     "text": [
      "Parse progress: [#########################################################] 100%"
     ]
    }
   ],
   "source": [
    "df = h2o.import_file(\"wasb:///drugs/data/drugs.tsv\")"
   ]
  },
  {
   "cell_type": "code",
   "execution_count": 60,
   "metadata": {
    "cell_status": {
     "execute_time": {
      "duration": 248.093017578125,
      "end_time": 1614016514745.852
     }
    }
   },
   "outputs": [
    {
     "name": "stdout",
     "output_type": "stream",
     "text": [
      "  drugName  condition                           review                        rating                                                                                                                                                                                                                                                                                                                                                                                                                                                                                                                                                                                                                                                                                                                                                               date  usefulCount          C7\n",
      "----------  ----------------------------------  ----------------------------  -----------------------------------------------------------------------------------------------------------------------------------------------------------------------------------------------------------------------------------------------------------------------------------------------------------------------------------------------------------------------------------------------------------------------------------------------------------------------------------------------------------------------------------------------------------------------------------------------------------------------------------------------------------------------------------------------------------------------------------------------------------------  ------  -----------------  ----\n",
      "    206461  Valsartan                           Left Ventricular Dysfunction  \"It has no side effect, I take it in combination of Bystolic 5 Mg and Fish Oil\"                                                                                                                                                                                                                                                                                                                                                                                                                                                                                                                                                                                                                                                                                         9  May 20, 2012         27\n",
      "     95260  Guanfacine                          ADHD                          \"My son is halfway through his fourth week of Intuniv. We became concerned when he began this last week, when he started taking the highest dose he will be on. For two days, he could hardly get out of bed, was very cranky, and slept for nearly 8 hours on a drive home from school vacation (very unusual for him.) I called his doctor on Monday morning and she said to stick it out a few days. See how he did at school, and with getting up in the morning. The last two days have been problem free. He is MUCH more agreeable than ever. He is less emotional (a good thing), less cranky. He is remembering all the things he should. Overall his behavior is better.                                                                                      8  April 27, 2010      192\n",
      "                                                                              We have tried many different medications and so far this is the most effective.\"\n",
      "     92703  Lybrel                              Birth Control                 \"I used to take another oral contraceptive, which had 21 pill cycle, and was very happy- very light periods, max 5 days, no other side effects. But it contained hormone gestodene, which is not available in US, so I switched to Lybrel, because the ingredients are similar. When my other pills ended, I started Lybrel immediately, on my first day of period, as the instructions said. And the period lasted for two weeks. When taking the second pack- same two weeks. And now, with third pack things got even worse- my third period lasted for two weeks and now it&#039;s the end of the third week- I still have daily brown discharge.                                                                                                                   5  December 14, 2009    17\n",
      "                                                                              The positive side is that I didn&#039;t have any other side effects. The idea of being period free was so tempting... Alas.\"\n",
      "    138000  Ortho Evra                          Birth Control                 \"This is my first time using any form of birth control. I&#039;m glad I went with the patch, I have been on it for 8 months. At first It decreased my libido but that subsided. The only downside is that it made my periods longer (5-6 days to be exact) I used to only have periods for 3-4 days max also made my cramps intense for the first two days of my period, I never had cramps before using birth control. Other than that in happy with the patch\"                                                                                                                                                                                                                                                                                                        8  November 3, 2015     10\n",
      "     35696  Buprenorphine / naloxone            Opiate Dependence             \"Suboxone has completely turned my life around.  I feel healthier, I&#039;m excelling at my job and I always have money in my pocket and my savings account.  I had none of those before Suboxone and spent years abusing oxycontin.  My paycheck was already spent by the time I got it and I started resorting to scheming and stealing to fund my addiction.  All that is history.  If you&#039;re ready to stop, there&#039;s a good chance that suboxone will put you on the path of great life again.  I have found the side-effects to be minimal compared to oxycontin.  I&#039;m actually sleeping better.   Slight constipation is about it for me.  It truly is amazing. The cost pales in comparison to what I spent on oxycontin.\"                         9  November 27, 2016    37\n",
      "    155963  Cialis                              Benign Prostatic Hyperplasia  \"2nd day on 5mg started to work with rock hard erections however experianced headache, lower bowel preassure. 3rd day erections would wake me up &amp; hurt! Leg/ankles aches   severe lower bowel preassure like you need to go #2 but can&#039;t! Enjoyed the initial rockhard erections but not at these side effects or $230 for months supply! I&#039;m 50 &amp; work out 3Xs a week. Not worth side effects!\"                                                                                                                                                                                                                                                                                                                                                     2  November 28, 2015    43\n",
      "    165907  Levonorgestrel                      Emergency Contraception       \"He pulled out, but he cummed a bit in me. I took the Plan B 26 hours later, and took a pregnancy test two weeks later - - I&#039;m pregnant.\"                                                                                                                                                                                                                                                                                                                                                                                                                                                                                                                                                                                                                          1  March 7, 2017         5\n",
      "    102654  Aripiprazole                        Bipolar Disorde               \"Abilify changed my life. There is hope. I was on Zoloft and Clonidine when I first started Abilify at the age of 15.. Zoloft for depression and Clondine to manage my complete rage. My moods were out of control. I was depressed and hopeless one second and then mean, irrational, and full of rage the next. My Dr. prescribed me 2mg of Abilify and from that point on I feel like I have been cured though I know I&#039;m not.. Bi-polar disorder is a constant battle. I know Abilify works for me because I have tried to get off it and lost complete control over my emotions. Went back on it and I was golden again.  I am on 5mg 2x daily. I am now 21 and better than I have ever been in the past. Only side effect is I like to eat a lot.\"          10  March 14, 2015       32\n",
      "     74811  Keppra                              Epilepsy                      \" I Ve had  nothing but problems with the Keppera : constant shaking in my arms &amp; legs &amp; pins &amp; needles feeling in my arms &amp; legs severe light headedness no appetite &amp; etc.\"                                                                                                                                                                                                                                                                                                                                                                                                                                                                                                                                                                       1  August 9, 2016       11\n",
      "     48928  Ethinyl estradiol / levonorgestrel  Birth Control                 \"I had been on the pill for many years. When my doctor changed my RX to chateal, it was as effective. It really did help me by completely clearing my acne, this takes about 6 months though. I did not gain extra weight, or develop any emotional health issues. I stopped taking it bc I started using a more natural method of birth control, but started to take it bc I hate that my acne came back at age 28. I really hope symptoms like depression, or weight gain do not begin to affect me as I am older now. I&#039;m also naturally moody, so this may worsen things. I was in a negative mental rut today. Also I hope this doesn&#039;t push me over the edge, as I believe I am depressed. Hopefully it&#039;ll be just like when I was younger.\"       8  December 8, 2016      1\n",
      "\n",
      "[215073 rows x 7 columns]"
     ]
    }
   ],
   "source": [
    "df"
   ]
  },
  {
   "cell_type": "markdown",
   "metadata": {},
   "source": [
    "Увы в Azure настолько старая версия кластера, что сюда даже tf-idf не завезли. Так что на этот раз мы с вами без текстов, но в реальной жизни просто разворачивайте последнюю версию кластера и будет вам счастье."
   ]
  },
  {
   "cell_type": "code",
   "execution_count": 61,
   "metadata": {
    "cell_status": {
     "execute_time": {
      "duration": 36.035888671875,
      "end_time": 1614016514794.583
     }
    }
   },
   "outputs": [
    {
     "name": "stderr",
     "output_type": "stream",
     "text": [
      "No module named information_retrieval.tf_idf\n",
      "Traceback (most recent call last):\n",
      "ImportError: No module named information_retrieval.tf_idf\n",
      "\n"
     ]
    }
   ],
   "source": [
    "from h2o.information_retrieval.tf_idf import tf_idf"
   ]
  },
  {
   "cell_type": "code",
   "execution_count": 62,
   "metadata": {
    "cell_status": {
     "execute_time": {
      "duration": 33.642822265625,
      "end_time": 1614016514839.283
     }
    },
    "collapsed": true
   },
   "outputs": [],
   "source": [
    "df['drugName'] = df['drugName'].ascharacter().asfactor()\n",
    "df['condition'] = df['condition'].ascharacter().asfactor()\n",
    "df['usefulCount'] = df['usefulCount'].asnumeric()"
   ]
  },
  {
   "cell_type": "code",
   "execution_count": 63,
   "metadata": {
    "cell_status": {
     "execute_time": {
      "duration": 1257.761962890625,
      "end_time": 1614016516108.148
     }
    }
   },
   "outputs": [
    {
     "name": "stdout",
     "output_type": "stream",
     "text": [
      "  drugName  condition                           review                        rating                                                                                                                                                                                                                                                                                                                                                                                                                                                                                                                                                                                                                                                                                                                                                               date    usefulCount    C7\n",
      "----------  ----------------------------------  ----------------------------  -----------------------------------------------------------------------------------------------------------------------------------------------------------------------------------------------------------------------------------------------------------------------------------------------------------------------------------------------------------------------------------------------------------------------------------------------------------------------------------------------------------------------------------------------------------------------------------------------------------------------------------------------------------------------------------------------------------------------------------------------------------------  ------  -------------  ----\n",
      "    206461  Valsartan                           Left Ventricular Dysfunction  \"It has no side effect, I take it in combination of Bystolic 5 Mg and Fish Oil\"                                                                                                                                                                                                                                                                                                                                                                                                                                                                                                                                                                                                                                                                                         9           2483    27\n",
      "     95260  Guanfacine                          ADHD                          \"My son is halfway through his fourth week of Intuniv. We became concerned when he began this last week, when he started taking the highest dose he will be on. For two days, he could hardly get out of bed, was very cranky, and slept for nearly 8 hours on a drive home from school vacation (very unusual for him.) I called his doctor on Monday morning and she said to stick it out a few days. See how he did at school, and with getting up in the morning. The last two days have been problem free. He is MUCH more agreeable than ever. He is less emotional (a good thing), less cranky. He is remembering all the things he should. Overall his behavior is better.                                                                                      8            192   192\n",
      "                                                                              We have tried many different medications and so far this is the most effective.\"\n",
      "     92703  Lybrel                              Birth Control                 \"I used to take another oral contraceptive, which had 21 pill cycle, and was very happy- very light periods, max 5 days, no other side effects. But it contained hormone gestodene, which is not available in US, so I switched to Lybrel, because the ingredients are similar. When my other pills ended, I started Lybrel immediately, on my first day of period, as the instructions said. And the period lasted for two weeks. When taking the second pack- same two weeks. And now, with third pack things got even worse- my third period lasted for two weeks and now it&#039;s the end of the third week- I still have daily brown discharge.                                                                                                                   5            660    17\n",
      "                                                                              The positive side is that I didn&#039;t have any other side effects. The idea of being period free was so tempting... Alas.\"\n",
      "    138000  Ortho Evra                          Birth Control                 \"This is my first time using any form of birth control. I&#039;m glad I went with the patch, I have been on it for 8 months. At first It decreased my libido but that subsided. The only downside is that it made my periods longer (5-6 days to be exact) I used to only have periods for 3-4 days max also made my cramps intense for the first two days of my period, I never had cramps before using birth control. Other than that in happy with the patch\"                                                                                                                                                                                                                                                                                                        8           2896    10\n",
      "     35696  Buprenorphine / naloxone            Opiate Dependence             \"Suboxone has completely turned my life around.  I feel healthier, I&#039;m excelling at my job and I always have money in my pocket and my savings account.  I had none of those before Suboxone and spent years abusing oxycontin.  My paycheck was already spent by the time I got it and I started resorting to scheming and stealing to fund my addiction.  All that is history.  If you&#039;re ready to stop, there&#039;s a good chance that suboxone will put you on the path of great life again.  I have found the side-effects to be minimal compared to oxycontin.  I&#039;m actually sleeping better.   Slight constipation is about it for me.  It truly is amazing. The cost pales in comparison to what I spent on oxycontin.\"                         9           2867    37\n",
      "    155963  Cialis                              Benign Prostatic Hyperplasia  \"2nd day on 5mg started to work with rock hard erections however experianced headache, lower bowel preassure. 3rd day erections would wake me up &amp; hurt! Leg/ankles aches   severe lower bowel preassure like you need to go #2 but can&#039;t! Enjoyed the initial rockhard erections but not at these side effects or $230 for months supply! I&#039;m 50 &amp; work out 3Xs a week. Not worth side effects!\"                                                                                                                                                                                                                                                                                                                                                     2           2876    43\n",
      "    165907  Levonorgestrel                      Emergency Contraception       \"He pulled out, but he cummed a bit in me. I took the Plan B 26 hours later, and took a pregnancy test two weeks later - - I&#039;m pregnant.\"                                                                                                                                                                                                                                                                                                                                                                                                                                                                                                                                                                                                                          1           2338     5\n",
      "    102654  Aripiprazole                        Bipolar Disorde               \"Abilify changed my life. There is hope. I was on Zoloft and Clonidine when I first started Abilify at the age of 15.. Zoloft for depression and Clondine to manage my complete rage. My moods were out of control. I was depressed and hopeless one second and then mean, irrational, and full of rage the next. My Dr. prescribed me 2mg of Abilify and from that point on I feel like I have been cured though I know I&#039;m not.. Bi-polar disorder is a constant battle. I know Abilify works for me because I have tried to get off it and lost complete control over my emotions. Went back on it and I was golden again.  I am on 5mg 2x daily. I am now 21 and better than I have ever been in the past. Only side effect is I like to eat a lot.\"          10           2106    32\n",
      "     74811  Keppra                              Epilepsy                      \" I Ve had  nothing but problems with the Keppera : constant shaking in my arms &amp; legs &amp; pins &amp; needles feeling in my arms &amp; legs severe light headedness no appetite &amp; etc.\"                                                                                                                                                                                                                                                                                                                                                                                                                                                                                                                                                                       1            608    11\n",
      "     48928  Ethinyl estradiol / levonorgestrel  Birth Control                 \"I had been on the pill for many years. When my doctor changed my RX to chateal, it was as effective. It really did help me by completely clearing my acne, this takes about 6 months though. I did not gain extra weight, or develop any emotional health issues. I stopped taking it bc I started using a more natural method of birth control, but started to take it bc I hate that my acne came back at age 28. I really hope symptoms like depression, or weight gain do not begin to affect me as I am older now. I&#039;m also naturally moody, so this may worsen things. I was in a negative mental rut today. Also I hope this doesn&#039;t push me over the edge, as I believe I am depressed. Hopefully it&#039;ll be just like when I was younger.\"       8            889     1\n",
      "\n",
      "[215073 rows x 7 columns]"
     ]
    }
   ],
   "source": [
    "df"
   ]
  },
  {
   "cell_type": "markdown",
   "metadata": {},
   "source": [
    "Говорим, что признаки, а что - целевая переменная в нашей таблице."
   ]
  },
  {
   "cell_type": "code",
   "execution_count": 64,
   "metadata": {
    "cell_status": {
     "execute_time": {
      "duration": 32.6708984375,
      "end_time": 1614016544417.957
     }
    }
   },
   "outputs": [],
   "source": [
    "fcolumns = [\"condition\", \"drugName\", \"rating\"]\n",
    "target = 'usefulCount'"
   ]
  },
  {
   "cell_type": "code",
   "execution_count": 65,
   "metadata": {
    "cell_status": {
     "execute_time": {
      "duration": 2254.26708984375,
      "end_time": 1614016547457.043
     }
    }
   },
   "outputs": [],
   "source": [
    "train, valid= df.split_frame(ratios = [.7], seed = 7665)"
   ]
  },
  {
   "cell_type": "markdown",
   "metadata": {},
   "source": [
    "Будем обучать градиентный бустинг. Так как это распределенный алгоритм на деревьях, то мы можем подтюнить параметры бинов (корзинок) для feature binning.\n",
    "\n",
    "`nbins_cats` - это количество корзинок, которое необходимо выделить для работы с категориальными признаками.\n",
    "\n",
    "`nbins` - количество корзинок для вещественных признаков."
   ]
  },
  {
   "cell_type": "code",
   "execution_count": 69,
   "metadata": {
    "cell_status": {
     "execute_time": {
      "duration": 37.81298828125,
      "end_time": 1614016575008.519
     }
    },
    "collapsed": true
   },
   "outputs": [],
   "source": [
    "from h2o.estimators.gbm import H2OGradientBoostingEstimator\n",
    "\n",
    "gbm = H2OGradientBoostingEstimator(nbins_cats=512, nbins=32, ntrees=13, learn_rate=0.09, seed=7896)"
   ]
  },
  {
   "cell_type": "code",
   "execution_count": 70,
   "metadata": {
    "cell_status": {
     "execute_time": {
      "duration": 7280.703857421875,
      "end_time": 1614016582455.66
     }
    }
   },
   "outputs": [
    {
     "name": "stdout",
     "output_type": "stream",
     "text": [
      "gbm Model Build progress: [###############################################] 100%"
     ]
    }
   ],
   "source": [
    "gbm.train(x = fcolumns, y = target, training_frame = train, validation_frame = valid)"
   ]
  },
  {
   "cell_type": "code",
   "execution_count": 71,
   "metadata": {
    "cell_status": {
     "execute_time": {
      "duration": 31.322998046875,
      "end_time": 1614016582498.079
     }
    }
   },
   "outputs": [
    {
     "name": "stdout",
     "output_type": "stream",
     "text": [
      "0.005611239991560324"
     ]
    }
   ],
   "source": [
    "gbm.r2(valid=True)"
   ]
  },
  {
   "cell_type": "markdown",
   "metadata": {},
   "source": [
    "Качество плохое, потому что мы не использовали текст. Чтобы как-то реабилитировать H2O в ваших глазах, давайте возьмем какой-нить датасет, где нет текста, а есть только категории и вещественные признаки и обучим бустинг там."
   ]
  },
  {
   "cell_type": "markdown",
   "metadata": {
    "collapsed": true
   },
   "source": [
    "В качестве такого датасета возьмем датасет с airbnb. Нам будет необходимо по различным параметрам предсказывать стоимость аппартаментов."
   ]
  },
  {
   "cell_type": "code",
   "execution_count": 72,
   "metadata": {
    "cell_status": {
     "execute_time": {
      "duration": 6136.31298828125,
      "end_time": 1614017779601.973
     }
    }
   },
   "outputs": [
    {
     "name": "stdout",
     "output_type": "stream",
     "text": [
      "--2021-02-22 18:16:13--  https://raw.githubusercontent.com/ADKosm/lsml-2021-public/main/data/airbnb-300k.tsv\n",
      "Resolving raw.githubusercontent.com (raw.githubusercontent.com)... 185.199.110.133, 185.199.111.133, 185.199.108.133, ...\n",
      "Connecting to raw.githubusercontent.com (raw.githubusercontent.com)|185.199.110.133|:443... connected.\n",
      "HTTP request sent, awaiting response... 200 OK\n",
      "Length: 23835269 (23M) [text/plain]\n",
      "Saving to: ‘airbnb-300k.tsv’\n",
      "\n",
      "airbnb-300k.tsv     100%[===================>]  22.73M  --.-KB/s    in 0.1s    \n",
      "\n",
      "2021-02-22 18:16:14 (189 MB/s) - ‘airbnb-300k.tsv’ saved [23835269/23835269]\n",
      "\n"
     ]
    }
   ],
   "source": [
    "%%local\n",
    "\n",
    "! wget https://raw.githubusercontent.com/ADKosm/lsml-2021-public/main/data/airbnb-300k.tsv\n",
    "! hdfs dfs -mkdir -p /airbnb\n",
    "! hdfs dfs -put airbnb-300k.tsv /airbnb/data.tsv"
   ]
  },
  {
   "cell_type": "code",
   "execution_count": 73,
   "metadata": {
    "cell_status": {
     "execute_time": {
      "duration": 5291.954833984375,
      "end_time": 1614017826225.448
     }
    }
   },
   "outputs": [
    {
     "name": "stdout",
     "output_type": "stream",
     "text": [
      "Parse progress: [#########################################################] 100%"
     ]
    }
   ],
   "source": [
    "df = h2o.import_file(\"wasb:///airbnb/data.tsv\")"
   ]
  },
  {
   "cell_type": "code",
   "execution_count": 74,
   "metadata": {
    "cell_status": {
     "execute_time": {
      "duration": 240.64794921875,
      "end_time": 1614017826479.438
     }
    }
   },
   "outputs": [
    {
     "name": "stdout",
     "output_type": "stream",
     "text": [
      "  Price  City                        Zipcode  Last scraped         Country code    Property type    Room type        Bed type         Accommodates    Bathrooms    Bedrooms\n",
      "-------  ------------------------  ---------  -------------------  --------------  ---------------  ---------------  -------------  --------------  -----------  ----------\n",
      "     50  Paris                         75011  2017-04-06 00:00:00  FR              Apartment        Private room     Real Bed                    2            1           1\n",
      "    125  Paris                         75011  2017-04-05 00:00:00  FR              Apartment        Entire home/apt  Real Bed                    4            1           1\n",
      "     59  Paris                         75011  2017-04-05 00:00:00  FR              Apartment        Entire home/apt  Pull-out Sofa               2            1           0\n",
      "     50  Paris                         75011  2017-04-06 00:00:00  FR              Apartment        Entire home/apt  Real Bed                    2            1           1\n",
      "     48  Paris-11E-Arrondissement      75011  2017-04-06 00:00:00  FR              Apartment        Entire home/apt  Real Bed                    2            1           0\n",
      "     85  Paris                         75011  2017-04-05 00:00:00  FR              Apartment        Entire home/apt  Real Bed                    4            1           1\n",
      "     64  Paris                         75011  2017-04-06 00:00:00  FR              Apartment        Entire home/apt  Real Bed                    2            1           1\n",
      "    150  Paris-11E-Arrondissement      75011  2017-04-05 00:00:00  FR              Apartment        Entire home/apt  Real Bed                    4            1           1\n",
      "     60  Paris                         75011  2017-04-05 00:00:00  FR              Apartment        Entire home/apt  Real Bed                    3          nan           1\n",
      "     59  Paris                         75011  2017-04-05 00:00:00  FR              Apartment        Entire home/apt  Real Bed                    2            1           0\n",
      "\n",
      "[300021 rows x 11 columns]"
     ]
    }
   ],
   "source": [
    "df"
   ]
  },
  {
   "cell_type": "markdown",
   "metadata": {},
   "source": [
    "Кодируем признаки"
   ]
  },
  {
   "cell_type": "code",
   "execution_count": 75,
   "metadata": {
    "cell_status": {
     "execute_time": {
      "duration": 32.8330078125,
      "end_time": 1614017833376.712
     }
    },
    "collapsed": true
   },
   "outputs": [],
   "source": [
    "cat_col = [\"City\", \"Zipcode\", \"Last scraped\", \"Country code\", \"Property type\", \"Room type\", \"Bed type\"]"
   ]
  },
  {
   "cell_type": "code",
   "execution_count": 76,
   "metadata": {
    "cell_status": {
     "execute_time": {
      "duration": 34.576171875,
      "end_time": 1614017841653.665
     }
    },
    "collapsed": true
   },
   "outputs": [],
   "source": [
    "for cc in cat_col:\n",
    "    df[cc] = df[cc].ascharacter().asfactor()"
   ]
  },
  {
   "cell_type": "code",
   "execution_count": 78,
   "metadata": {
    "cell_status": {
     "execute_time": {
      "duration": 34.341064453125,
      "end_time": 1614017880153.871
     }
    }
   },
   "outputs": [],
   "source": [
    "fcolumns = [\"City\", \"Zipcode\", \"Last scraped\", \"Country code\", \"Property type\", \"Room type\", \"Bed type\", \"Accommodates\", \"Bathrooms\", \"Bedrooms\"]\n",
    "target = \"Price\""
   ]
  },
  {
   "cell_type": "code",
   "execution_count": 79,
   "metadata": {
    "cell_status": {
     "execute_time": {
      "duration": 2255.6162109375,
      "end_time": 1614017891239.196
     }
    },
    "collapsed": true
   },
   "outputs": [],
   "source": [
    "train, valid= df.split_frame(ratios = [.7], seed = 7665)"
   ]
  },
  {
   "cell_type": "code",
   "execution_count": 80,
   "metadata": {
    "cell_status": {
     "execute_time": {
      "duration": 43.56494140625,
      "end_time": 1614017899391.223
     }
    },
    "collapsed": true
   },
   "outputs": [],
   "source": [
    "from h2o.estimators.gbm import H2OGradientBoostingEstimator\n",
    "\n",
    "gbm = H2OGradientBoostingEstimator(nbins_cats=2048, nbins=64, ntrees=13, learn_rate=0.09, seed=7896)"
   ]
  },
  {
   "cell_type": "code",
   "execution_count": 81,
   "metadata": {
    "cell_status": {
     "execute_time": {
      "duration": 3263.1240234375,
      "end_time": 1614017920296.479
     }
    }
   },
   "outputs": [
    {
     "name": "stdout",
     "output_type": "stream",
     "text": [
      "gbm Model Build progress: [###############################################] 100%"
     ]
    }
   ],
   "source": [
    "gbm.train(x = fcolumns, y = target, training_frame = train, validation_frame = valid)"
   ]
  },
  {
   "cell_type": "code",
   "execution_count": 82,
   "metadata": {
    "cell_status": {
     "execute_time": {
      "duration": 28.22900390625,
      "end_time": 1614017927358.028
     }
    }
   },
   "outputs": [
    {
     "name": "stdout",
     "output_type": "stream",
     "text": [
      "0.6234217428516223"
     ]
    }
   ],
   "source": [
    "gbm.r2(valid=True)"
   ]
  },
  {
   "cell_type": "markdown",
   "metadata": {},
   "source": [
    "Обучение прошло очень быстро, а полученное качество весьма неплохо для данной задачи!"
   ]
  },
  {
   "cell_type": "code",
   "execution_count": null,
   "metadata": {
    "collapsed": true
   },
   "outputs": [],
   "source": []
  },
  {
   "cell_type": "markdown",
   "metadata": {
    "collapsed": true
   },
   "source": [
    "В конце попробуем поиграться с еще одной реализацией распределенного градиентного бустинга. В этот раз от компании Microsoft. В наболе MMLSpark, с которым мы с вами уже работали, если инструмент LightGBM."
   ]
  },
  {
   "cell_type": "code",
   "execution_count": 1,
   "metadata": {
    "cell_status": {
     "execute_time": {
      "duration": 20.969970703125,
      "end_time": 1614020542904.194
     }
    }
   },
   "outputs": [
    {
     "data": {
      "text/html": [
       "Current session configs: <tt>{u'kind': 'pyspark', u'name': u'mmlspark', u'conf': {u'spark.jars.packages': u'com.microsoft.ml.spark:mmlspark_2.11:1.0.0-rc3', u'spark.jars.repositories': u'https://mmlspark.azureedge.net/maven', u'spark.jars.excludes': u'org.scala-lang:scala-reflect,org.apache.spark:spark-tags_2.11,org.scalactic:scalactic_2.11,org.scalatest:scalatest_2.11'}}</tt><br>"
      ],
      "text/plain": [
       "<IPython.core.display.HTML object>"
      ]
     },
     "metadata": {},
     "output_type": "display_data"
    },
    {
     "data": {
      "text/html": [
       "No active sessions."
      ],
      "text/plain": [
       "<IPython.core.display.HTML object>"
      ]
     },
     "metadata": {},
     "output_type": "display_data"
    }
   ],
   "source": [
    "%%configure -f\n",
    "{\n",
    "    \"name\": \"mmlspark\",\n",
    "    \"conf\": {\n",
    "        \"spark.jars.packages\": \"com.microsoft.ml.spark:mmlspark_2.11:1.0.0-rc3\",\n",
    "        \"spark.jars.repositories\": \"https://mmlspark.azureedge.net/maven\",\n",
    "        \"spark.jars.excludes\": \"org.scala-lang:scala-reflect,org.apache.spark:spark-tags_2.11,org.scalactic:scalactic_2.11,org.scalatest:scalatest_2.11\"\n",
    "    }\n",
    "}"
   ]
  },
  {
   "cell_type": "code",
   "execution_count": 2,
   "metadata": {
    "cell_status": {
     "execute_time": {
      "duration": 13565.42578125,
      "end_time": 1614020619056.023
     }
    }
   },
   "outputs": [
    {
     "name": "stdout",
     "output_type": "stream",
     "text": [
      "Starting Spark application\n"
     ]
    },
    {
     "data": {
      "text/html": [
       "<table>\n",
       "<tr><th>ID</th><th>YARN Application ID</th><th>Kind</th><th>State</th><th>Spark UI</th><th>Driver log</th><th>Current session?</th></tr><tr><td>7</td><td>application_1614009348742_0011</td><td>pyspark</td><td>idle</td><td><a target=\"_blank\" href=\"http://hn1-lsml-h.axexy4k5kbfuxexn2dl0fl3zub.dx.internal.cloudapp.net:8088/proxy/application_1614009348742_0011/\">Link</a></td><td><a target=\"_blank\" href=\"http://wn3-lsml-h.axexy4k5kbfuxexn2dl0fl3zub.dx.internal.cloudapp.net:30060/node/containerlogs/container_1614009348742_0011_01_000001/livy\">Link</a></td><td>✔</td></tr></table>"
      ],
      "text/plain": [
       "<IPython.core.display.HTML object>"
      ]
     },
     "metadata": {},
     "output_type": "display_data"
    },
    {
     "name": "stdout",
     "output_type": "stream",
     "text": [
      "SparkSession available as 'spark'.\n",
      "/usr/bin/anaconda/lib/python2.7/site-packages/matplotlib/font_manager.py:273: UserWarning: Matplotlib is building the font cache using fc-list. This may take a moment.\n",
      "  warnings.warn('Matplotlib is building the font cache using fc-list. This may take a moment.')"
     ]
    }
   ],
   "source": [
    "data = spark.read.option(\"delimiter\", \"\\t\").csv('/airbnb/data.tsv', header=True, inferSchema=True)\n",
    "train, test = (\n",
    "    data\n",
    "    .na.drop('any')\n",
    "    .withColumn('PriceN', data.Price.cast('integer'))\n",
    "    .randomSplit([0.9, 0.1], 422)\n",
    ")"
   ]
  },
  {
   "cell_type": "code",
   "execution_count": 3,
   "metadata": {
    "cell_status": {
     "execute_time": {
      "duration": 3264.985107421875,
      "end_time": 1614020622335.151
     }
    }
   },
   "outputs": [
    {
     "name": "stdout",
     "output_type": "stream",
     "text": [
      "+-----+---------------+-------+------------+------------+-------------+---------------+--------+------------+---------+--------+------+\n",
      "|Price|           City|Zipcode|Last scraped|Country code|Property type|      Room type|Bed type|Accommodates|Bathrooms|Bedrooms|PriceN|\n",
      "+-----+---------------+-------+------------+------------+-------------+---------------+--------+------------+---------+--------+------+\n",
      "|  0.0|         Austin|  78741|  2017-03-07|          US|    Apartment|   Private room|Real Bed|         2.0|      1.0|     1.0|     0|\n",
      "|  0.0|         Berlin|  13353|  2017-05-08|          DE|    Apartment|   Private room|Real Bed|         2.0|      1.0|     1.0|     0|\n",
      "|  0.0|          Bronx|  10460|  2017-10-02|          US|    Apartment|   Private room|Real Bed|         2.0|      1.5|     1.0|     0|\n",
      "|  0.0|          Bronx|  10461|  2017-10-03|          US|        House|Entire home/apt|Real Bed|         4.0|      1.0|     0.0|     0|\n",
      "|  0.0|       Brooklyn|  11203|  2017-10-02|          US|        House|   Private room|Real Bed|         4.0|      1.0|     1.0|     0|\n",
      "|  0.0|       Brooklyn|  11211|  2017-10-03|          US|    Apartment|Entire home/apt|Real Bed|         6.0|      2.0|     2.0|     0|\n",
      "|  0.0|       Brooklyn|  11216|  2017-10-02|          US|    Apartment|   Private room|Real Bed|         2.0|      1.0|     1.0|     0|\n",
      "|  0.0|       Brooklyn|  11233|  2017-10-03|          US|    Apartment|   Private room|Real Bed|         2.0|      1.0|     1.0|     0|\n",
      "|  0.0|      Edimburgo|EH7 5HN|  2017-09-18|          GB|    Apartment|   Private room|Real Bed|         2.0|      1.0|     1.0|     0|\n",
      "|  0.0|       Flushing|  11355|  2017-10-03|          US|        House|   Private room|Real Bed|         3.0|      1.0|     1.0|     0|\n",
      "|  0.0|       New York|  10003|  2017-10-03|          US|    Apartment|   Private room|Real Bed|         2.0|      1.0|     2.0|     0|\n",
      "|  0.0|       New York|  10025|  2017-10-03|          US|    Apartment|   Private room|Real Bed|         2.0|      1.0|     1.0|     0|\n",
      "|  0.0|         Queens|  11692|  2017-10-02|          US|    Apartment|   Private room|Real Bed|         2.0|      1.0|     1.0|     0|\n",
      "|  0.0|  San Francisco|  94110|  2017-10-02|          US|  Condominium|   Private room|Real Bed|         1.0|      1.0|     1.0|     0|\n",
      "|  0.0|  San Francisco|  94112|  2017-10-02|          US|        House|   Private room|Real Bed|         2.0|      1.0|     1.0|     0|\n",
      "|  0.0|           Wien|   1160|  2017-09-15|          AT|    Apartment|Entire home/apt|Real Bed|         4.0|      1.0|     1.0|     0|\n",
      "|  0.0|jackson heights|  11372|  2017-10-03|          US|        Other|    Shared room|Real Bed|         3.0|      1.0|     1.0|     0|\n",
      "| 10.0|         Athina| 104 38|  2017-05-09|          GR|    Apartment|    Shared room|Real Bed|         4.0|      1.0|     1.0|    10|\n",
      "| 10.0|         Athina| 117 44|  2017-05-09|          GR|    Apartment|    Shared room|Real Bed|        10.0|      2.0|     1.0|    10|\n",
      "| 10.0|      Barcelona|  08016|  2017-04-08|          ES|    Apartment|   Private room|Real Bed|         1.0|      1.0|     1.0|    10|\n",
      "+-----+---------------+-------+------------+------------+-------------+---------------+--------+------------+---------+--------+------+\n",
      "only showing top 20 rows"
     ]
    }
   ],
   "source": [
    "train.show()"
   ]
  },
  {
   "cell_type": "markdown",
   "metadata": {},
   "source": [
    "Для простоты, закодируем признаки через Hashing Trick, используя VWFeaturizer"
   ]
  },
  {
   "cell_type": "code",
   "execution_count": 4,
   "metadata": {
    "cell_status": {
     "execute_time": {
      "duration": 803.2861328125,
      "end_time": 1614020623153.321
     }
    }
   },
   "outputs": [],
   "source": [
    "from mmlspark.vw import VowpalWabbitFeaturizer\n",
    "fcolumns = [\"City\", \"Zipcode\", \"Last scraped\", \"Country code\", \"Property type\", \"Room type\", \"Bed type\", \"Accommodates\", \"Bathrooms\", \"Bedrooms\"]\n",
    "vw_featurizer = VowpalWabbitFeaturizer(\n",
    "    inputCols=fcolumns, \n",
    "    outputCol=\"features\",\n",
    "    numBits=20\n",
    ")"
   ]
  },
  {
   "cell_type": "code",
   "execution_count": 5,
   "metadata": {
    "cell_status": {
     "execute_time": {
      "duration": 745.238037109375,
      "end_time": 1614020623910.996
     }
    }
   },
   "outputs": [],
   "source": [
    "train = vw_featurizer.transform(train)\n",
    "test = vw_featurizer.transform(test)"
   ]
  },
  {
   "cell_type": "code",
   "execution_count": 6,
   "metadata": {
    "cell_status": {
     "execute_time": {
      "duration": 3268.546875,
      "end_time": 1614020627191.05
     }
    }
   },
   "outputs": [
    {
     "name": "stdout",
     "output_type": "stream",
     "text": [
      "Row(Price=u'0.0', City=u'Austin', Zipcode=u'78741', Last scraped=u'2017-03-07', Country code=u'US', Property type=u'Apartment', Room type=u'Private room', Bed type=u'Real Bed', Accommodates=2.0, Bathrooms=1.0, Bedrooms=1.0, PriceN=0, features=SparseVector(1048576, {137222: 1.0, 161166: 1.0, 186238: 1.0, 268028: 1.0, 462415: 1.0, 584524: 1.0, 638668: 1.0, 645771: 1.0, 649339: 2.0, 960043: 1.0}))"
     ]
    }
   ],
   "source": [
    "train.rdd.first()"
   ]
  },
  {
   "cell_type": "markdown",
   "metadata": {},
   "source": [
    "Запускаем обучаться LightGBM распределенно на кластере. Здесь также можно подкрутить количество корзинок, которое будет использоваться при обучении."
   ]
  },
  {
   "cell_type": "code",
   "execution_count": 7,
   "metadata": {
    "cell_status": {
     "execute_time": {
      "duration": 237.64794921875,
      "end_time": 1614020627439.958
     }
    }
   },
   "outputs": [],
   "source": [
    "from mmlspark.lightgbm import LightGBMRegressor\n",
    "model = LightGBMRegressor(\n",
    "    objective='quantile',\n",
    "    maxBin=255,\n",
    "    labelCol='PriceN',\n",
    "    alpha=0.2,\n",
    "    learningRate=0.3\n",
    ")"
   ]
  },
  {
   "cell_type": "code",
   "execution_count": 8,
   "metadata": {
    "cell_status": {
     "execute_time": {
      "duration": 155814.49096679688,
      "end_time": 1614020783264.882
     }
    }
   },
   "outputs": [],
   "source": [
    "model = model.fit(train)"
   ]
  },
  {
   "cell_type": "code",
   "execution_count": 9,
   "metadata": {
    "cell_status": {
     "execute_time": {
      "duration": 29.428955078125,
      "end_time": 1614020783304.19
     }
    }
   },
   "outputs": [
    {
     "name": "stdout",
     "output_type": "stream",
     "text": [
      "['__abstractmethods__', '__class__', '__del__', '__delattr__', '__dict__', '__doc__', '__format__', '__getattribute__', '__hash__', '__init__', '__metaclass__', '__module__', '__new__', '__reduce__', '__reduce_ex__', '__repr__', '__setattr__', '__sizeof__', '__str__', '__subclasshook__', '__weakref__', '_abc_cache', '_abc_negative_cache', '_abc_negative_cache_version', '_abc_registry', '_call_java', '_clear', '_copyValues', '_copy_params', '_create_from_java_class', '_create_params_from_java', '_defaultParamMap', '_dummy', '_empty_java_param_map', '_from_java', '_java_obj', '_make_java_param_pair', '_new_java_array', '_new_java_obj', '_paramMap', '_params', '_randomUID', '_resetUid', '_resolveParam', '_set', '_setDefault', '_shouldOwn', '_to_java', '_transfer_param_map_from_java', '_transfer_param_map_to_java', '_transfer_params_from_java', '_transfer_params_to_java', '_transform', 'copy', 'explainParam', 'explainParams', 'extractParamMap', 'getFeatureImportances', 'getFeatureShaps', 'getJavaPackage', 'getOrDefault', 'getParam', 'hasDefault', 'hasParam', 'isDefined', 'isSet', 'load', 'loadNativeModelFromFile', 'loadNativeModelFromString', 'params', 'read', 'save', 'saveNativeModel', 'set', 'transform', 'uid', 'write']"
     ]
    }
   ],
   "source": [
    "dir(model)"
   ]
  },
  {
   "cell_type": "code",
   "execution_count": 10,
   "metadata": {
    "cell_status": {
     "execute_time": {
      "duration": 10140.666015625,
      "end_time": 1614020793460.377
     }
    }
   },
   "outputs": [
    {
     "name": "stdout",
     "output_type": "stream",
     "text": [
      "DataFrame[mean_squared_error: double, root_mean_squared_error: double, R^2: double, mean_absolute_error: double]"
     ]
    }
   ],
   "source": [
    "from mmlspark.train import ComputeModelStatistics\n",
    "\n",
    "prediction = model.transform(test)\n",
    "\n",
    "metrics = ComputeModelStatistics(\n",
    "    evaluationMetric='regression',\n",
    "    labelCol='PriceN',\n",
    "    scoresCol='prediction'\n",
    ").transform(prediction)"
   ]
  },
  {
   "cell_type": "code",
   "execution_count": 11,
   "metadata": {
    "cell_status": {
     "execute_time": {
      "duration": 931.734130859375,
      "end_time": 1614020802781.913
     }
    }
   },
   "outputs": [
    {
     "name": "stdout",
     "output_type": "stream",
     "text": [
      "+------------------+-----------------------+------------------+-------------------+\n",
      "|mean_squared_error|root_mean_squared_error|               R^2|mean_absolute_error|\n",
      "+------------------+-----------------------+------------------+-------------------+\n",
      "| 9158.410046390361|      95.69958226863042|0.5477662708112963|  50.27381583977375|\n",
      "+------------------+-----------------------+------------------+-------------------+"
     ]
    }
   ],
   "source": [
    "metrics.show()"
   ]
  },
  {
   "cell_type": "code",
   "execution_count": null,
   "metadata": {
    "collapsed": true
   },
   "outputs": [],
   "source": []
  }
 ],
 "metadata": {
  "kernelspec": {
   "display_name": "PySpark",
   "language": "",
   "name": "pysparkkernel"
  },
  "language_info": {
   "codemirror_mode": {
    "name": "python",
    "version": 2
   },
   "mimetype": "text/x-python",
   "name": "pyspark",
   "pygments_lexer": "python2"
  }
 },
 "nbformat": 4,
 "nbformat_minor": 1
}
