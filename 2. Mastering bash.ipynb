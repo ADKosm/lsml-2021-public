{
 "cells": [
  {
   "cell_type": "markdown",
   "metadata": {},
   "source": [
    "# Bash\n",
    "\n",
    "Когда речь заходит об обработке больших данных, на первый план выходят задачи по грамотной манипуляции данными, конвертированию и выгрузке, настройке специализированных инструментов и так далее. Чтобы уметь решать такие задачи с кайфом, нужно обрести уверенные навыки работы в терминале и командных оболочках.\n",
    "\n",
    "Bash - наиболее популярная командная оболочка в UNIX-like система. Когда вы пользуетесь терминалом на своем компьютере, то вы почти наверное используете именно Bash.\n",
    "\n",
    "В баш встроено огромное количество функциональности, которая не ограничивается лишь запуском программ."
   ]
  },
  {
   "cell_type": "code",
   "execution_count": null,
   "metadata": {},
   "outputs": [],
   "source": []
  },
  {
   "cell_type": "code",
   "execution_count": 108,
   "metadata": {},
   "outputs": [],
   "source": [
    "## Скопируем данные для семинара. Они потребуются позже\n",
    "\n",
    "! cp data/sem2/* ."
   ]
  },
  {
   "cell_type": "code",
   "execution_count": null,
   "metadata": {},
   "outputs": [],
   "source": []
  },
  {
   "cell_type": "markdown",
   "metadata": {},
   "source": [
    "# Потоки данных\n",
    "\n",
    "Сильная сторона языка Bash - это возможности по работе с перенаправлениями потоками данных между подпрограммами.\n",
    "\n",
    "Для Bash каждую программу можно представить в следующем виде - это черный ящик, которому\n",
    "\n",
    "На вход подается какой-то источник данных, а также аргументы запуска\n",
    "\n",
    "На выход выдает два источника данных - это вывод результата и вывод ошибок.\n",
    "\n",
    "<img src=\"https://raw.githubusercontent.com/ADKosm/lsml-2021-public/main/imgs/bash-flow-control-1.png\">\n",
    "\n",
    "Чаще всего к такому \"ящику\" подключаются три стандартный источника данных - это stdin, stdout и stderr.\n",
    "\n",
    "<img src=\"https://raw.githubusercontent.com/ADKosm/lsml-2021-public/main/imgs/bash-flow-control-2.png\">\n",
    "\n",
    "Все эти три источника, как и все в UNIX, являются виртуальными файлами и выполняют следующие функции\n",
    "\n",
    "* stdin представляет весь поток данных, который пользователь вводит с клавиатуры\n",
    "* stdout представляет весь поток данных, который программа печатает на экран\n",
    "* stderr представляет весь поток данных об ошибках в работе программы, который программа также печатает на экран\n",
    "\n",
    "Все эти источники находятся по следующим путям: `/dev/stdout`, `/dev/stdin`, `/dev/stderr`. Можно заглянуть в директорию `/dev/` и посмотреть, сколько еще виртуальных источников данных есть в компьютере."
   ]
  },
  {
   "cell_type": "code",
   "execution_count": 2,
   "metadata": {},
   "outputs": [
    {
     "name": "stdout",
     "output_type": "stream",
     "text": [
      "core  full    null  pts     shm     stdin   tty      zero\r\n",
      "fd    mqueue  ptmx  random  stderr  stdout  urandom\r\n"
     ]
    }
   ],
   "source": [
    "! ls /dev"
   ]
  },
  {
   "cell_type": "markdown",
   "metadata": {},
   "source": [
    "Волшебство UNIX заключается в том, что мы можем работать с этими источниками как с самыми обычными файлами. Например, давайте попробуем что-то написать в файл /dev/stdout"
   ]
  },
  {
   "cell_type": "code",
   "execution_count": 3,
   "metadata": {},
   "outputs": [
    {
     "name": "stdout",
     "output_type": "stream",
     "text": [
      "Writing hello-stdout.py\n"
     ]
    }
   ],
   "source": [
    "%%writefile hello-stdout.py\n",
    "with open('/dev/stdout', 'w') as f:\n",
    "    f.write(\"HELLO, STDOUT!\")  # Пишем в специальный файл, вместо print"
   ]
  },
  {
   "cell_type": "code",
   "execution_count": 4,
   "metadata": {},
   "outputs": [
    {
     "name": "stdout",
     "output_type": "stream",
     "text": [
      "HELLO, STDOUT!"
     ]
    }
   ],
   "source": [
    "! python3 hello-stdout.py"
   ]
  },
  {
   "cell_type": "markdown",
   "metadata": {},
   "source": [
    "Вместо стандартных потоков ввода\\вывода можно подставлять произвольные источники данных.\n",
    "\n",
    "**Оператор >** позволяет перенаправлять стандартный вывод в любой другой файл. Попробуем, например, написать что-то в новый файл используя команду echo."
   ]
  },
  {
   "cell_type": "code",
   "execution_count": 5,
   "metadata": {},
   "outputs": [],
   "source": [
    "! echo \"message from echo\" > file.txt"
   ]
  },
  {
   "cell_type": "code",
   "execution_count": 6,
   "metadata": {},
   "outputs": [
    {
     "name": "stdout",
     "output_type": "stream",
     "text": [
      "message from echo\r\n"
     ]
    }
   ],
   "source": [
    "! cat file.txt"
   ]
  },
  {
   "cell_type": "code",
   "execution_count": 7,
   "metadata": {},
   "outputs": [
    {
     "name": "stdout",
     "output_type": "stream",
     "text": [
      "message from echo\r\n",
      "message from echo\r\n"
     ]
    }
   ],
   "source": [
    "! cat file.txt file.txt # Читает файл два раза"
   ]
  },
  {
   "cell_type": "code",
   "execution_count": 8,
   "metadata": {},
   "outputs": [],
   "source": [
    "! cat file.txt file.txt > doubled-file.txt"
   ]
  },
  {
   "cell_type": "code",
   "execution_count": 9,
   "metadata": {},
   "outputs": [
    {
     "name": "stdout",
     "output_type": "stream",
     "text": [
      "message from echo\r\n",
      "message from echo\r\n"
     ]
    }
   ],
   "source": [
    "! cat doubled-file.txt"
   ]
  },
  {
   "cell_type": "markdown",
   "metadata": {},
   "source": [
    "Если файл уже существует, то этот оператор полностью перезатрет его содержимое"
   ]
  },
  {
   "cell_type": "code",
   "execution_count": 10,
   "metadata": {},
   "outputs": [],
   "source": [
    "! echo \"new message\" > doubled-file.txt"
   ]
  },
  {
   "cell_type": "code",
   "execution_count": 11,
   "metadata": {},
   "outputs": [
    {
     "name": "stdout",
     "output_type": "stream",
     "text": [
      "new message\r\n"
     ]
    }
   ],
   "source": [
    "! cat doubled-file.txt"
   ]
  },
  {
   "cell_type": "markdown",
   "metadata": {},
   "source": [
    "**Оператор >>** позволяет не перезаписывать целиком файл, а лишь добавить в конец новые данные"
   ]
  },
  {
   "cell_type": "code",
   "execution_count": 12,
   "metadata": {},
   "outputs": [],
   "source": [
    "! cat file.txt file.txt > doubled-file.txt"
   ]
  },
  {
   "cell_type": "code",
   "execution_count": 13,
   "metadata": {},
   "outputs": [
    {
     "name": "stdout",
     "output_type": "stream",
     "text": [
      "message from echo\r\n",
      "message from echo\r\n"
     ]
    }
   ],
   "source": [
    "! cat doubled-file.txt"
   ]
  },
  {
   "cell_type": "code",
   "execution_count": 14,
   "metadata": {},
   "outputs": [],
   "source": [
    "! echo \"new message\" >> doubled-file.txt"
   ]
  },
  {
   "cell_type": "code",
   "execution_count": 15,
   "metadata": {},
   "outputs": [
    {
     "name": "stdout",
     "output_type": "stream",
     "text": [
      "message from echo\r\n",
      "message from echo\r\n",
      "new message\r\n"
     ]
    }
   ],
   "source": [
    "! cat doubled-file.txt"
   ]
  },
  {
   "cell_type": "markdown",
   "metadata": {},
   "source": [
    "Помимо вывода программы, можно поменять и ее ввод.\n",
    "\n",
    "**Оператор <** позволяет поменить стандартный ввод программы на другой файл, делая вид для программы, будто бы пользователь ввел эти данные с клавиатуры.\n",
    "\n",
    "Напишем простенькую программу, которая читает пользовательский ввод с клавиатуры и потестируем этот оператор."
   ]
  },
  {
   "cell_type": "code",
   "execution_count": 16,
   "metadata": {},
   "outputs": [
    {
     "name": "stdout",
     "output_type": "stream",
     "text": [
      "Writing repeat.py\n"
     ]
    }
   ],
   "source": [
    "%%writefile repeat.py\n",
    "\n",
    "data = input()\n",
    "for i in range(3):\n",
    "    print(data)"
   ]
  },
  {
   "cell_type": "code",
   "execution_count": 17,
   "metadata": {},
   "outputs": [
    {
     "name": "stdout",
     "output_type": "stream",
     "text": [
      "message from echo\r\n"
     ]
    }
   ],
   "source": [
    "! cat file.txt"
   ]
  },
  {
   "cell_type": "code",
   "execution_count": 19,
   "metadata": {},
   "outputs": [
    {
     "name": "stdout",
     "output_type": "stream",
     "text": [
      "message from echo\r\n",
      "message from echo\r\n",
      "message from echo\r\n"
     ]
    }
   ],
   "source": [
    "! python3 repeat.py < file.txt"
   ]
  },
  {
   "cell_type": "code",
   "execution_count": 21,
   "metadata": {},
   "outputs": [
    {
     "name": "stdout",
     "output_type": "stream",
     "text": [
      "['message from echo\\n', 'message from echo\\n', 'new message\\n']\r\n"
     ]
    }
   ],
   "source": [
    "! python3 -c \"import sys; print(list(sys.stdin))\" < doubled-file.txt"
   ]
  },
  {
   "cell_type": "markdown",
   "metadata": {},
   "source": [
    "Если хочется направить на stdin несколько строк, но при этом не из файла, а прямо из скрипта, то можно воспользваться **оператором <<**. Для него нужно отдельно указать маркер начала и конца данных."
   ]
  },
  {
   "cell_type": "code",
   "execution_count": 23,
   "metadata": {},
   "outputs": [
    {
     "name": "stdout",
     "output_type": "stream",
     "text": [
      "['big\\n', 'multiline\\n', 'message\\n', 'from\\n', 'script\\n']\n"
     ]
    }
   ],
   "source": [
    "%%bash\n",
    "\n",
    "python3 -c \"import sys; print(list(sys.stdin))\" <<END\n",
    "big\n",
    "multiline\n",
    "message\n",
    "from\n",
    "script\n",
    "END"
   ]
  },
  {
   "cell_type": "markdown",
   "metadata": {},
   "source": [
    "Если хочется направить ровно одну строку, то можно воспользоваться **оператором <<<**. Он подаст на stdin ту строку, которую мы передадим в качестве аргумента."
   ]
  },
  {
   "cell_type": "code",
   "execution_count": 24,
   "metadata": {},
   "outputs": [
    {
     "name": "stdout",
     "output_type": "stream",
     "text": [
      "['one line message from script\\n']\n"
     ]
    }
   ],
   "source": [
    "%%bash\n",
    "\n",
    "python3 -c \"import sys; print(list(sys.stdin))\" <<< \"one line message from script\""
   ]
  },
  {
   "cell_type": "markdown",
   "metadata": {},
   "source": [
    "Комбинирование этих возможностей может позволить решить некоторые задачи. Например генерировать какой-то файл на лету."
   ]
  },
  {
   "cell_type": "code",
   "execution_count": 25,
   "metadata": {},
   "outputs": [],
   "source": [
    "%%bash\n",
    "\n",
    "cat > message.txt <<MSG\n",
    "This file was created directly from script\n",
    "Using amazing features of Bash\n",
    "MSG"
   ]
  },
  {
   "cell_type": "code",
   "execution_count": 26,
   "metadata": {},
   "outputs": [
    {
     "name": "stdout",
     "output_type": "stream",
     "text": [
      "This file was created directly from script\r\n",
      "Using amazing features of Bash\r\n"
     ]
    }
   ],
   "source": [
    "! cat message.txt"
   ]
  },
  {
   "cell_type": "markdown",
   "metadata": {},
   "source": [
    "Или например решать проблему с интерактивными программами, которые хотят какого-то действия от пользователя."
   ]
  },
  {
   "cell_type": "code",
   "execution_count": 33,
   "metadata": {},
   "outputs": [
    {
     "name": "stdout",
     "output_type": "stream",
     "text": [
      "Overwriting interactive.py\n"
     ]
    }
   ],
   "source": [
    "%%writefile interactive.py\n",
    "\n",
    "answer = input(\"Are you sure you want to do X? (y/n)\")\n",
    "if answer == 'y':\n",
    "    print(\"DOING X\")\n",
    "else:\n",
    "    print(\"Canceling\")"
   ]
  },
  {
   "cell_type": "code",
   "execution_count": 34,
   "metadata": {},
   "outputs": [
    {
     "name": "stdout",
     "output_type": "stream",
     "text": [
      "Are you sure you want to do X? (y/n)DOING X\r\n"
     ]
    }
   ],
   "source": [
    "! python3 interactive.py <<< \"y\""
   ]
  },
  {
   "cell_type": "code",
   "execution_count": 35,
   "metadata": {},
   "outputs": [
    {
     "name": "stdout",
     "output_type": "stream",
     "text": [
      "Are you sure you want to do X? (y/n)Canceling\r\n"
     ]
    }
   ],
   "source": [
    "! python3 interactive.py <<< \"n\""
   ]
  },
  {
   "cell_type": "markdown",
   "metadata": {},
   "source": [
    "Возможности перенаправлений не ограничиваются только статическими текстовыми файлами. \n",
    "\n",
    "**Оператор <()** позворяет представить вывод программы как специальный файл (чаще всего он выглядит как `/dev/fd/63`) . Основная особенность этого оператора от обычного **оператора >** в том, что не используется дополнительное место на диске. Читая из этого специального файла мы напрямую получаем доступ к выводу программы без необходимости сохранять его на диске в явном виде.\n",
    "\n",
    "Сам оператор при применении запускает переданную программу, создает специальный файл и возращает путь до этого файла.\n",
    "\n",
    "Этим можно воспользоваться, чтобы компоновать работу нескольких программ."
   ]
  },
  {
   "cell_type": "code",
   "execution_count": 37,
   "metadata": {},
   "outputs": [
    {
     "name": "stdout",
     "output_type": "stream",
     "text": [
      "/dev/fd/63\r\n"
     ]
    }
   ],
   "source": [
    "! echo <(echo PIPA)  # Напечатали путь до файла, в коротый подключен вывод программы echo PIPA"
   ]
  },
  {
   "cell_type": "code",
   "execution_count": 38,
   "metadata": {},
   "outputs": [
    {
     "name": "stdout",
     "output_type": "stream",
     "text": [
      "PIPA\r\n"
     ]
    }
   ],
   "source": [
    "! cat <(echo PIPA)"
   ]
  },
  {
   "cell_type": "code",
   "execution_count": 39,
   "metadata": {},
   "outputs": [
    {
     "name": "stdout",
     "output_type": "stream",
     "text": [
      "Writing read-file.py\n"
     ]
    }
   ],
   "source": [
    "%%writefile read-file.py\n",
    "\n",
    "import sys\n",
    "\n",
    "print(\"Path to file = {}\".format(sys.argv[1]))\n",
    "\n",
    "with open(sys.argv[1], 'r') as f:\n",
    "    content = f.read()\n",
    "    print(content)"
   ]
  },
  {
   "cell_type": "code",
   "execution_count": 41,
   "metadata": {},
   "outputs": [
    {
     "name": "stdout",
     "output_type": "stream",
     "text": [
      "message from echo\r\n"
     ]
    }
   ],
   "source": [
    "! cat file.txt"
   ]
  },
  {
   "cell_type": "code",
   "execution_count": 42,
   "metadata": {},
   "outputs": [
    {
     "name": "stdout",
     "output_type": "stream",
     "text": [
      "Path to file = file.txt\r\n",
      "message from echo\r\n",
      "\r\n"
     ]
    }
   ],
   "source": [
    "! python3 read-file.py file.txt"
   ]
  },
  {
   "cell_type": "code",
   "execution_count": 43,
   "metadata": {},
   "outputs": [
    {
     "name": "stdout",
     "output_type": "stream",
     "text": [
      "Path to file = /dev/fd/63\r\n",
      "PIPA\r\n",
      "\r\n"
     ]
    }
   ],
   "source": [
    "! python3 read-file.py <(echo PIPA)"
   ]
  },
  {
   "cell_type": "markdown",
   "metadata": {},
   "source": [
    "Комбинируя возможности операторов **<** и **<()** можно перенаправлять вывод одной команды в другой.\n",
    "\n",
    "Наглядный пример - команда `yes`. Она решает уже рассмотренную проблему работы с интерактивными программами, без конца печатая символ `y` на стандартный вывод. \n",
    "\n",
    "(Интересный факт - люди любят соревноваться в \"производительности\" программы `yes`. Согласно [треду на Реддите](https://www.reddit.com/r/unix/comments/6gxduc/how_is_gnu_yes_so_fast/), рекорд - вывод `y` со скоростью 123 Гигабита в секунду. Зачем нужная такая производительность в команде `yes`? Ну чтобы было смешно.)"
   ]
  },
  {
   "cell_type": "code",
   "execution_count": 45,
   "metadata": {},
   "outputs": [
    {
     "name": "stdout",
     "output_type": "stream",
     "text": [
      "Are you sure you want to do X? (y/n)DOING X\r\n",
      "yes: standard output: Broken pipe\r\n"
     ]
    }
   ],
   "source": [
    "! python3 interactive.py < <(yes)"
   ]
  },
  {
   "cell_type": "markdown",
   "metadata": {},
   "source": [
    "Другой полезный пример - сравнение двух каталогов. Сущестует программа `diff`, которая получает два файла и выводит построчные различия в этий файлах. Можно скомбинировать ее с командой `ls`, чтобы научиться сравнивать директории."
   ]
  },
  {
   "cell_type": "code",
   "execution_count": 48,
   "metadata": {},
   "outputs": [],
   "source": [
    "! mkdir -p folder1\n",
    "! touch folder1/file1.txt folder1/file2.txt folder1/file3.txt\n",
    "\n",
    "! mkdir -p folder2\n",
    "! touch folder2/file2.txt folder2/file3.txt folder2/file4.txt"
   ]
  },
  {
   "cell_type": "code",
   "execution_count": 49,
   "metadata": {},
   "outputs": [
    {
     "name": "stdout",
     "output_type": "stream",
     "text": [
      "file1.txt  file2.txt  file3.txt\r\n"
     ]
    }
   ],
   "source": [
    "! ls folder1"
   ]
  },
  {
   "cell_type": "code",
   "execution_count": 50,
   "metadata": {},
   "outputs": [
    {
     "name": "stdout",
     "output_type": "stream",
     "text": [
      "file2.txt  file3.txt  file4.txt\r\n"
     ]
    }
   ],
   "source": [
    "! ls folder2"
   ]
  },
  {
   "cell_type": "code",
   "execution_count": 52,
   "metadata": {},
   "outputs": [
    {
     "name": "stdout",
     "output_type": "stream",
     "text": [
      "1d0\r\n",
      "< file1.txt\r\n",
      "3a3\r\n",
      "> file4.txt\r\n"
     ]
    }
   ],
   "source": [
    "! diff <(ls folder1) <(ls folder2)"
   ]
  },
  {
   "cell_type": "markdown",
   "metadata": {},
   "source": [
    "Идея соединять процессы через stdin\\stdout очень популярна и для этого есть более удобный интерфейс - pipes или **оператор |**\n",
    "\n",
    "Все команды, соединенные через | запускаются одновременно и общаются друг с другом через stdin\\stdout"
   ]
  },
  {
   "cell_type": "code",
   "execution_count": 53,
   "metadata": {},
   "outputs": [
    {
     "name": "stdout",
     "output_type": "stream",
     "text": [
      "hello\r\n"
     ]
    }
   ],
   "source": [
    "! echo hello | cat"
   ]
  },
  {
   "cell_type": "code",
   "execution_count": 57,
   "metadata": {},
   "outputs": [
    {
     "name": "stdout",
     "output_type": "stream",
     "text": [
      "1\r\n"
     ]
    }
   ],
   "source": [
    "! echo hi | wc -l  # wc считает сколько строк в входных данных"
   ]
  },
  {
   "cell_type": "code",
   "execution_count": 58,
   "metadata": {},
   "outputs": [
    {
     "name": "stdout",
     "output_type": "stream",
     "text": [
      "3\r\n"
     ]
    }
   ],
   "source": [
    "! cat doubled-file.txt | wc -l"
   ]
  },
  {
   "cell_type": "code",
   "execution_count": 59,
   "metadata": {},
   "outputs": [
    {
     "name": "stdout",
     "output_type": "stream",
     "text": [
      "21\r\n"
     ]
    }
   ],
   "source": [
    "! ls -l | wc -l"
   ]
  },
  {
   "cell_type": "code",
   "execution_count": 60,
   "metadata": {},
   "outputs": [
    {
     "name": "stdout",
     "output_type": "stream",
     "text": [
      "42\r\n"
     ]
    }
   ],
   "source": [
    "! ls -l | cat | wc -l | python3 -c \"print(int(input()) * 2)\""
   ]
  },
  {
   "cell_type": "code",
   "execution_count": 61,
   "metadata": {},
   "outputs": [
    {
     "name": "stdout",
     "output_type": "stream",
     "text": [
      "Are you sure you want to do X? (y/n)DOING X\r\n",
      "yes: standard output: Broken pipe\r\n"
     ]
    }
   ],
   "source": [
    "! yes | python3 interactive.py"
   ]
  },
  {
   "cell_type": "code",
   "execution_count": 65,
   "metadata": {},
   "outputs": [
    {
     "name": "stdout",
     "output_type": "stream",
     "text": [
      "y\r\n",
      "y\r\n",
      "y\r\n",
      "y\r\n",
      "y\r\n",
      "y\r\n",
      "y\r\n",
      "y\r\n",
      "y\r\n",
      "y\r\n",
      "yes: standard output: Broken pipe\r\n"
     ]
    }
   ],
   "source": [
    "! yes | head  # Смотрим первые 10 строк файла"
   ]
  },
  {
   "cell_type": "markdown",
   "metadata": {},
   "source": [
    "Существует также родственный оператор **$()**. Он также запускает переданную программу, однако перенаправляет вывод не в файл, а прямо в bash. То есть вывод программы можно использовать как строку внутри скрипта."
   ]
  },
  {
   "cell_type": "code",
   "execution_count": 3,
   "metadata": {},
   "outputs": [
    {
     "name": "stdout",
     "output_type": "stream",
     "text": [
      "I am here - /home/jovyan\r\n"
     ]
    }
   ],
   "source": [
    "! echo I am here - $(pwd)"
   ]
  },
  {
   "cell_type": "code",
   "execution_count": 4,
   "metadata": {},
   "outputs": [
    {
     "name": "stdout",
     "output_type": "stream",
     "text": [
      "Writing file-to-read.txt\n"
     ]
    }
   ],
   "source": [
    "%%writefile file-to-read.txt\n",
    "/etc/hosts"
   ]
  },
  {
   "cell_type": "code",
   "execution_count": 5,
   "metadata": {},
   "outputs": [
    {
     "name": "stdout",
     "output_type": "stream",
     "text": [
      "127.0.0.1\tlocalhost\r\n",
      "::1\tlocalhost ip6-localhost ip6-loopback\r\n",
      "fe00::0\tip6-localnet\r\n",
      "ff00::0\tip6-mcastprefix\r\n",
      "ff02::1\tip6-allnodes\r\n",
      "ff02::2\tip6-allrouters\r\n",
      "172.19.0.2\t6c32b87fa227\r\n"
     ]
    }
   ],
   "source": [
    "! cat $(cat file-to-read.txt)"
   ]
  },
  {
   "cell_type": "code",
   "execution_count": null,
   "metadata": {},
   "outputs": [],
   "source": []
  },
  {
   "cell_type": "markdown",
   "metadata": {},
   "source": [
    "# Полезные программы\n",
    "\n",
    "Bash - всего лишь оболочка и не умеет самостоятельно решать какие-то задачи. Основную работу выполняют установленные программы, которые можно вызывать из bash. Их можно использовать гораздо эффективнее, используя их вместе с возможностями оболочки."
   ]
  },
  {
   "cell_type": "markdown",
   "metadata": {},
   "source": [
    "### Head\n",
    "head читает определенное количество данных с начала файла. Это полезно, например, когда хочется посмотреть на часть данных, которая лежит на диске."
   ]
  },
  {
   "cell_type": "code",
   "execution_count": 66,
   "metadata": {},
   "outputs": [
    {
     "name": "stdout",
     "output_type": "stream",
     "text": [
      "127.0.0.1\tlocalhost\r\n",
      "::1\tlocalhost ip6-localhost ip6-loopback\r\n",
      "fe00::0\tip6-localnet\r\n",
      "ff00::0\tip6-mcastprefix\r\n",
      "ff02::1\tip6-allnodes\r\n",
      "ff02::2\tip6-allrouters\r\n",
      "172.19.0.2\t7191131479ab\r\n"
     ]
    }
   ],
   "source": [
    "! head /etc/hosts"
   ]
  },
  {
   "cell_type": "code",
   "execution_count": 67,
   "metadata": {},
   "outputs": [
    {
     "name": "stdout",
     "output_type": "stream",
     "text": [
      "127.0.0.1\tlocalhost\r\n",
      "::1\tlocalhost ip6-localhost ip6-loopback\r\n"
     ]
    }
   ],
   "source": [
    "! head -n 2 /etc/hosts  # Читаем только первые 2 строки"
   ]
  },
  {
   "cell_type": "code",
   "execution_count": 69,
   "metadata": {},
   "outputs": [
    {
     "name": "stdout",
     "output_type": "stream",
     "text": [
      "127.0.0.1\t"
     ]
    }
   ],
   "source": [
    "! head -c 10 /etc/hosts  # Читаем только первые 10 байт"
   ]
  },
  {
   "cell_type": "code",
   "execution_count": 75,
   "metadata": {},
   "outputs": [
    {
     "name": "stdout",
     "output_type": "stream",
     "text": [
      "127.0.0.1\tlocalhost\r\n",
      "::1\tlocalhost ip6-localhost ip6-loopback\r\n"
     ]
    }
   ],
   "source": [
    "! cat /etc/hosts | head -n 2  # Как и почти все программы, которые мы рассмотрим, умеет работать с вводом"
   ]
  },
  {
   "cell_type": "markdown",
   "metadata": {},
   "source": [
    "### Tail\n",
    "tail делает то же самое, что и head, но с конца файла"
   ]
  },
  {
   "cell_type": "code",
   "execution_count": 70,
   "metadata": {},
   "outputs": [
    {
     "name": "stdout",
     "output_type": "stream",
     "text": [
      "127.0.0.1\tlocalhost\r\n",
      "::1\tlocalhost ip6-localhost ip6-loopback\r\n",
      "fe00::0\tip6-localnet\r\n",
      "ff00::0\tip6-mcastprefix\r\n",
      "ff02::1\tip6-allnodes\r\n",
      "ff02::2\tip6-allrouters\r\n",
      "172.19.0.2\t7191131479ab\r\n"
     ]
    }
   ],
   "source": [
    "! tail /etc/hosts"
   ]
  },
  {
   "cell_type": "code",
   "execution_count": 71,
   "metadata": {},
   "outputs": [
    {
     "name": "stdout",
     "output_type": "stream",
     "text": [
      "ff02::2\tip6-allrouters\r\n",
      "172.19.0.2\t7191131479ab\r\n"
     ]
    }
   ],
   "source": [
    "! tail -n 2 /etc/hosts"
   ]
  },
  {
   "cell_type": "code",
   "execution_count": 73,
   "metadata": {},
   "outputs": [
    {
     "name": "stdout",
     "output_type": "stream",
     "text": [
      "::1\tlocalhost ip6-localhost ip6-loopback\r\n",
      "fe00::0\tip6-localnet\r\n",
      "ff00::0\tip6-mcastprefix\r\n",
      "ff02::1\tip6-allnodes\r\n",
      "ff02::2\tip6-allrouters\r\n",
      "172.19.0.2\t7191131479ab\r\n"
     ]
    }
   ],
   "source": [
    "! tail -n +2 /etc/hosts  # все строки после второй строки (включая вторую строку)"
   ]
  },
  {
   "cell_type": "code",
   "execution_count": 76,
   "metadata": {},
   "outputs": [
    {
     "name": "stdout",
     "output_type": "stream",
     "text": [
      "ff02::2\tip6-allrouters\r\n",
      "172.19.0.2\t7191131479ab\r\n"
     ]
    }
   ],
   "source": [
    "! cat /etc/hosts | tail -n 2"
   ]
  },
  {
   "cell_type": "markdown",
   "metadata": {},
   "source": [
    "### Sort\n",
    "sort сортирует входные данные. По умолчанию используется лексикографический порядок, но это поведение можно поменять с использованием специальных опций.\n",
    "\n",
    "Подробнее можно узнать здесь - https://www.opennet.ru/man.shtml?topic=sort&category=1"
   ]
  },
  {
   "cell_type": "code",
   "execution_count": 77,
   "metadata": {},
   "outputs": [
    {
     "name": "stdout",
     "output_type": "stream",
     "text": [
      "Writing numbers.txt\n"
     ]
    }
   ],
   "source": [
    "%%writefile numbers.txt\n",
    "3\n",
    "5\n",
    "1\n",
    "2\n",
    "6\n",
    "5\n",
    "9\n",
    "4\n",
    "5\n",
    "6\n",
    "7\n",
    "3\n",
    "2\n",
    "10\n",
    "5\n",
    "6"
   ]
  },
  {
   "cell_type": "code",
   "execution_count": 78,
   "metadata": {},
   "outputs": [
    {
     "name": "stdout",
     "output_type": "stream",
     "text": [
      "1\r\n",
      "10\r\n",
      "2\r\n",
      "2\r\n",
      "3\r\n",
      "3\r\n",
      "4\r\n",
      "5\r\n",
      "5\r\n",
      "5\r\n",
      "5\r\n",
      "6\r\n",
      "6\r\n",
      "6\r\n",
      "7\r\n",
      "9\r\n"
     ]
    }
   ],
   "source": [
    "! sort numbers.txt  # Сортируем как строки"
   ]
  },
  {
   "cell_type": "code",
   "execution_count": 79,
   "metadata": {},
   "outputs": [
    {
     "name": "stdout",
     "output_type": "stream",
     "text": [
      "1\r\n",
      "10\r\n",
      "2\r\n",
      "2\r\n",
      "3\r\n",
      "3\r\n",
      "4\r\n",
      "5\r\n",
      "5\r\n",
      "5\r\n",
      "5\r\n",
      "6\r\n",
      "6\r\n",
      "6\r\n",
      "7\r\n",
      "9\r\n"
     ]
    }
   ],
   "source": [
    "! cat numbers.txt | sort"
   ]
  },
  {
   "cell_type": "code",
   "execution_count": 81,
   "metadata": {},
   "outputs": [
    {
     "name": "stdout",
     "output_type": "stream",
     "text": [
      "1\r\n",
      "2\r\n",
      "2\r\n",
      "3\r\n",
      "3\r\n",
      "4\r\n",
      "5\r\n",
      "5\r\n",
      "5\r\n",
      "5\r\n",
      "6\r\n",
      "6\r\n",
      "6\r\n",
      "7\r\n",
      "9\r\n",
      "10\r\n"
     ]
    }
   ],
   "source": [
    "! cat numbers.txt | sort -n # Сортируем как числа"
   ]
  },
  {
   "cell_type": "markdown",
   "metadata": {},
   "source": [
    "Если в данных есть сразу несколько \"колонок\" (например в каждой строке есть значения, разделенные пробельным символом), то можно отдельно указать, по какому полю необходимо сортировать"
   ]
  },
  {
   "cell_type": "code",
   "execution_count": 91,
   "metadata": {},
   "outputs": [
    {
     "name": "stdout",
     "output_type": "stream",
     "text": [
      "Overwriting number-table.txt\n"
     ]
    }
   ],
   "source": [
    "%%writefile number-table.txt\n",
    "1 10\n",
    "2 9\n",
    "3 8\n",
    "4 7\n",
    "5 6\n",
    "6 5\n",
    "7 4\n",
    "8 3\n",
    "9 2\n",
    "10 1"
   ]
  },
  {
   "cell_type": "code",
   "execution_count": 93,
   "metadata": {},
   "outputs": [
    {
     "name": "stdout",
     "output_type": "stream",
     "text": [
      "1 10\r\n",
      "2 9\r\n",
      "3 8\r\n",
      "4 7\r\n",
      "5 6\r\n",
      "6 5\r\n",
      "7 4\r\n",
      "8 3\r\n",
      "9 2\r\n",
      "10 1\r\n"
     ]
    }
   ],
   "source": [
    "! cat number-table.txt | sort -k1,1 -n"
   ]
  },
  {
   "cell_type": "code",
   "execution_count": 94,
   "metadata": {},
   "outputs": [
    {
     "name": "stdout",
     "output_type": "stream",
     "text": [
      "10 1\r\n",
      "9 2\r\n",
      "8 3\r\n",
      "7 4\r\n",
      "6 5\r\n",
      "5 6\r\n",
      "4 7\r\n",
      "3 8\r\n",
      "2 9\r\n",
      "1 10\r\n"
     ]
    }
   ],
   "source": [
    "! cat number-table.txt | sort -k2,2 -n"
   ]
  },
  {
   "cell_type": "code",
   "execution_count": 96,
   "metadata": {},
   "outputs": [
    {
     "name": "stdout",
     "output_type": "stream",
     "text": [
      "10\r\n",
      "9\r\n",
      "7\r\n",
      "6\r\n",
      "6\r\n",
      "6\r\n",
      "5\r\n",
      "5\r\n",
      "5\r\n",
      "5\r\n",
      "4\r\n",
      "3\r\n",
      "3\r\n",
      "2\r\n",
      "2\r\n",
      "1\r\n"
     ]
    }
   ],
   "source": [
    "! cat numbers.txt | sort -n -r  # Сортируем в обратном порядке"
   ]
  },
  {
   "cell_type": "markdown",
   "metadata": {},
   "source": [
    "### Shuf\n",
    "shuf напротив, случайным образом перемешивает входящие данные"
   ]
  },
  {
   "cell_type": "code",
   "execution_count": 82,
   "metadata": {},
   "outputs": [
    {
     "name": "stdout",
     "output_type": "stream",
     "text": [
      "3\r\n",
      "2\r\n",
      "1\r\n",
      "2\r\n",
      "4\r\n",
      "9\r\n",
      "6\r\n",
      "5\r\n",
      "6\r\n",
      "5\r\n",
      "10\r\n",
      "3\r\n",
      "5\r\n",
      "6\r\n",
      "7\r\n",
      "5\r\n"
     ]
    }
   ],
   "source": [
    "! cat numbers.txt | shuf"
   ]
  },
  {
   "cell_type": "code",
   "execution_count": 83,
   "metadata": {},
   "outputs": [
    {
     "name": "stdout",
     "output_type": "stream",
     "text": [
      "6\r\n",
      "10\r\n",
      "3\r\n",
      "9\r\n",
      "7\r\n",
      "5\r\n",
      "5\r\n",
      "4\r\n",
      "5\r\n",
      "1\r\n",
      "5\r\n",
      "2\r\n",
      "6\r\n",
      "6\r\n",
      "2\r\n",
      "3\r\n"
     ]
    }
   ],
   "source": [
    "! cat numbers.txt | shuf"
   ]
  },
  {
   "cell_type": "markdown",
   "metadata": {},
   "source": [
    "### Uniq\n",
    "uniq оставляет только уникальные значения. Однако он корректно работает только с отсортированными данными. Для этого мы можем предварительно использовать sort.\n",
    "\n",
    "Помимо операции схлопывания одинаковых значений, uniq также умеет считать простые статистики для схлопнувшихся групп. Этот функционал чем-то напоминает group by. Так, ключ -c считает количество элементов в каждой группе.\n",
    "\n",
    "Подробнее можно узнать здесь - https://www.opennet.ru/man.shtml?topic=uniq&category=1&russian=0"
   ]
  },
  {
   "cell_type": "code",
   "execution_count": 85,
   "metadata": {},
   "outputs": [
    {
     "name": "stdout",
     "output_type": "stream",
     "text": [
      "3\r\n",
      "5\r\n",
      "1\r\n",
      "2\r\n",
      "6\r\n",
      "5\r\n",
      "9\r\n",
      "4\r\n",
      "5\r\n",
      "6\r\n",
      "7\r\n",
      "3\r\n",
      "2\r\n",
      "10\r\n",
      "5\r\n",
      "6\r\n"
     ]
    }
   ],
   "source": [
    "! cat numbers.txt | uniq  # Не совсем тот результат, что мы ожидаем"
   ]
  },
  {
   "cell_type": "code",
   "execution_count": 87,
   "metadata": {},
   "outputs": [
    {
     "name": "stdout",
     "output_type": "stream",
     "text": [
      "1\r\n",
      "10\r\n",
      "2\r\n",
      "3\r\n",
      "4\r\n",
      "5\r\n",
      "6\r\n",
      "7\r\n",
      "9\r\n"
     ]
    }
   ],
   "source": [
    "! cat numbers.txt | sort | uniq  # А вот так уже работает"
   ]
  },
  {
   "cell_type": "markdown",
   "metadata": {},
   "source": [
    "По ходу \"схлопывания\" uniq умеет еще и подсчитывать количество схлопнутых элементов. Таким образом можно считать количество каждого элемента."
   ]
  },
  {
   "cell_type": "code",
   "execution_count": 213,
   "metadata": {},
   "outputs": [
    {
     "name": "stdout",
     "output_type": "stream",
     "text": [
      "      1 1\r\n",
      "      1 10\r\n",
      "      2 2\r\n",
      "      2 3\r\n",
      "      1 4\r\n",
      "      4 5\r\n",
      "      3 6\r\n",
      "      1 7\r\n",
      "      1 9\r\n"
     ]
    }
   ],
   "source": [
    "! cat numbers.txt | sort | uniq -c"
   ]
  },
  {
   "cell_type": "code",
   "execution_count": 214,
   "metadata": {},
   "outputs": [
    {
     "name": "stdout",
     "output_type": "stream",
     "text": [
      "Writing words.txt\n"
     ]
    }
   ],
   "source": [
    "%%writefile words.txt\n",
    "Lorem\n",
    "ipsum\n",
    "dolor\n",
    "sit\n",
    "met\n",
    "consectetur\n",
    "incididunt\n",
    "elit\n",
    "seddo\n",
    "ipsum\n",
    "tempor\n",
    "incididunt\n",
    "ut\n",
    "laboret\n",
    "dolor\n",
    "ipsum\n",
    "aliqua\n",
    "ipsum"
   ]
  },
  {
   "cell_type": "code",
   "execution_count": 215,
   "metadata": {},
   "outputs": [
    {
     "name": "stdout",
     "output_type": "stream",
     "text": [
      "      1 aliqua\r\n",
      "      1 consectetur\r\n",
      "      2 dolor\r\n",
      "      1 elit\r\n",
      "      2 incididunt\r\n",
      "      4 ipsum\r\n",
      "      1 laboret\r\n",
      "      1 Lorem\r\n",
      "      1 met\r\n",
      "      1 seddo\r\n",
      "      1 sit\r\n",
      "      1 tempor\r\n",
      "      1 ut\r\n"
     ]
    }
   ],
   "source": [
    "! cat words.txt | sort | uniq -c "
   ]
  },
  {
   "cell_type": "markdown",
   "metadata": {},
   "source": [
    "### Wc\n",
    "wc (word count) считает количество элементов во входных данных. По умолчанию считает три характеристики - количество строк, количество слов, количество байт. Различные опции позволяют считать какую-то одну из характеристик. Например -l считает количество строк в данных.\n",
    "\n",
    "Подробнее можно узнать здесь - https://www.opennet.ru/man.shtml?topic=wc&category=1&russian=0"
   ]
  },
  {
   "cell_type": "code",
   "execution_count": 97,
   "metadata": {},
   "outputs": [
    {
     "name": "stdout",
     "output_type": "stream",
     "text": [
      "     16      16      33\r\n"
     ]
    }
   ],
   "source": [
    "! cat numbers.txt | wc"
   ]
  },
  {
   "cell_type": "code",
   "execution_count": 99,
   "metadata": {},
   "outputs": [
    {
     "name": "stdout",
     "output_type": "stream",
     "text": [
      "     10      20      42\r\n"
     ]
    }
   ],
   "source": [
    "! cat number-table.txt | wc"
   ]
  },
  {
   "cell_type": "code",
   "execution_count": 102,
   "metadata": {},
   "outputs": [
    {
     "name": "stdout",
     "output_type": "stream",
     "text": [
      "16\r\n"
     ]
    }
   ],
   "source": [
    "! cat numbers.txt | wc -l # Количество элементов в файле"
   ]
  },
  {
   "cell_type": "code",
   "execution_count": 104,
   "metadata": {},
   "outputs": [
    {
     "name": "stdout",
     "output_type": "stream",
     "text": [
      "9\r\n"
     ]
    }
   ],
   "source": [
    "! cat numbers.txt | sort | uniq | wc -l  # Количество уникальных элементов в файле"
   ]
  },
  {
   "cell_type": "markdown",
   "metadata": {},
   "source": [
    "### Cut\n",
    "\n",
    "cut парсит строки, которые состоят из значений с разделителем. С помощью утилиты можно обрабатывать различные регулярные форматы данных, базирующиеся на разделителях. Например csv или tsv.\n",
    "\n",
    "https://www.opennet.ru/man.shtml?topic=cut&category=1&russian=0\n"
   ]
  },
  {
   "cell_type": "code",
   "execution_count": 116,
   "metadata": {},
   "outputs": [
    {
     "name": "stdout",
     "output_type": "stream",
     "text": [
      "\"Last name\", \"First name\", \"SSN\",        \"Test1\", \"Test2\", \"Test3\", \"Test4\", \"Final\", \"Grade\"\r\n",
      "\"Alfalfa\",   \"Aloysius\",   \"123-45-6789\", 40.0,    90.0,   100.0,    83.0,    49.0,   \"D-\"\r\n",
      "\"Alfred\",    \"University\", \"123-12-1234\", 41.0,    97.0,    96.0,    97.0,    48.0,   \"D+\"\r\n",
      "\"Gerty\",     \"Gramma\",     \"567-89-0123\", 41.0,    80.0,    60.0,    40.0,    44.0,   \"C\"\r\n",
      "\"Android\",   \"Electric\",   \"087-65-4321\", 42.0,    23.0,    36.0,    45.0,    47.0,   \"B-\"\r\n",
      "\"Bumpkin\",   \"Fred\",       \"456-78-9012\", 43.0,    78.0,    88.0,    77.0,    45.0,   \"A-\"\r\n",
      "\"Rubble\",    \"Betty\",      \"234-56-7890\", 44.0,    90.0,    80.0,    90.0,    46.0,   \"C-\"\r\n",
      "\"Noshow\",    \"Cecil\",      \"345-67-8901\", 45.0,    11.0,    -1.0,     4.0,    43.0,   \"F\"\r\n",
      "\"Buff\",      \"Bif\",        \"632-79-9939\", 46.0,    20.0,    30.0,    40.0,    50.0,   \"B+\"\r\n",
      "\"Airpump\",   \"Andrew\",     \"223-45-6789\", 49.0,      1.0,    90.0,   100.0,    83.0,   \"A\"\r\n",
      "\"Backus\",    \"Jim\",        \"143-12-1234\", 48.0,     1.0,    97.0,    96.0,    97.0,   \"A+\"\r\n",
      "\"Carnivore\", \"Art\",        \"565-89-0123\", 44.0,     1.0,    80.0,    60.0,    40.0,   \"D+\"\r\n",
      "\"Dandy\",     \"Jim\",        \"087-75-4321\", 47.0,     1.0,    23.0,    36.0,    45.0,   \"C+\"\r\n",
      "\"Elephant\",  \"Ima\",        \"456-71-9012\", 45.0,     1.0,    78.0,    88.0,    77.0,   \"B-\"\r\n",
      "\"Franklin\",  \"Benny\",      \"234-56-2890\", 50.0,     1.0,    90.0,    80.0,    90.0,   \"B-\"\r\n",
      "\"George\",    \"Boy\",        \"345-67-3901\", 40.0,     1.0,    11.0,    -1.0,     4.0,   \"B\"\r\n",
      "\"Heffalump\", \"Harvey\",     \"632-79-9439\", 30.0,     1.0,    20.0,    30.0,    40.0,   \"C\"\r\n"
     ]
    }
   ],
   "source": [
    "! cat grades.csv"
   ]
  },
  {
   "cell_type": "code",
   "execution_count": 118,
   "metadata": {},
   "outputs": [
    {
     "name": "stdout",
     "output_type": "stream",
     "text": [
      "        \"Test1\", \"Test2\", \"Test3\", \"Test4\"\r\n",
      " 40.0,    90.0,   100.0,    83.0\r\n",
      " 41.0,    97.0,    96.0,    97.0\r\n",
      " 41.0,    80.0,    60.0,    40.0\r\n",
      " 42.0,    23.0,    36.0,    45.0\r\n",
      " 43.0,    78.0,    88.0,    77.0\r\n",
      " 44.0,    90.0,    80.0,    90.0\r\n",
      " 45.0,    11.0,    -1.0,     4.0\r\n",
      " 46.0,    20.0,    30.0,    40.0\r\n",
      " 49.0,      1.0,    90.0,   100.0\r\n",
      " 48.0,     1.0,    97.0,    96.0\r\n",
      " 44.0,     1.0,    80.0,    60.0\r\n",
      " 47.0,     1.0,    23.0,    36.0\r\n",
      " 45.0,     1.0,    78.0,    88.0\r\n",
      " 50.0,     1.0,    90.0,    80.0\r\n",
      " 40.0,     1.0,    11.0,    -1.0\r\n",
      " 30.0,     1.0,    20.0,    30.0\r\n"
     ]
    }
   ],
   "source": [
    "! cat grades.csv | cut -d',' -f4,5,6,7  # разделяем данные по запятой и берем только 6 и 7 столбец"
   ]
  },
  {
   "cell_type": "code",
   "execution_count": 124,
   "metadata": {},
   "outputs": [
    {
     "name": "stdout",
     "output_type": "stream",
     "text": [
      "   \"D-\"\r\n",
      "   \"D+\"\r\n",
      "   \"C\"\r\n",
      "   \"B-\"\r\n",
      "   \"A-\"\r\n",
      "   \"C-\"\r\n",
      "   \"F\"\r\n",
      "   \"B+\"\r\n",
      "   \"A\"\r\n",
      "   \"A+\"\r\n"
     ]
    }
   ],
   "source": [
    "# удаляем заголовок и смотрим только на grade\n",
    "! cat grades.csv | tail -n +2 | cut -d',' -f9 | head"
   ]
  },
  {
   "cell_type": "code",
   "execution_count": 125,
   "metadata": {},
   "outputs": [
    {
     "name": "stdout",
     "output_type": "stream",
     "text": [
      "12\r\n"
     ]
    }
   ],
   "source": [
    "# Считаем уникальные оценки в графе test1\n",
    "! cat grades.csv | tail -n +2 | cut -d',' -f4 | sort | uniq | wc -l"
   ]
  },
  {
   "cell_type": "code",
   "execution_count": 126,
   "metadata": {},
   "outputs": [
    {
     "name": "stdout",
     "output_type": "stream",
     "text": [
      "Linux 7191131479ab 4.6.7-040607-generic #201608160432 SMP Tue Aug 16 08:35:05 UTC 2016 x86_64 x86_64 x86_64 GNU/Linux\r\n"
     ]
    }
   ],
   "source": [
    "! uname -a  # информация о системе"
   ]
  },
  {
   "cell_type": "code",
   "execution_count": 128,
   "metadata": {},
   "outputs": [
    {
     "name": "stdout",
     "output_type": "stream",
     "text": [
      "Linux 4.6.7-040607-generic x86_64\r\n"
     ]
    }
   ],
   "source": [
    "! uname -a | cut -d\" \" -f1,3,12  # получаем информацию конкретно про ядро"
   ]
  },
  {
   "cell_type": "markdown",
   "metadata": {},
   "source": [
    "### Sed & Grep\n",
    "\n",
    "grep позволяет фильтровать входной поток по указанному регулярному выражению\n",
    "sed (sequence editor) - редактор входного потока. Делает примерно тоже, что и grep, однаок имеет свой не очень сложный формат задания правил редактирования. Возможные команды:\n",
    "\n",
    "* `[диапазон]p` - напечатать диапазон строк\n",
    "* `[диапазон]d` - удалить диапазон строкь\n",
    "* `s/[паттерн1]/[паттерн2]` - заменить строку, подходящую под паттерн1 на паттерн2. Может комбинироваться с диапазоном. Также может добавляться ключ g (s/[паттерн1]/[паттерн2]/g) , позволяющая применять правила ко всему потоку сразу. Без этой опции ищется только первое совпадние с паттерном."
   ]
  },
  {
   "cell_type": "code",
   "execution_count": 130,
   "metadata": {},
   "outputs": [
    {
     "name": "stdout",
     "output_type": "stream",
     "text": [
      "\"Last name\", \"First name\", \"SSN\",        \"Test1\", \"Test2\", \"Test3\", \"Test4\", \"Final\", \"Grade\"\r\n",
      "\"Alfalfa\",   \"Aloysius\",   \"123-45-6789\", 40.0,    90.0,   100.0,    83.0,    49.0,   \"D-\"\r\n",
      "\"Alfred\",    \"University\", \"123-12-1234\", 41.0,    97.0,    96.0,    97.0,    48.0,   \"D+\"\r\n",
      "\"Gerty\",     \"Gramma\",     \"567-89-0123\", 41.0,    80.0,    60.0,    40.0,    44.0,   \"C\"\r\n",
      "\"Android\",   \"Electric\",   \"087-65-4321\", 42.0,    23.0,    36.0,    45.0,    47.0,   \"B-\"\r\n",
      "\"Bumpkin\",   \"Fred\",       \"456-78-9012\", 43.0,    78.0,    88.0,    77.0,    45.0,   \"A-\"\r\n",
      "\"Rubble\",    \"Betty\",      \"234-56-7890\", 44.0,    90.0,    80.0,    90.0,    46.0,   \"C-\"\r\n",
      "\"Noshow\",    \"Cecil\",      \"345-67-8901\", 45.0,    11.0,    -1.0,     4.0,    43.0,   \"F\"\r\n",
      "\"Buff\",      \"Bif\",        \"632-79-9939\", 46.0,    20.0,    30.0,    40.0,    50.0,   \"B+\"\r\n",
      "\"Airpump\",   \"Andrew\",     \"223-45-6789\", 49.0,      1.0,    90.0,   100.0,    83.0,   \"A\"\r\n",
      "\"Backus\",    \"Jim\",        \"143-12-1234\", 48.0,     1.0,    97.0,    96.0,    97.0,   \"A+\"\r\n",
      "\"Carnivore\", \"Art\",        \"565-89-0123\", 44.0,     1.0,    80.0,    60.0,    40.0,   \"D+\"\r\n",
      "\"Dandy\",     \"Jim\",        \"087-75-4321\", 47.0,     1.0,    23.0,    36.0,    45.0,   \"C+\"\r\n",
      "\"Elephant\",  \"Ima\",        \"456-71-9012\", 45.0,     1.0,    78.0,    88.0,    77.0,   \"B-\"\r\n",
      "\"Franklin\",  \"Benny\",      \"234-56-2890\", 50.0,     1.0,    90.0,    80.0,    90.0,   \"B-\"\r\n",
      "\"George\",    \"Boy\",        \"345-67-3901\", 40.0,     1.0,    11.0,    -1.0,     4.0,   \"B\"\r\n",
      "\"Heffalump\", \"Harvey\",     \"632-79-9439\", 30.0,     1.0,    20.0,    30.0,    40.0,   \"C\"\r\n"
     ]
    }
   ],
   "source": [
    "! cat grades.csv"
   ]
  },
  {
   "cell_type": "code",
   "execution_count": 132,
   "metadata": {},
   "outputs": [
    {
     "name": "stdout",
     "output_type": "stream",
     "text": [
      "\"Backus\",    \"Jim\",        \"143-12-1234\", 48.0,     1.0,    97.0,    96.0,    97.0,   \"A+\"\r\n",
      "\"Dandy\",     \"Jim\",        \"087-75-4321\", 47.0,     1.0,    23.0,    36.0,    45.0,   \"C+\"\r\n"
     ]
    }
   ],
   "source": [
    "! cat grades.csv | grep Jim  # Ищем только джимов"
   ]
  },
  {
   "cell_type": "code",
   "execution_count": 139,
   "metadata": {},
   "outputs": [
    {
     "name": "stdout",
     "output_type": "stream",
     "text": [
      "\"Alfalfa\",   \"Aloysius\",   \"123-45-6789\", 40.0,    90.0,   100.0,    83.0,    49.0,   \"D-\"\r\n",
      "\"Alfred\",    \"University\", \"123-12-1234\", 41.0,    97.0,    96.0,    97.0,    48.0,   \"D+\"\r\n"
     ]
    }
   ],
   "source": [
    "! cat grades.csv | grep \"123\\\\-\""
   ]
  },
  {
   "cell_type": "markdown",
   "metadata": {},
   "source": [
    "Команды для sed можно указывать в файле, однако если сами команды не слишком большие, то удобнее их указывать в виде аргументов командной строки. Для этого необходимо использовать флаг -e.\n",
    "\n",
    "Также при использовании оператора p, необходимо указывать -n, чтобы не отображать лишние строки. В противном случае sed будет выводить вообще все исходные данные.\n",
    "\n",
    "Подробнее можно узнать здесь - https://www.opennet.ru/docs/RUS/bash_scripting_guide/a14586.html"
   ]
  },
  {
   "cell_type": "code",
   "execution_count": 142,
   "metadata": {},
   "outputs": [
    {
     "name": "stdout",
     "output_type": "stream",
     "text": [
      "\"Alfred\",    \"University\", \"123-12-1234\", 41.0,    97.0,    96.0,    97.0,    48.0,   \"D+\"\r\n"
     ]
    }
   ],
   "source": [
    "! cat grades.csv | sed -n -e \"3\"p  # печатаем третью строку"
   ]
  },
  {
   "cell_type": "code",
   "execution_count": 143,
   "metadata": {},
   "outputs": [
    {
     "name": "stdout",
     "output_type": "stream",
     "text": [
      "\"Alfred\",    \"University\", \"123-12-1234\", 41.0,    97.0,    96.0,    97.0,    48.0,   \"D+\"\r\n",
      "\"Bumpkin\",   \"Fred\",       \"456-78-9012\", 43.0,    78.0,    88.0,    77.0,    45.0,   \"A-\"\r\n",
      "\"Buff\",      \"Bif\",        \"632-79-9939\", 46.0,    20.0,    30.0,    40.0,    50.0,   \"B+\"\r\n",
      "\"Carnivore\", \"Art\",        \"565-89-0123\", 44.0,     1.0,    80.0,    60.0,    40.0,   \"D+\"\r\n",
      "\"Franklin\",  \"Benny\",      \"234-56-2890\", 50.0,     1.0,    90.0,    80.0,    90.0,   \"B-\"\r\n"
     ]
    }
   ],
   "source": [
    "! cat grades.csv | sed -n -e \"0~3\"p | head # печатаем каждую третью строку, начиная с нулевой"
   ]
  },
  {
   "cell_type": "code",
   "execution_count": 144,
   "metadata": {},
   "outputs": [
    {
     "name": "stdout",
     "output_type": "stream",
     "text": [
      "\"Alfred\",    \"University\", \"123-12-1234\", 41.0,    97.0,    96.0,    97.0,    48.0,   \"D+\"\r\n",
      "\"Gerty\",     \"Gramma\",     \"567-89-0123\", 41.0,    80.0,    60.0,    40.0,    44.0,   \"C\"\r\n",
      "\"Android\",   \"Electric\",   \"087-65-4321\", 42.0,    23.0,    36.0,    45.0,    47.0,   \"B-\"\r\n"
     ]
    }
   ],
   "source": [
    "! cat grades.csv | sed -n -e \"3,5\"p  # печатаем с 3 по 5 строку\n"
   ]
  },
  {
   "cell_type": "code",
   "execution_count": 146,
   "metadata": {},
   "outputs": [
    {
     "name": "stdout",
     "output_type": "stream",
     "text": [
      "\"Bumpkin\",   \"Fred\",       \"456-78-9012\", 43.0,    78.0,    88.0,    77.0,    45.0,   \"A-\"\r\n",
      "\"Rubble\",    \"Betty\",      \"234-56-7890\", 44.0,    90.0,    80.0,    90.0,    46.0,   \"C-\"\r\n",
      "\"Noshow\",    \"Cecil\",      \"345-67-8901\", 45.0,    11.0,    -1.0,     4.0,    43.0,   \"F\"\r\n",
      "\"Buff\",      \"Bif\",        \"632-79-9939\", 46.0,    20.0,    30.0,    40.0,    50.0,   \"B+\"\r\n",
      "\"Airpump\",   \"Andrew\",     \"223-45-6789\", 49.0,      1.0,    90.0,   100.0,    83.0,   \"A\"\r\n",
      "\"Backus\",    \"Jim\",        \"143-12-1234\", 48.0,     1.0,    97.0,    96.0,    97.0,   \"A+\"\r\n",
      "\"Carnivore\", \"Art\",        \"565-89-0123\", 44.0,     1.0,    80.0,    60.0,    40.0,   \"D+\"\r\n",
      "\"Dandy\",     \"Jim\",        \"087-75-4321\", 47.0,     1.0,    23.0,    36.0,    45.0,   \"C+\"\r\n",
      "\"Elephant\",  \"Ima\",        \"456-71-9012\", 45.0,     1.0,    78.0,    88.0,    77.0,   \"B-\"\r\n",
      "\"Franklin\",  \"Benny\",      \"234-56-2890\", 50.0,     1.0,    90.0,    80.0,    90.0,   \"B-\"\r\n",
      "\"George\",    \"Boy\",        \"345-67-3901\", 40.0,     1.0,    11.0,    -1.0,     4.0,   \"B\"\r\n",
      "\"Heffalump\", \"Harvey\",     \"632-79-9439\", 30.0,     1.0,    20.0,    30.0,    40.0,   \"C\"\r\n"
     ]
    }
   ],
   "source": [
    "! cat grades.csv | sed -n -e \"6,$\"p  # печатаем с 6 до конца"
   ]
  },
  {
   "cell_type": "code",
   "execution_count": 148,
   "metadata": {},
   "outputs": [
    {
     "name": "stdout",
     "output_type": "stream",
     "text": [
      "\"Backus\",    \"Jim\",        \"143-12-1234\", 48.0,     1.0,    97.0,    96.0,    97.0,   \"A+\"\r\n",
      "\"Dandy\",     \"Jim\",        \"087-75-4321\", 47.0,     1.0,    23.0,    36.0,    45.0,   \"C+\"\r\n"
     ]
    }
   ],
   "source": [
    "! cat grades.csv | sed -n -e \"/Jim/\"p  # печатаем все, которые подходят под паттерн (тоже что и grep)"
   ]
  },
  {
   "cell_type": "code",
   "execution_count": 153,
   "metadata": {},
   "outputs": [
    {
     "name": "stdout",
     "output_type": "stream",
     "text": [
      "\"Bumpkin\",   \"Fred\",       \"456-78-9012\", 43.0,    78.0,    88.0,    77.0,    45.0,   \"A-\"\r\n",
      "\"Backus\",    \"Jim\",        \"143-12-1234\", 48.0,     1.0,    97.0,    96.0,    97.0,   \"A+\"\r\n",
      "\"Dandy\",     \"Jim\",        \"087-75-4321\", 47.0,     1.0,    23.0,    36.0,    45.0,   \"C+\"\r\n"
     ]
    }
   ],
   "source": [
    "# Паттерны могут быть и более сложными. Например здесь паттерн ищем все Yankton ИЛИ NC\n",
    "! cat grades.csv | sed -n -e \"/Jim\\|Fred/\"p"
   ]
  },
  {
   "cell_type": "code",
   "execution_count": 154,
   "metadata": {},
   "outputs": [
    {
     "name": "stdout",
     "output_type": "stream",
     "text": [
      "\"Buff\",      \"Bif\",        \"632-79-9939\", 46.0,    20.0,    30.0,    40.0,    50.0,   \"B+\"\r\n",
      "\"Airpump\",   \"Andrew\",     \"223-45-6789\", 49.0,      1.0,    90.0,   100.0,    83.0,   \"A\"\r\n",
      "\"Backus\",    \"Jim\",        \"143-12-1234\", 48.0,     1.0,    97.0,    96.0,    97.0,   \"A+\"\r\n",
      "\"Carnivore\", \"Art\",        \"565-89-0123\", 44.0,     1.0,    80.0,    60.0,    40.0,   \"D+\"\r\n",
      "\"Dandy\",     \"Jim\",        \"087-75-4321\", 47.0,     1.0,    23.0,    36.0,    45.0,   \"C+\"\r\n",
      "\"Elephant\",  \"Ima\",        \"456-71-9012\", 45.0,     1.0,    78.0,    88.0,    77.0,   \"B-\"\r\n"
     ]
    }
   ],
   "source": [
    "! cat grades.csv | sed -n -e \"/Bif/,/Ima/\"p  # поток от первой записи где есть Bif до записи с Ima"
   ]
  },
  {
   "cell_type": "markdown",
   "metadata": {},
   "source": [
    "Точно также можно пользоваться оператором удаления `d`"
   ]
  },
  {
   "cell_type": "code",
   "execution_count": 156,
   "metadata": {},
   "outputs": [
    {
     "name": "stdout",
     "output_type": "stream",
     "text": [
      "\"Last name\", \"First name\", \"SSN\",        \"Test1\", \"Test2\", \"Test3\", \"Test4\", \"Final\", \"Grade\"\r\n",
      "\"Alfalfa\",   \"Aloysius\",   \"123-45-6789\", 40.0,    90.0,   100.0,    83.0,    49.0,   \"D-\"\r\n",
      "\"Alfred\",    \"University\", \"123-12-1234\", 41.0,    97.0,    96.0,    97.0,    48.0,   \"D+\"\r\n",
      "\"Gerty\",     \"Gramma\",     \"567-89-0123\", 41.0,    80.0,    60.0,    40.0,    44.0,   \"C\"\r\n",
      "\"Android\",   \"Electric\",   \"087-65-4321\", 42.0,    23.0,    36.0,    45.0,    47.0,   \"B-\"\r\n",
      "\"Bumpkin\",   \"Fred\",       \"456-78-9012\", 43.0,    78.0,    88.0,    77.0,    45.0,   \"A-\"\r\n",
      "\"Rubble\",    \"Betty\",      \"234-56-7890\", 44.0,    90.0,    80.0,    90.0,    46.0,   \"C-\"\r\n",
      "\"Noshow\",    \"Cecil\",      \"345-67-8901\", 45.0,    11.0,    -1.0,     4.0,    43.0,   \"F\"\r\n",
      "\"Franklin\",  \"Benny\",      \"234-56-2890\", 50.0,     1.0,    90.0,    80.0,    90.0,   \"B-\"\r\n",
      "\"George\",    \"Boy\",        \"345-67-3901\", 40.0,     1.0,    11.0,    -1.0,     4.0,   \"B\"\r\n"
     ]
    }
   ],
   "source": [
    "! cat grades.csv | sed -e \"/Bif/,/Ima/\"d | head # удаляем все с Bif до Ima"
   ]
  },
  {
   "cell_type": "markdown",
   "metadata": {},
   "source": [
    "Оператором `s` можно заменять какие-то элементы потока. "
   ]
  },
  {
   "cell_type": "code",
   "execution_count": 158,
   "metadata": {},
   "outputs": [
    {
     "name": "stdout",
     "output_type": "stream",
     "text": [
      "\"Last name\", \"First name\", \"SSN\",        \"Test1\", \"Test2\", \"Test3\", \"Test4\", \"Final\", \"Grade\"\r\n",
      "\"Alfalfa\",   \"Aloysius\",   \"123-45-6789\", 40.0,    90.0,   100.0,    83.0,    49.0,   \"D-\"\r\n",
      "\"Alfred\",    \"University\", \"123-12-1234\", 41.0,    97.0,    96.0,    97.0,    48.0,   \"D+\"\r\n",
      "\"Gerty\",     \"Gramma\",     \"567-89-0123\", 41.0,    80.0,    60.0,    40.0,    44.0,   \"C\"\r\n",
      "\"Android\",   \"Electric\",   \"087-65-4321\", 42.0,    23.0,    36.0,    45.0,    47.0,   \"B-\"\r\n",
      "\"Bumpkin\",   \"Fred\",       \"456-78-9012\", 43.0,    78.0,    88.0,    77.0,    45.0,   \"A-\"\r\n",
      "\"Rubble\",    \"Betty\",      \"234-56-7890\", 44.0,    90.0,    80.0,    90.0,    46.0,   \"C-\"\r\n",
      "\"Noshow\",    \"Cecil\",      \"345-67-8901\", 45.0,    11.0,    -1.0,     4.0,    43.0,   \"F\"\r\n",
      "\"Buff\",      \"Bif\",        \"632-79-9939\", 46.0,    20.0,    30.0,    40.0,    50.0,   \"B+\"\r\n",
      "\"Airpump\",   \"Andrew\",     \"223-45-6789\", 49.0,      1.0,    90.0,   100.0,    83.0,   \"A\"\r\n",
      "\"Backus\",    \"Weierstrass\",        \"143-12-1234\", 48.0,     1.0,    97.0,    96.0,    97.0,   \"A+\"\r\n",
      "\"Carnivore\", \"Art\",        \"565-89-0123\", 44.0,     1.0,    80.0,    60.0,    40.0,   \"D+\"\r\n",
      "\"Dandy\",     \"Weierstrass\",        \"087-75-4321\", 47.0,     1.0,    23.0,    36.0,    45.0,   \"C+\"\r\n",
      "\"Elephant\",  \"Ima\",        \"456-71-9012\", 45.0,     1.0,    78.0,    88.0,    77.0,   \"B-\"\r\n",
      "\"Franklin\",  \"Benny\",      \"234-56-2890\", 50.0,     1.0,    90.0,    80.0,    90.0,   \"B-\"\r\n",
      "\"George\",    \"Boy\",        \"345-67-3901\", 40.0,     1.0,    11.0,    -1.0,     4.0,   \"B\"\r\n",
      "\"Heffalump\", \"Harvey\",     \"632-79-9439\", 30.0,     1.0,    20.0,    30.0,    40.0,   \"C\"\r\n"
     ]
    }
   ],
   "source": [
    "! cat grades.csv | sed -e \"s/Jim/Weierstrass/\""
   ]
  },
  {
   "cell_type": "markdown",
   "metadata": {},
   "source": [
    "Команда sed также имеет ключ -i позволяющий редактировать файлы \"на месте\". Например мы можем убрать заголовок у csv файла, не создавая новый, а отредактировав старый, что гораздо быстрее и менее затратно с точки зрения диска."
   ]
  },
  {
   "cell_type": "code",
   "execution_count": 159,
   "metadata": {},
   "outputs": [],
   "source": [
    "! cp grades.csv grades-headless.csv"
   ]
  },
  {
   "cell_type": "code",
   "execution_count": 160,
   "metadata": {},
   "outputs": [
    {
     "name": "stdout",
     "output_type": "stream",
     "text": [
      "\"Last name\", \"First name\", \"SSN\",        \"Test1\", \"Test2\", \"Test3\", \"Test4\", \"Final\", \"Grade\"\r\n",
      "\"Alfalfa\",   \"Aloysius\",   \"123-45-6789\", 40.0,    90.0,   100.0,    83.0,    49.0,   \"D-\"\r\n",
      "\"Alfred\",    \"University\", \"123-12-1234\", 41.0,    97.0,    96.0,    97.0,    48.0,   \"D+\"\r\n",
      "\"Gerty\",     \"Gramma\",     \"567-89-0123\", 41.0,    80.0,    60.0,    40.0,    44.0,   \"C\"\r\n",
      "\"Android\",   \"Electric\",   \"087-65-4321\", 42.0,    23.0,    36.0,    45.0,    47.0,   \"B-\"\r\n",
      "\"Bumpkin\",   \"Fred\",       \"456-78-9012\", 43.0,    78.0,    88.0,    77.0,    45.0,   \"A-\"\r\n",
      "\"Rubble\",    \"Betty\",      \"234-56-7890\", 44.0,    90.0,    80.0,    90.0,    46.0,   \"C-\"\r\n",
      "\"Noshow\",    \"Cecil\",      \"345-67-8901\", 45.0,    11.0,    -1.0,     4.0,    43.0,   \"F\"\r\n",
      "\"Buff\",      \"Bif\",        \"632-79-9939\", 46.0,    20.0,    30.0,    40.0,    50.0,   \"B+\"\r\n",
      "\"Airpump\",   \"Andrew\",     \"223-45-6789\", 49.0,      1.0,    90.0,   100.0,    83.0,   \"A\"\r\n"
     ]
    }
   ],
   "source": [
    "! head grades-headless.csv"
   ]
  },
  {
   "cell_type": "code",
   "execution_count": 161,
   "metadata": {},
   "outputs": [],
   "source": [
    "! sed -i grades-headless.csv -e '1'd"
   ]
  },
  {
   "cell_type": "code",
   "execution_count": 163,
   "metadata": {},
   "outputs": [
    {
     "name": "stdout",
     "output_type": "stream",
     "text": [
      "\"Alfalfa\",   \"Aloysius\",   \"123-45-6789\", 40.0,    90.0,   100.0,    83.0,    49.0,   \"D-\"\r\n",
      "\"Alfred\",    \"University\", \"123-12-1234\", 41.0,    97.0,    96.0,    97.0,    48.0,   \"D+\"\r\n",
      "\"Gerty\",     \"Gramma\",     \"567-89-0123\", 41.0,    80.0,    60.0,    40.0,    44.0,   \"C\"\r\n",
      "\"Android\",   \"Electric\",   \"087-65-4321\", 42.0,    23.0,    36.0,    45.0,    47.0,   \"B-\"\r\n",
      "\"Bumpkin\",   \"Fred\",       \"456-78-9012\", 43.0,    78.0,    88.0,    77.0,    45.0,   \"A-\"\r\n",
      "\"Rubble\",    \"Betty\",      \"234-56-7890\", 44.0,    90.0,    80.0,    90.0,    46.0,   \"C-\"\r\n",
      "\"Noshow\",    \"Cecil\",      \"345-67-8901\", 45.0,    11.0,    -1.0,     4.0,    43.0,   \"F\"\r\n",
      "\"Buff\",      \"Bif\",        \"632-79-9939\", 46.0,    20.0,    30.0,    40.0,    50.0,   \"B+\"\r\n",
      "\"Airpump\",   \"Andrew\",     \"223-45-6789\", 49.0,      1.0,    90.0,   100.0,    83.0,   \"A\"\r\n",
      "\"Backus\",    \"Jim\",        \"143-12-1234\", 48.0,     1.0,    97.0,    96.0,    97.0,   \"A+\"\r\n"
     ]
    }
   ],
   "source": [
    "! head grades-headless.csv"
   ]
  },
  {
   "cell_type": "markdown",
   "metadata": {},
   "source": [
    "### Jq\n",
    "jq не является стандартной программой и ее необходимо самостоятельно установить. Для Ubuntu - apt-get install jq.\n",
    "\n",
    "jq - это манипулятор JSON документами. Имеет свой язык запросов к JSON, чем то похожий на пайплайны в bash.\n",
    "\n",
    "Подробнее узнать можно здесь - https://stedolan.github.io/jq/\n",
    "\n",
    "В файле covid.json содержатся записи о заболеваниях короновирусом в различных странах."
   ]
  },
  {
   "cell_type": "code",
   "execution_count": 167,
   "metadata": {},
   "outputs": [
    {
     "name": "stdout",
     "output_type": "stream",
     "text": [
      "Reading package lists... Done\n",
      "Building dependency tree       \n",
      "Reading state information... Done\n",
      "The following additional packages will be installed:\n",
      "  libjq1\n",
      "The following NEW packages will be installed:\n",
      "  jq libjq1\n",
      "0 upgraded, 2 newly installed, 0 to remove and 28 not upgraded.\n",
      "Need to get 171 kB of archives.\n",
      "After this operation, 450 kB of additional disk space will be used.\n",
      "Get:1 http://archive.ubuntu.com/ubuntu focal/universe amd64 libjq1 amd64 1.6-1 [121 kB]\n",
      "Get:2 http://archive.ubuntu.com/ubuntu focal/universe amd64 jq amd64 1.6-1 [50.2 kB]\n",
      "Fetched 171 kB in 0s (451 kB/s)\n",
      "debconf: delaying package configuration, since apt-utils is not installed\n",
      "Selecting previously unselected package libjq1:amd64.\n",
      "(Reading database ... 107725 files and directories currently installed.)\n",
      "Preparing to unpack .../libjq1_1.6-1_amd64.deb ...\n",
      "Unpacking libjq1:amd64 (1.6-1) ...\n",
      "Selecting previously unselected package jq.\n",
      "Preparing to unpack .../archives/jq_1.6-1_amd64.deb ...\n",
      "Unpacking jq (1.6-1) ...\n",
      "Setting up libjq1:amd64 (1.6-1) ...\n",
      "Setting up jq (1.6-1) ...\n",
      "Processing triggers for libc-bin (2.31-0ubuntu9.1) ...\n"
     ]
    }
   ],
   "source": [
    "! apt-get install jq -y"
   ]
  },
  {
   "cell_type": "code",
   "execution_count": 168,
   "metadata": {},
   "outputs": [
    {
     "name": "stdout",
     "output_type": "stream",
     "text": [
      "{\r\n",
      "    \"measures\": [\r\n",
      "        {\r\n",
      "            \"uid\": 4,\r\n",
      "            \"country_iso2\": \"AF\",\r\n",
      "            \"country_iso3\": \"AFG\",\r\n",
      "            \"country_code\": 4,\r\n",
      "            \"country\": \"Afghanistan\",\r\n",
      "            \"combined_name\": \"Afghanistan\",\r\n",
      "            \"population\": 38928341,\r\n"
     ]
    }
   ],
   "source": [
    "! head covid.json"
   ]
  },
  {
   "cell_type": "markdown",
   "metadata": {},
   "source": [
    "Основной формат запроса в jq - это json path - путь из ключей, по которому нужно пройтись. Каждый такой path генерирует новый поток данных, согласно этому запросу, который можно дальше модифицировать.\n",
    "\n",
    "Самый короткий запрос это . - то есть мы запрашиваем весть документ целиком. Попробуем посмотреть на первый элемент в массиве measures."
   ]
  },
  {
   "cell_type": "code",
   "execution_count": 169,
   "metadata": {},
   "outputs": [
    {
     "name": "stdout",
     "output_type": "stream",
     "text": [
      "\u001b[1;39m{\r\n",
      "  \u001b[0m\u001b[34;1m\"uid\"\u001b[0m\u001b[1;39m: \u001b[0m\u001b[0;39m4\u001b[0m\u001b[1;39m,\r\n",
      "  \u001b[0m\u001b[34;1m\"country_iso2\"\u001b[0m\u001b[1;39m: \u001b[0m\u001b[0;32m\"AF\"\u001b[0m\u001b[1;39m,\r\n",
      "  \u001b[0m\u001b[34;1m\"country_iso3\"\u001b[0m\u001b[1;39m: \u001b[0m\u001b[0;32m\"AFG\"\u001b[0m\u001b[1;39m,\r\n",
      "  \u001b[0m\u001b[34;1m\"country_code\"\u001b[0m\u001b[1;39m: \u001b[0m\u001b[0;39m4\u001b[0m\u001b[1;39m,\r\n",
      "  \u001b[0m\u001b[34;1m\"country\"\u001b[0m\u001b[1;39m: \u001b[0m\u001b[0;32m\"Afghanistan\"\u001b[0m\u001b[1;39m,\r\n",
      "  \u001b[0m\u001b[34;1m\"combined_name\"\u001b[0m\u001b[1;39m: \u001b[0m\u001b[0;32m\"Afghanistan\"\u001b[0m\u001b[1;39m,\r\n",
      "  \u001b[0m\u001b[34;1m\"population\"\u001b[0m\u001b[1;39m: \u001b[0m\u001b[0;39m38928341\u001b[0m\u001b[1;39m,\r\n",
      "  \u001b[0m\u001b[34;1m\"loc\"\u001b[0m\u001b[1;39m: \u001b[0m\u001b[1;39m{\r\n",
      "    \u001b[0m\u001b[34;1m\"type\"\u001b[0m\u001b[1;39m: \u001b[0m\u001b[0;32m\"Point\"\u001b[0m\u001b[1;39m,\r\n",
      "    \u001b[0m\u001b[34;1m\"coordinates\"\u001b[0m\u001b[1;39m: \u001b[0m\u001b[1;39m[\r\n",
      "      \u001b[0;39m67.71\u001b[0m\u001b[1;39m,\r\n",
      "      \u001b[0;39m33.9391\u001b[0m\u001b[1;39m\r\n",
      "    \u001b[1;39m]\u001b[0m\u001b[1;39m\r\n",
      "  \u001b[1;39m}\u001b[0m\u001b[1;39m,\r\n",
      "  \u001b[0m\u001b[34;1m\"confirmed\"\u001b[0m\u001b[1;39m: \u001b[0m\u001b[0;39m0\u001b[0m\u001b[1;39m,\r\n",
      "  \u001b[0m\u001b[34;1m\"deaths\"\u001b[0m\u001b[1;39m: \u001b[0m\u001b[0;39m0\u001b[0m\u001b[1;39m,\r\n",
      "  \u001b[0m\u001b[34;1m\"recovered\"\u001b[0m\u001b[1;39m: \u001b[0m\u001b[0;39m0\u001b[0m\u001b[1;39m\r\n",
      "\u001b[1;39m}\u001b[0m\r\n"
     ]
    }
   ],
   "source": [
    "! cat covid.json | jq '.measures[0]'"
   ]
  },
  {
   "cell_type": "code",
   "execution_count": 171,
   "metadata": {},
   "outputs": [
    {
     "name": "stdout",
     "output_type": "stream",
     "text": [
      "\u001b[0;32m\"Afghanistan\"\u001b[0m\r\n"
     ]
    }
   ],
   "source": [
    "! cat covid.json | jq '.measures[0].country'"
   ]
  },
  {
   "cell_type": "code",
   "execution_count": 172,
   "metadata": {},
   "outputs": [
    {
     "name": "stdout",
     "output_type": "stream",
     "text": [
      "\u001b[1;39m[\r\n",
      "  \u001b[0;32m\"measures\"\u001b[0m\u001b[1;39m\r\n",
      "\u001b[1;39m]\u001b[0m\r\n"
     ]
    }
   ],
   "source": [
    "! cat covid.json | jq '. | keys'"
   ]
  },
  {
   "cell_type": "code",
   "execution_count": 174,
   "metadata": {},
   "outputs": [
    {
     "name": "stdout",
     "output_type": "stream",
     "text": [
      "\u001b[1;39m[\r\n",
      "  \u001b[0;32m\"combined_name\"\u001b[0m\u001b[1;39m,\r\n",
      "  \u001b[0;32m\"confirmed\"\u001b[0m\u001b[1;39m,\r\n",
      "  \u001b[0;32m\"country\"\u001b[0m\u001b[1;39m,\r\n",
      "  \u001b[0;32m\"country_code\"\u001b[0m\u001b[1;39m,\r\n",
      "  \u001b[0;32m\"country_iso2\"\u001b[0m\u001b[1;39m,\r\n",
      "  \u001b[0;32m\"country_iso3\"\u001b[0m\u001b[1;39m,\r\n",
      "  \u001b[0;32m\"deaths\"\u001b[0m\u001b[1;39m,\r\n",
      "  \u001b[0;32m\"loc\"\u001b[0m\u001b[1;39m,\r\n",
      "  \u001b[0;32m\"population\"\u001b[0m\u001b[1;39m,\r\n",
      "  \u001b[0;32m\"recovered\"\u001b[0m\u001b[1;39m,\r\n",
      "  \u001b[0;32m\"uid\"\u001b[0m\u001b[1;39m\r\n",
      "\u001b[1;39m]\u001b[0m\r\n"
     ]
    }
   ],
   "source": [
    "! cat covid.json | jq '.measures[0] | keys'"
   ]
  },
  {
   "cell_type": "code",
   "execution_count": 176,
   "metadata": {},
   "outputs": [
    {
     "name": "stdout",
     "output_type": "stream",
     "text": [
      "\u001b[1;39m[\r\n",
      "  \u001b[0;32m\"coordinates\"\u001b[0m\u001b[1;39m,\r\n",
      "  \u001b[0;32m\"type\"\u001b[0m\u001b[1;39m\r\n",
      "\u001b[1;39m]\u001b[0m\r\n"
     ]
    }
   ],
   "source": [
    "! cat covid.json | jq '.measures[0].loc | keys'"
   ]
  },
  {
   "cell_type": "code",
   "execution_count": 178,
   "metadata": {},
   "outputs": [
    {
     "name": "stdout",
     "output_type": "stream",
     "text": [
      "\u001b[1;39m[\r\n",
      "  \u001b[1;39m{\r\n",
      "    \u001b[0m\u001b[34;1m\"uid\"\u001b[0m\u001b[1;39m: \u001b[0m\u001b[0;39m4\u001b[0m\u001b[1;39m,\r\n",
      "    \u001b[0m\u001b[34;1m\"country_iso2\"\u001b[0m\u001b[1;39m: \u001b[0m\u001b[0;32m\"AF\"\u001b[0m\u001b[1;39m,\r\n",
      "    \u001b[0m\u001b[34;1m\"country_iso3\"\u001b[0m\u001b[1;39m: \u001b[0m\u001b[0;32m\"AFG\"\u001b[0m\u001b[1;39m,\r\n",
      "    \u001b[0m\u001b[34;1m\"country_code\"\u001b[0m\u001b[1;39m: \u001b[0m\u001b[0;39m4\u001b[0m\u001b[1;39m,\r\n",
      "    \u001b[0m\u001b[34;1m\"country\"\u001b[0m\u001b[1;39m: \u001b[0m\u001b[0;32m\"Afghanistan\"\u001b[0m\u001b[1;39m,\r\n",
      "    \u001b[0m\u001b[34;1m\"combined_name\"\u001b[0m\u001b[1;39m: \u001b[0m\u001b[0;32m\"Afghanistan\"\u001b[0m\u001b[1;39m,\r\n",
      "    \u001b[0m\u001b[34;1m\"population\"\u001b[0m\u001b[1;39m: \u001b[0m\u001b[0;39m38928341\u001b[0m\u001b[1;39m,\r\n",
      "    \u001b[0m\u001b[34;1m\"loc\"\u001b[0m\u001b[1;39m: \u001b[0m\u001b[1;39m{\r\n",
      "      \u001b[0m\u001b[34;1m\"type\"\u001b[0m\u001b[1;39m: \u001b[0m\u001b[0;32m\"Point\"\u001b[0m\u001b[1;39m,\r\n",
      "      \u001b[0m\u001b[34;1m\"coordinates\"\u001b[0m\u001b[1;39m: \u001b[0m\u001b[1;39m[\r\n",
      "        \u001b[0;39m67.71\u001b[0m\u001b[1;39m,\r\n",
      "        \u001b[0;39m33.9391\u001b[0m\u001b[1;39m\r\n",
      "      \u001b[1;39m]\u001b[0m\u001b[1;39m\r\n",
      "    \u001b[1;39m}\u001b[0m\u001b[1;39m,\r\n",
      "    \u001b[0m\u001b[34;1m\"confirmed\"\u001b[0m\u001b[1;39m: \u001b[0m\u001b[0;39m0\u001b[0m\u001b[1;39m,\r\n",
      "    \u001b[0m\u001b[34;1m\"deaths\"\u001b[0m\u001b[1;39m: \u001b[0m\u001b[0;39m0\u001b[0m\u001b[1;39m,\r\n",
      "    \u001b[0m\u001b[34;1m\"recovered\"\u001b[0m\u001b[1;39m: \u001b[0m\u001b[0;39m0\u001b[0m\u001b[1;39m\r\n",
      "  \u001b[1;39m}\u001b[0m\u001b[1;39m,\r\n",
      "  \u001b[1;39m{\r\n",
      "    \u001b[0m\u001b[34;1m\"uid\"\u001b[0m\u001b[1;39m: \u001b[0m\u001b[0;39m4\u001b[0m\u001b[1;39m,\r\n",
      "    \u001b[0m\u001b[34;1m\"country_iso2\"\u001b[0m\u001b[1;39m: \u001b[0m\u001b[0;32m\"AF\"\u001b[0m\u001b[1;39m,\r\n",
      "    \u001b[0m\u001b[34;1m\"country_iso3\"\u001b[0m\u001b[1;39m: \u001b[0m\u001b[0;32m\"AFG\"\u001b[0m\u001b[1;39m,\r\n",
      "    \u001b[0m\u001b[34;1m\"country_code\"\u001b[0m\u001b[1;39m: \u001b[0m\u001b[0;39m4\u001b[0m\u001b[1;39m,\r\n",
      "    \u001b[0m\u001b[34;1m\"country\"\u001b[0m\u001b[1;39m: \u001b[0m\u001b[0;32m\"Afghanistan\"\u001b[0m\u001b[1;39m,\r\n",
      "    \u001b[0m\u001b[34;1m\"combined_name\"\u001b[0m\u001b[1;39m: \u001b[0m\u001b[0;32m\"Afghanistan\"\u001b[0m\u001b[1;39m,\r\n",
      "    \u001b[0m\u001b[34;1m\"population\"\u001b[0m\u001b[1;39m: \u001b[0m\u001b[0;39m38928341\u001b[0m\u001b[1;39m,\r\n",
      "    \u001b[0m\u001b[34;1m\"loc\"\u001b[0m\u001b[1;39m: \u001b[0m\u001b[1;39m{\r\n",
      "      \u001b[0m\u001b[34;1m\"type\"\u001b[0m\u001b[1;39m: \u001b[0m\u001b[0;32m\"Point\"\u001b[0m\u001b[1;39m,\r\n",
      "      \u001b[0m\u001b[34;1m\"coordinates\"\u001b[0m\u001b[1;39m: \u001b[0m\u001b[1;39m[\r\n",
      "        \u001b[0;39m67.71\u001b[0m\u001b[1;39m,\r\n",
      "        \u001b[0;39m33.9391\u001b[0m\u001b[1;39m\r\n",
      "      \u001b[1;39m]\u001b[0m\u001b[1;39m\r\n",
      "    \u001b[1;39m}\u001b[0m\u001b[1;39m,\r\n",
      "    \u001b[0m\u001b[34;1m\"confirmed\"\u001b[0m\u001b[1;39m: \u001b[0m\u001b[0;39m0\u001b[0m\u001b[1;39m,\r\n",
      "    \u001b[0m\u001b[34;1m\"deaths\"\u001b[0m\u001b[1;39m: \u001b[0m\u001b[0;39m0\u001b[0m\u001b[1;39m,\r\n",
      "    \u001b[0m\u001b[34;1m\"recovered\"\u001b[0m\u001b[1;39m: \u001b[0m\u001b[0;39m0\u001b[0m\u001b[1;39m\r\n",
      "  \u001b[1;39m}\u001b[0m\u001b[1;39m\r\n",
      "\u001b[1;39m]\u001b[0m\r\n"
     ]
    }
   ],
   "source": [
    "! cat covid.json | jq '.measures[3:5]'"
   ]
  },
  {
   "cell_type": "code",
   "execution_count": 179,
   "metadata": {},
   "outputs": [
    {
     "name": "stdout",
     "output_type": "stream",
     "text": [
      "\u001b[0;39m1000\u001b[0m\r\n"
     ]
    }
   ],
   "source": [
    "! cat covid.json | jq '.measures | length'  # В массиве 1000 элементов"
   ]
  },
  {
   "cell_type": "code",
   "execution_count": 181,
   "metadata": {},
   "outputs": [
    {
     "name": "stdout",
     "output_type": "stream",
     "text": [
      "\u001b[0;39m0\u001b[0m\r\n",
      "\u001b[0;39m0\u001b[0m\r\n",
      "\u001b[0;39m0\u001b[0m\r\n",
      "\u001b[0;39m0\u001b[0m\r\n",
      "\u001b[0;39m0\u001b[0m\r\n",
      "\u001b[0;39m0\u001b[0m\r\n",
      "\u001b[0;39m0\u001b[0m\r\n",
      "\u001b[0;39m0\u001b[0m\r\n",
      "\u001b[0;39m0\u001b[0m\r\n",
      "\u001b[0;39m0\u001b[0m\r\n",
      "\u001b[0;39m0\u001b[0m\r\n",
      "\u001b[0;39m0\u001b[0m\r\n",
      "\u001b[0;39m0\u001b[0m\r\n",
      "\u001b[0;39m0\u001b[0m\r\n",
      "\u001b[0;39m0\u001b[0m\r\n",
      "\u001b[0;39m0\u001b[0m\r\n",
      "\u001b[0;39m0\u001b[0m\r\n",
      "\u001b[0;39m0\u001b[0m\r\n",
      "\u001b[0;39m0\u001b[0m\r\n",
      "\u001b[0;39m0\u001b[0m\r\n",
      "\u001b[0;39m1\u001b[0m\r\n",
      "\u001b[0;39m1\u001b[0m\r\n",
      "\u001b[0;39m1\u001b[0m\r\n",
      "\u001b[0;39m1\u001b[0m\r\n",
      "\u001b[0;39m1\u001b[0m\r\n",
      "\u001b[0;39m7\u001b[0m\r\n",
      "\u001b[0;39m7\u001b[0m\r\n",
      "\u001b[0;39m7\u001b[0m\r\n",
      "\u001b[0;39m11\u001b[0m\r\n",
      "\u001b[0;39m16\u001b[0m\r\n",
      "\u001b[0;39m21\u001b[0m\r\n",
      "\u001b[0;39m22\u001b[0m\r\n",
      "\u001b[0;39m22\u001b[0m\r\n",
      "\u001b[0;39m22\u001b[0m\r\n",
      "\u001b[0;39m24\u001b[0m\r\n",
      "\u001b[0;39m24\u001b[0m\r\n",
      "\u001b[0;39m40\u001b[0m\r\n",
      "\u001b[0;39m40\u001b[0m\r\n",
      "\u001b[0;39m94\u001b[0m\r\n",
      "\u001b[0;39m110\u001b[0m\r\n",
      "\u001b[0;39m110\u001b[0m\r\n",
      "\u001b[0;39m273\u001b[0m\r\n",
      "\u001b[0;39m281\u001b[0m\r\n",
      "\u001b[0;39m299\u001b[0m\r\n",
      "\u001b[0;39m349\u001b[0m\r\n",
      "\u001b[0;39m367\u001b[0m\r\n",
      "\u001b[0;39m423\u001b[0m\r\n",
      "\u001b[0;39m444\u001b[0m\r\n",
      "\u001b[0;39m484\u001b[0m\r\n",
      "\u001b[0;39m521\u001b[0m\r\n",
      "\u001b[0;39m607\u001b[0m\r\n",
      "\u001b[0;39m714\u001b[0m\r\n",
      "\u001b[0;39m1828\u001b[0m\r\n",
      "\u001b[0;39m2171\u001b[0m\r\n",
      "\u001b[0;39m2335\u001b[0m\r\n",
      "\u001b[0;39m2469\u001b[0m\r\n",
      "\u001b[0;39m2704\u001b[0m\r\n",
      "\u001b[0;39m2894\u001b[0m\r\n",
      "\u001b[0;39m3224\u001b[0m\r\n",
      "\u001b[0;39m3392\u001b[0m\r\n",
      "\u001b[0;39m3563\u001b[0m\r\n",
      "\u001b[0;39m3778\u001b[0m\r\n",
      "\u001b[0;39m4033\u001b[0m\r\n",
      "\u001b[0;39m4402\u001b[0m\r\n",
      "\u001b[0;39m4687\u001b[0m\r\n",
      "\u001b[0;39m4963\u001b[0m\r\n",
      "\u001b[0;39m5639\u001b[0m\r\n",
      "\u001b[0;39m6053\u001b[0m\r\n",
      "\u001b[0;39m6402\u001b[0m\r\n",
      "\u001b[0;39m6664\u001b[0m\r\n",
      "\u001b[0;39m7072\u001b[0m\r\n",
      "\u001b[0;39m7653\u001b[0m\r\n",
      "\u001b[0;39m8145\u001b[0m\r\n",
      "\u001b[0;39m8676\u001b[0m\r\n",
      "\u001b[0;39m9216\u001b[0m\r\n",
      "\u001b[0;39m9998\u001b[0m\r\n",
      "\u001b[0;39m10582\u001b[0m\r\n",
      "\u001b[0;39m11173\u001b[0m\r\n",
      "\u001b[0;39m11831\u001b[0m\r\n",
      "\u001b[0;39m13036\u001b[0m\r\n",
      "\u001b[0;39m15750\u001b[0m\r\n",
      "\u001b[0;39m16509\u001b[0m\r\n",
      "\u001b[0;39m18054\u001b[0m\r\n",
      "\u001b[0;39m18969\u001b[0m\r\n",
      "\u001b[0;39m19551\u001b[0m\r\n",
      "\u001b[0;39m20342\u001b[0m\r\n",
      "\u001b[0;39m20917\u001b[0m\r\n",
      "\u001b[0;39m21459\u001b[0m\r\n",
      "\u001b[0;39m22142\u001b[0m\r\n",
      "\u001b[0;39m22890\u001b[0m\r\n",
      "\u001b[0;39m23546\u001b[0m\r\n",
      "\u001b[0;39m24102\u001b[0m\r\n",
      "\u001b[0;39m24766\u001b[0m\r\n",
      "\u001b[0;39m25527\u001b[0m\r\n",
      "\u001b[0;39m26310\u001b[0m\r\n",
      "\u001b[0;39m26874\u001b[0m\r\n",
      "\u001b[0;39m27532\u001b[0m\r\n",
      "\u001b[0;39m27878\u001b[0m\r\n",
      "\u001b[0;39m28424\u001b[0m\r\n",
      "\u001b[0;39m33190\u001b[0m\r\n",
      "\u001b[0;39m33384\u001b[0m\r\n",
      "\u001b[0;39m33908\u001b[0m\r\n",
      "\u001b[0;39m0\u001b[0m\r\n",
      "\u001b[0;39m0\u001b[0m\r\n",
      "\u001b[0;39m0\u001b[0m\r\n",
      "\u001b[0;39m0\u001b[0m\r\n",
      "\u001b[0;39m0\u001b[0m\r\n",
      "\u001b[0;39m0\u001b[0m\r\n",
      "\u001b[0;39m0\u001b[0m\r\n",
      "\u001b[0;39m0\u001b[0m\r\n",
      "\u001b[0;39m0\u001b[0m\r\n",
      "\u001b[0;39m42\u001b[0m\r\n",
      "\u001b[0;39m51\u001b[0m\r\n",
      "\u001b[0;39m55\u001b[0m\r\n",
      "\u001b[0;39m59\u001b[0m\r\n",
      "\u001b[0;39m64\u001b[0m\r\n",
      "\u001b[0;39m70\u001b[0m\r\n",
      "\u001b[0;39m76\u001b[0m\r\n",
      "\u001b[0;39m89\u001b[0m\r\n",
      "\u001b[0;39m104\u001b[0m\r\n",
      "\u001b[0;39m123\u001b[0m\r\n",
      "\u001b[0;39m146\u001b[0m\r\n",
      "\u001b[0;39m174\u001b[0m\r\n",
      "\u001b[0;39m186\u001b[0m\r\n",
      "\u001b[0;39m197\u001b[0m\r\n",
      "\u001b[0;39m212\u001b[0m\r\n",
      "\u001b[0;39m475\u001b[0m\r\n",
      "\u001b[0;39m518\u001b[0m\r\n",
      "\u001b[0;39m539\u001b[0m\r\n",
      "\u001b[0;39m548\u001b[0m\r\n",
      "\u001b[0;39m562\u001b[0m\r\n",
      "\u001b[0;39m584\u001b[0m\r\n",
      "\u001b[0;39m609\u001b[0m\r\n",
      "\u001b[0;39m782\u001b[0m\r\n",
      "\u001b[0;39m795\u001b[0m\r\n",
      "\u001b[0;39m820\u001b[0m\r\n",
      "\u001b[0;39m832\u001b[0m\r\n",
      "\u001b[0;39m842\u001b[0m\r\n",
      "\u001b[0;39m850\u001b[0m\r\n",
      "\u001b[0;39m856\u001b[0m\r\n",
      "\u001b[0;39m868\u001b[0m\r\n",
      "\u001b[0;39m872\u001b[0m\r\n",
      "\u001b[0;39m1122\u001b[0m\r\n",
      "\u001b[0;39m1143\u001b[0m\r\n",
      "\u001b[0;39m1788\u001b[0m\r\n",
      "\u001b[0;39m1891\u001b[0m\r\n",
      "\u001b[0;39m2114\u001b[0m\r\n",
      "\u001b[0;39m2819\u001b[0m\r\n",
      "\u001b[0;39m2893\u001b[0m\r\n",
      "\u001b[0;39m2964\u001b[0m\r\n",
      "\u001b[0;39m3038\u001b[0m\r\n",
      "\u001b[0;39m3106\u001b[0m\r\n",
      "\u001b[0;39m3188\u001b[0m\r\n",
      "\u001b[0;39m3278\u001b[0m\r\n",
      "\u001b[0;39m0\u001b[0m\r\n",
      "\u001b[0;39m0\u001b[0m\r\n",
      "\u001b[0;39m0\u001b[0m\r\n",
      "\u001b[0;39m0\u001b[0m\r\n",
      "\u001b[0;39m0\u001b[0m\r\n",
      "\u001b[0;39m0\u001b[0m\r\n",
      "\u001b[0;39m0\u001b[0m\r\n",
      "\u001b[0;39m0\u001b[0m\r\n",
      "\u001b[0;39m0\u001b[0m\r\n",
      "\u001b[0;39m0\u001b[0m\r\n",
      "\u001b[0;39m1\u001b[0m\r\n",
      "\u001b[0;39m1\u001b[0m\r\n",
      "\u001b[0;39m1\u001b[0m\r\n",
      "\u001b[0;39m1\u001b[0m\r\n",
      "\u001b[0;39m1\u001b[0m\r\n",
      "\u001b[0;39m1\u001b[0m\r\n",
      "\u001b[0;39m3\u001b[0m\r\n",
      "\u001b[0;39m5\u001b[0m\r\n",
      "\u001b[0;39m12\u001b[0m\r\n",
      "\u001b[0;39m12\u001b[0m\r\n",
      "\u001b[0;39m17\u001b[0m\r\n",
      "\u001b[0;39m19\u001b[0m\r\n",
      "\u001b[0;39m54\u001b[0m\r\n",
      "\u001b[0;39m60\u001b[0m\r\n",
      "\u001b[0;39m74\u001b[0m\r\n",
      "\u001b[0;39m87\u001b[0m\r\n",
      "\u001b[0;39m90\u001b[0m\r\n",
      "\u001b[0;39m139\u001b[0m\r\n",
      "\u001b[0;39m201\u001b[0m\r\n",
      "\u001b[0;39m230\u001b[0m\r\n",
      "\u001b[0;39m264\u001b[0m\r\n",
      "\u001b[0;39m302\u001b[0m\r\n",
      "\u001b[0;39m367\u001b[0m\r\n",
      "\u001b[0;39m409\u001b[0m\r\n",
      "\u001b[0;39m511\u001b[0m\r\n",
      "\u001b[0;39m584\u001b[0m\r\n",
      "\u001b[0;39m716\u001b[0m\r\n",
      "\u001b[0;39m847\u001b[0m\r\n",
      "\u001b[0;39m0\u001b[0m\r\n",
      "\u001b[0;39m0\u001b[0m\r\n",
      "\u001b[0;39m0\u001b[0m\r\n",
      "\u001b[0;39m0\u001b[0m\r\n",
      "\u001b[0;39m0\u001b[0m\r\n",
      "\u001b[0;39m0\u001b[0m\r\n",
      "\u001b[0;39m0\u001b[0m\r\n",
      "\u001b[0;39m0\u001b[0m\r\n"
     ]
    }
   ],
   "source": [
    "! cat covid.json | jq '.measures[0:200] | .[].confirmed'"
   ]
  },
  {
   "cell_type": "code",
   "execution_count": 182,
   "metadata": {},
   "outputs": [
    {
     "name": "stdout",
     "output_type": "stream",
     "text": [
      "\"Afghanistan\"\r\n",
      "\"Albania\"\r\n",
      "\"Algeria\"\r\n",
      "\"Andorra\"\r\n",
      "\"Angola\"\r\n",
      "\"Antigua and Barbuda\"\r\n",
      "\"Argentina\"\r\n"
     ]
    }
   ],
   "source": [
    "! cat covid.json | jq '.measures[].country' | sort | uniq"
   ]
  },
  {
   "cell_type": "code",
   "execution_count": 184,
   "metadata": {},
   "outputs": [
    {
     "name": "stdout",
     "output_type": "stream",
     "text": [
      "Afghanistan\r\n",
      "Albania\r\n",
      "Algeria\r\n",
      "Andorra\r\n",
      "Angola\r\n",
      "Antigua and Barbuda\r\n",
      "Argentina\r\n"
     ]
    }
   ],
   "source": [
    "! cat covid.json | jq -r '.measures[].country' | sort | uniq"
   ]
  },
  {
   "cell_type": "markdown",
   "metadata": {},
   "source": [
    "С помощью jq можно фильтровать запросы. Для этого есть оператор select"
   ]
  },
  {
   "cell_type": "code",
   "execution_count": 186,
   "metadata": {},
   "outputs": [
    {
     "name": "stdout",
     "output_type": "stream",
     "text": [
      "{\n",
      "  \"uid\": 24,\n",
      "  \"country_iso2\": \"AO\",\n",
      "  \"country_iso3\": \"AGO\",\n",
      "  \"country_code\": 24,\n",
      "  \"country\": \"Angola\",\n",
      "  \"combined_name\": \"Angola\",\n",
      "  \"population\": 32866268,\n",
      "  \"loc\": {\n",
      "    \"type\": \"Point\",\n",
      "    \"coordinates\": [\n",
      "      17.8739,\n",
      "      -11.2027\n",
      "    ]\n",
      "  },\n",
      "  \"confirmed\": 0,\n",
      "  \"deaths\": 0,\n",
      "  \"recovered\": 0\n",
      "}\n",
      "{\n",
      "  \"uid\": 24,\n",
      "  \"country_iso2\": \"AO\",\n",
      "  \"country_iso3\": \"AGO\",\n",
      "  \"country_code\": 24,\n",
      "  \"country\": \"Angola\",\n",
      "  \"combined_name\": \"Angola\",\n",
      "  \"population\": 32866268,\n",
      "  \"loc\": {\n",
      "    \"type\": \"Point\",\n",
      "    \"coordinates\": [\n",
      "Error: writing output failed: Broken pipe\n"
     ]
    }
   ],
   "source": [
    "! cat covid.json | jq '.measures[] | select(.country == \"Angola\")' | head -n 30"
   ]
  },
  {
   "cell_type": "code",
   "execution_count": 188,
   "metadata": {},
   "outputs": [
    {
     "name": "stdout",
     "output_type": "stream",
     "text": [
      "\u001b[0;39m0\u001b[0m\r\n",
      "\u001b[0;39m0\u001b[0m\r\n",
      "\u001b[0;39m0\u001b[0m\r\n",
      "\u001b[0;39m0\u001b[0m\r\n",
      "\u001b[0;39m0\u001b[0m\r\n",
      "\u001b[0;39m0\u001b[0m\r\n",
      "\u001b[0;39m0\u001b[0m\r\n",
      "\u001b[0;39m0\u001b[0m\r\n",
      "\u001b[0;39m0\u001b[0m\r\n",
      "\u001b[0;39m0\u001b[0m\r\n",
      "\u001b[0;39m0\u001b[0m\r\n",
      "\u001b[0;39m0\u001b[0m\r\n",
      "\u001b[0;39m0\u001b[0m\r\n",
      "\u001b[0;39m0\u001b[0m\r\n",
      "\u001b[0;39m0\u001b[0m\r\n",
      "\u001b[0;39m0\u001b[0m\r\n",
      "\u001b[0;39m0\u001b[0m\r\n",
      "\u001b[0;39m0\u001b[0m\r\n",
      "\u001b[0;39m0\u001b[0m\r\n",
      "\u001b[0;39m0\u001b[0m\r\n",
      "\u001b[0;39m0\u001b[0m\r\n",
      "\u001b[0;39m0\u001b[0m\r\n",
      "\u001b[0;39m0\u001b[0m\r\n",
      "\u001b[0;39m0\u001b[0m\r\n",
      "\u001b[0;39m1\u001b[0m\r\n",
      "\u001b[0;39m2\u001b[0m\r\n",
      "\u001b[0;39m2\u001b[0m\r\n",
      "\u001b[0;39m7\u001b[0m\r\n",
      "\u001b[0;39m7\u001b[0m\r\n",
      "\u001b[0;39m8\u001b[0m\r\n",
      "\u001b[0;39m8\u001b[0m\r\n",
      "\u001b[0;39m8\u001b[0m\r\n",
      "\u001b[0;39m10\u001b[0m\r\n",
      "\u001b[0;39m14\u001b[0m\r\n",
      "\u001b[0;39m17\u001b[0m\r\n",
      "\u001b[0;39m19\u001b[0m\r\n",
      "\u001b[0;39m19\u001b[0m\r\n",
      "\u001b[0;39m19\u001b[0m\r\n",
      "\u001b[0;39m19\u001b[0m\r\n",
      "\u001b[0;39m19\u001b[0m\r\n",
      "\u001b[0;39m19\u001b[0m\r\n",
      "\u001b[0;39m19\u001b[0m\r\n",
      "\u001b[0;39m24\u001b[0m\r\n",
      "\u001b[0;39m24\u001b[0m\r\n",
      "\u001b[0;39m24\u001b[0m\r\n",
      "\u001b[0;39m24\u001b[0m\r\n",
      "\u001b[0;39m25\u001b[0m\r\n",
      "\u001b[0;39m25\u001b[0m\r\n",
      "\u001b[0;39m25\u001b[0m\r\n",
      "\u001b[0;39m25\u001b[0m\r\n",
      "\u001b[0;39m26\u001b[0m\r\n",
      "\u001b[0;39m27\u001b[0m\r\n",
      "\u001b[0;39m27\u001b[0m\r\n",
      "\u001b[0;39m27\u001b[0m\r\n",
      "\u001b[0;39m30\u001b[0m\r\n",
      "\u001b[0;39m35\u001b[0m\r\n",
      "\u001b[0;39m35\u001b[0m\r\n",
      "\u001b[0;39m35\u001b[0m\r\n",
      "\u001b[0;39m36\u001b[0m\r\n",
      "\u001b[0;39m36\u001b[0m\r\n",
      "\u001b[0;39m36\u001b[0m\r\n",
      "\u001b[0;39m43\u001b[0m\r\n",
      "\u001b[0;39m43\u001b[0m\r\n",
      "\u001b[0;39m45\u001b[0m\r\n",
      "\u001b[0;39m45\u001b[0m\r\n",
      "\u001b[0;39m45\u001b[0m\r\n",
      "\u001b[0;39m45\u001b[0m\r\n",
      "\u001b[0;39m48\u001b[0m\r\n",
      "\u001b[0;39m48\u001b[0m\r\n",
      "\u001b[0;39m48\u001b[0m\r\n",
      "\u001b[0;39m48\u001b[0m\r\n",
      "\u001b[0;39m84\u001b[0m\r\n",
      "\u001b[0;39m86\u001b[0m\r\n",
      "\u001b[0;39m86\u001b[0m\r\n",
      "\u001b[0;39m86\u001b[0m\r\n",
      "\u001b[0;39m86\u001b[0m\r\n",
      "\u001b[0;39m86\u001b[0m\r\n",
      "\u001b[0;39m176\u001b[0m\r\n",
      "\u001b[0;39m346\u001b[0m\r\n",
      "\u001b[0;39m346\u001b[0m\r\n",
      "\u001b[0;39m386\u001b[0m\r\n",
      "\u001b[0;39m386\u001b[0m\r\n",
      "\u001b[0;39m396\u001b[0m\r\n",
      "\u001b[0;39m458\u001b[0m\r\n",
      "\u001b[0;39m0\u001b[0m\r\n",
      "\u001b[0;39m0\u001b[0m\r\n",
      "\u001b[0;39m0\u001b[0m\r\n",
      "\u001b[0;39m0\u001b[0m\r\n",
      "\u001b[0;39m0\u001b[0m\r\n",
      "\u001b[0;39m0\u001b[0m\r\n",
      "\u001b[0;39m0\u001b[0m\r\n",
      "\u001b[0;39m0\u001b[0m\r\n",
      "\u001b[0;39m0\u001b[0m\r\n",
      "\u001b[0;39m0\u001b[0m\r\n",
      "\u001b[0;39m0\u001b[0m\r\n",
      "\u001b[0;39m0\u001b[0m\r\n",
      "\u001b[0;39m0\u001b[0m\r\n",
      "\u001b[0;39m0\u001b[0m\r\n",
      "\u001b[0;39m0\u001b[0m\r\n",
      "\u001b[0;39m0\u001b[0m\r\n",
      "\u001b[0;39m0\u001b[0m\r\n",
      "\u001b[0;39m0\u001b[0m\r\n",
      "\u001b[0;39m0\u001b[0m\r\n",
      "\u001b[0;39m0\u001b[0m\r\n",
      "\u001b[0;39m0\u001b[0m\r\n",
      "\u001b[0;39m0\u001b[0m\r\n",
      "\u001b[0;39m0\u001b[0m\r\n",
      "\u001b[0;39m0\u001b[0m\r\n",
      "\u001b[0;39m0\u001b[0m\r\n",
      "\u001b[0;39m0\u001b[0m\r\n",
      "\u001b[0;39m0\u001b[0m\r\n",
      "\u001b[0;39m0\u001b[0m\r\n",
      "\u001b[0;39m0\u001b[0m\r\n",
      "\u001b[0;39m0\u001b[0m\r\n",
      "\u001b[0;39m0\u001b[0m\r\n",
      "\u001b[0;39m0\u001b[0m\r\n",
      "\u001b[0;39m0\u001b[0m\r\n",
      "\u001b[0;39m0\u001b[0m\r\n",
      "\u001b[0;39m3\u001b[0m\r\n",
      "\u001b[0;39m3\u001b[0m\r\n",
      "\u001b[0;39m3\u001b[0m\r\n",
      "\u001b[0;39m4\u001b[0m\r\n",
      "\u001b[0;39m4\u001b[0m\r\n",
      "\u001b[0;39m5\u001b[0m\r\n",
      "\u001b[0;39m7\u001b[0m\r\n",
      "\u001b[0;39m16\u001b[0m\r\n",
      "\u001b[0;39m19\u001b[0m\r\n",
      "\u001b[0;39m19\u001b[0m\r\n",
      "\u001b[0;39m19\u001b[0m\r\n",
      "\u001b[0;39m27\u001b[0m\r\n",
      "\u001b[0;39m50\u001b[0m\r\n",
      "\u001b[0;39m52\u001b[0m\r\n",
      "\u001b[0;39m52\u001b[0m\r\n",
      "\u001b[0;39m58\u001b[0m\r\n",
      "\u001b[0;39m60\u001b[0m\r\n",
      "\u001b[0;39m61\u001b[0m\r\n",
      "\u001b[0;39m69\u001b[0m\r\n",
      "\u001b[0;39m70\u001b[0m\r\n",
      "\u001b[0;39m70\u001b[0m\r\n",
      "\u001b[0;39m71\u001b[0m\r\n",
      "\u001b[0;39m74\u001b[0m\r\n",
      "\u001b[0;39m81\u001b[0m\r\n",
      "\u001b[0;39m86\u001b[0m\r\n",
      "\u001b[0;39m88\u001b[0m\r\n",
      "\u001b[0;39m91\u001b[0m\r\n",
      "\u001b[0;39m92\u001b[0m\r\n",
      "\u001b[0;39m96\u001b[0m\r\n",
      "\u001b[0;39m113\u001b[0m\r\n",
      "\u001b[0;39m118\u001b[0m\r\n",
      "\u001b[0;39m130\u001b[0m\r\n",
      "\u001b[0;39m138\u001b[0m\r\n",
      "\u001b[0;39m140\u001b[0m\r\n",
      "\u001b[0;39m142\u001b[0m\r\n",
      "\u001b[0;39m148\u001b[0m\r\n",
      "\u001b[0;39m155\u001b[0m\r\n",
      "\u001b[0;39m166\u001b[0m\r\n",
      "\u001b[0;39m172\u001b[0m\r\n",
      "\u001b[0;39m183\u001b[0m\r\n",
      "\u001b[0;39m186\u001b[0m\r\n",
      "\u001b[0;39m189\u001b[0m\r\n",
      "\u001b[0;39m197\u001b[0m\r\n",
      "\u001b[0;39m212\u001b[0m\r\n",
      "\u001b[0;39m212\u001b[0m\r\n",
      "\u001b[0;39m259\u001b[0m\r\n",
      "\u001b[0;39m267\u001b[0m\r\n",
      "\u001b[0;39m276\u001b[0m\r\n",
      "\u001b[0;39m284\u001b[0m\r\n",
      "\u001b[0;39m291\u001b[0m\r\n",
      "\u001b[0;39m315\u001b[0m\r\n",
      "\u001b[0;39m328\u001b[0m\r\n",
      "\u001b[0;39m346\u001b[0m\r\n"
     ]
    }
   ],
   "source": [
    "! cat covid.json | jq '.measures[] | select(.country == \"Angola\") | .confirmed'"
   ]
  },
  {
   "cell_type": "markdown",
   "metadata": {},
   "source": [
    "### Archives\n",
    "Очень часто данные хранятся в виде архивов. Команды tar и zip\\unzip позволяют распаковывать архивы.\n",
    "\n",
    "tar имеет целый набор однобуквенных ключей, комбинация которых позволяет производить различные операции над архивами.\n",
    "\n",
    "`c` - создать архив\n",
    "\n",
    "`x` - распаковать архив\n",
    "\n",
    "`z` - использовать алгоритм gzip. Архивы, созданные с таким алгоритмом, имеют расширение .tar.gz\n",
    "\n",
    "`v` - печатать на экран детали распаковки\n",
    "\n",
    "`f` - считать архив из указанного файла\n",
    "\n",
    "zip\\unzip работает немного проще. Команда zip создает новый архив, команда unzip распаковывает указанный архив.\n",
    "\n",
    "Подробнее можно узнать здесь - https://www.opennet.ru/man.shtml?topic=tar&category=1 и здесь - https://www.opennet.ru/man.shtml?topic=unzip&category=1&russian=4"
   ]
  },
  {
   "cell_type": "code",
   "execution_count": 189,
   "metadata": {},
   "outputs": [
    {
     "name": "stdout",
     "output_type": "stream",
     "text": [
      "grades.csv\r\n"
     ]
    }
   ],
   "source": [
    "# Создадим архив из файла cities\n",
    "! tar -czvf grades.tar.gz grades.csv"
   ]
  },
  {
   "cell_type": "code",
   "execution_count": 190,
   "metadata": {},
   "outputs": [
    {
     "name": "stdout",
     "output_type": "stream",
     "text": [
      "\u001f�\b\u0000\u0000\u0000\u0000\u0000\u0000\u0003��n�0\u0014�s��@��\\al0\\&��n�z�v\u000f�&N��@dH�����C)(�4��&��\"qL�����I\u001e",
      "����b�<�>�ؒ\tᯖ��,�1.e\u0016\u000b",
      ".y2�\u0019KE6�⏳�ʩi�������O�{���\u0014�C5mT��&_\"�*�`u{{c/\u001d",
      "�N7-s�]�@��\u0010���ڻ��Ŋ|\"��Vٗ�����)OMX��S��L慽!��?��\r\n",
      "\u0016Ý�w�(BA.i�6z\u0013\f",
      "�_U��MS�/��N�%�ŝ+�@ZB���\u001c",
      "�?[�+m����[9\u001c",
      "\u0014��LҼ�6�|(���\f",
      "�~CBt�Kg�ژ�\f",
      "��׽^��\\�U�K��T��uY$��\u0013�=\u0007�\"��sO\u0016�\u001f���+� ��[�V\"ͨ�ia];iP�9��B��3��I�<���u��n��DĶ�z�\"v�bt�����\f",
      "��o��~z]�{i��a�\u001d",
      "����\u0019��B\u0011�Sagd�����Z�r;�r�\u0013*\u000b",
      "Z\u0014�G\u000f\u001a��E>9�4�V�|�Ks���Rm�T?C>���.�b�F}��̝k��u\u0013\u0012���a���7��3�ޏ7�;�Ke�����ܴ\u0003��\u0006o�j1�>\u001f�00����\u0003�ֵ��|��\u001c",
      "K��7Y:i;$�GUy��[?�\u0011Ě��N����\u001d",
      "&feT�ۇ�����I��\u0010k8��)N�\u001d",
      "��tm\u001e",
      "���_\u0006��X�.�\u0013���&\u000b",
      "�|���'5��\\+���C���5�(�Ϸ�m���D\b� \b� \b� \b� \b� \b� \b� \b��-�\u0001>\"��\u0000(\u0000\u0000"
     ]
    }
   ],
   "source": [
    "! head -n 2 grades.tar.gz"
   ]
  },
  {
   "cell_type": "code",
   "execution_count": 192,
   "metadata": {},
   "outputs": [
    {
     "name": "stdout",
     "output_type": "stream",
     "text": [
      "grades.csv\r\n"
     ]
    }
   ],
   "source": [
    "# Распакуем этот архив в новую директорию tar-grades\n",
    "! mkdir -p tar-grades && tar -xzvf grades.tar.gz -C tar-grades/"
   ]
  },
  {
   "cell_type": "code",
   "execution_count": 193,
   "metadata": {},
   "outputs": [
    {
     "name": "stdout",
     "output_type": "stream",
     "text": [
      "grades.csv\r\n"
     ]
    }
   ],
   "source": [
    "! ls tar-grades/"
   ]
  },
  {
   "cell_type": "code",
   "execution_count": 194,
   "metadata": {},
   "outputs": [
    {
     "name": "stdout",
     "output_type": "stream",
     "text": [
      "\"Last name\", \"First name\", \"SSN\",        \"Test1\", \"Test2\", \"Test3\", \"Test4\", \"Final\", \"Grade\"\r\n",
      "\"Alfalfa\",   \"Aloysius\",   \"123-45-6789\", 40.0,    90.0,   100.0,    83.0,    49.0,   \"D-\"\r\n",
      "\"Alfred\",    \"University\", \"123-12-1234\", 41.0,    97.0,    96.0,    97.0,    48.0,   \"D+\"\r\n",
      "\"Gerty\",     \"Gramma\",     \"567-89-0123\", 41.0,    80.0,    60.0,    40.0,    44.0,   \"C\"\r\n",
      "\"Android\",   \"Electric\",   \"087-65-4321\", 42.0,    23.0,    36.0,    45.0,    47.0,   \"B-\"\r\n",
      "\"Bumpkin\",   \"Fred\",       \"456-78-9012\", 43.0,    78.0,    88.0,    77.0,    45.0,   \"A-\"\r\n",
      "\"Rubble\",    \"Betty\",      \"234-56-7890\", 44.0,    90.0,    80.0,    90.0,    46.0,   \"C-\"\r\n",
      "\"Noshow\",    \"Cecil\",      \"345-67-8901\", 45.0,    11.0,    -1.0,     4.0,    43.0,   \"F\"\r\n",
      "\"Buff\",      \"Bif\",        \"632-79-9939\", 46.0,    20.0,    30.0,    40.0,    50.0,   \"B+\"\r\n",
      "\"Airpump\",   \"Andrew\",     \"223-45-6789\", 49.0,      1.0,    90.0,   100.0,    83.0,   \"A\"\r\n"
     ]
    }
   ],
   "source": [
    "! head tar-grades/grades.csv"
   ]
  },
  {
   "cell_type": "code",
   "execution_count": null,
   "metadata": {},
   "outputs": [],
   "source": []
  },
  {
   "cell_type": "code",
   "execution_count": 196,
   "metadata": {},
   "outputs": [
    {
     "name": "stdout",
     "output_type": "stream",
     "text": [
      "Reading package lists... Done\n",
      "Building dependency tree       \n",
      "Reading state information... Done\n",
      "The following NEW packages will be installed:\n",
      "  zip\n",
      "0 upgraded, 1 newly installed, 0 to remove and 28 not upgraded.\n",
      "Need to get 167 kB of archives.\n",
      "After this operation, 638 kB of additional disk space will be used.\n",
      "Get:1 http://archive.ubuntu.com/ubuntu focal/main amd64 zip amd64 3.0-11build1 [167 kB]\n",
      "Fetched 167 kB in 0s (508 kB/s)\n",
      "debconf: delaying package configuration, since apt-utils is not installed\n",
      "Selecting previously unselected package zip.\n",
      "(Reading database ... 107737 files and directories currently installed.)\n",
      "Preparing to unpack .../zip_3.0-11build1_amd64.deb ...\n",
      "Unpacking zip (3.0-11build1) ...\n",
      "Setting up zip (3.0-11build1) ...\n"
     ]
    }
   ],
   "source": [
    "! apt-get install zip -y"
   ]
  },
  {
   "cell_type": "code",
   "execution_count": 197,
   "metadata": {},
   "outputs": [
    {
     "name": "stdout",
     "output_type": "stream",
     "text": [
      "  adding: grades.csv (deflated 64%)\r\n"
     ]
    }
   ],
   "source": [
    "# Сделаем точно тоже самое, но с помощью zip\\unzip\n",
    "! zip grades.zip grades.csv"
   ]
  },
  {
   "cell_type": "code",
   "execution_count": 198,
   "metadata": {},
   "outputs": [
    {
     "name": "stdout",
     "output_type": "stream",
     "text": [
      "PK\u0003\u0004\u0014\u0000\u0000\u0000\b\u0000�^(R��0�+\u0002\u0000\u0000\r\n",
      "\u0006\u0000\u0000\r\n"
     ]
    }
   ],
   "source": [
    "! head -n 2 grades.zip"
   ]
  },
  {
   "cell_type": "code",
   "execution_count": 199,
   "metadata": {},
   "outputs": [
    {
     "name": "stdout",
     "output_type": "stream",
     "text": [
      "Archive:  grades.zip\r\n",
      "  inflating: zip-grades/grades.csv   \r\n",
      "yes: standard output: Broken pipe\r\n"
     ]
    }
   ],
   "source": [
    "! mkdir -p zip-grades && yes | unzip grades.zip -d zip-grades/"
   ]
  },
  {
   "cell_type": "code",
   "execution_count": 200,
   "metadata": {},
   "outputs": [
    {
     "name": "stdout",
     "output_type": "stream",
     "text": [
      "grades.csv\r\n"
     ]
    }
   ],
   "source": [
    "! ls zip-grades/"
   ]
  },
  {
   "cell_type": "code",
   "execution_count": 201,
   "metadata": {},
   "outputs": [
    {
     "name": "stdout",
     "output_type": "stream",
     "text": [
      "\"Last name\", \"First name\", \"SSN\",        \"Test1\", \"Test2\", \"Test3\", \"Test4\", \"Final\", \"Grade\"\r\n",
      "\"Alfalfa\",   \"Aloysius\",   \"123-45-6789\", 40.0,    90.0,   100.0,    83.0,    49.0,   \"D-\"\r\n",
      "\"Alfred\",    \"University\", \"123-12-1234\", 41.0,    97.0,    96.0,    97.0,    48.0,   \"D+\"\r\n",
      "\"Gerty\",     \"Gramma\",     \"567-89-0123\", 41.0,    80.0,    60.0,    40.0,    44.0,   \"C\"\r\n",
      "\"Android\",   \"Electric\",   \"087-65-4321\", 42.0,    23.0,    36.0,    45.0,    47.0,   \"B-\"\r\n",
      "\"Bumpkin\",   \"Fred\",       \"456-78-9012\", 43.0,    78.0,    88.0,    77.0,    45.0,   \"A-\"\r\n",
      "\"Rubble\",    \"Betty\",      \"234-56-7890\", 44.0,    90.0,    80.0,    90.0,    46.0,   \"C-\"\r\n",
      "\"Noshow\",    \"Cecil\",      \"345-67-8901\", 45.0,    11.0,    -1.0,     4.0,    43.0,   \"F\"\r\n",
      "\"Buff\",      \"Bif\",        \"632-79-9939\", 46.0,    20.0,    30.0,    40.0,    50.0,   \"B+\"\r\n",
      "\"Airpump\",   \"Andrew\",     \"223-45-6789\", 49.0,      1.0,    90.0,   100.0,    83.0,   \"A\"\r\n"
     ]
    }
   ],
   "source": [
    "! head zip-grades/grades.csv"
   ]
  },
  {
   "cell_type": "code",
   "execution_count": null,
   "metadata": {},
   "outputs": [],
   "source": []
  },
  {
   "cell_type": "markdown",
   "metadata": {},
   "source": [
    "Также достаточно популярен формат архивов `7z`. Чтобы начать работать с ним, необходимо поставить дополнительно специальный пакет - `apt-get install p7zip-full`.\n"
   ]
  },
  {
   "cell_type": "code",
   "execution_count": 8,
   "metadata": {},
   "outputs": [
    {
     "name": "stdout",
     "output_type": "stream",
     "text": [
      "Hit:1 http://archive.ubuntu.com/ubuntu focal InRelease\n",
      "Hit:2 http://archive.ubuntu.com/ubuntu focal-updates InRelease\n",
      "Hit:3 http://archive.ubuntu.com/ubuntu focal-backports InRelease\n",
      "Hit:4 http://security.ubuntu.com/ubuntu focal-security InRelease\n",
      "Reading package lists... Done\n",
      "Reading package lists... Done\n",
      "Building dependency tree       \n",
      "Reading state information... Done\n",
      "p7zip-full is already the newest version (16.02+dfsg-7build1).\n",
      "0 upgraded, 0 newly installed, 0 to remove and 30 not upgraded.\n"
     ]
    }
   ],
   "source": [
    "! apt-get update && apt-get install p7zip-full -y"
   ]
  },
  {
   "cell_type": "code",
   "execution_count": 9,
   "metadata": {},
   "outputs": [
    {
     "name": "stdout",
     "output_type": "stream",
     "text": [
      "\r\n",
      "7-Zip [64] 16.02 : Copyright (c) 1999-2016 Igor Pavlov : 2016-05-21\r\n",
      "p7zip Version 16.02 (locale=en_US.UTF-8,Utf16=on,HugeFiles=on,64 bits,8 CPUs Intel(R) Core(TM) i7-6700HQ CPU @ 2.60GHz (506E3),ASM,AES-NI)\r\n",
      "\r\n",
      "Scanning the drive:\r\n",
      "  0M Scan \b\b\b\b\b\b\b\b\b\b          \b\b\b\b\b\b\b\b\b\b1 file, 1546 bytes (2 KiB)\r\n",
      "\r\n",
      "Creating archive: grades.7z\r\n",
      "\r\n",
      "Items to compress: 1\r\n",
      "\r\n",
      "  0%\b\b\b\b    \b\b\b\b\r\n",
      "Files read from disk: 1\r\n",
      "Archive size: 650 bytes (1 KiB)\r\n",
      "Everything is Ok\r\n"
     ]
    }
   ],
   "source": [
    "! 7z a grades.7z grades.csv  # Создаем архив"
   ]
  },
  {
   "cell_type": "code",
   "execution_count": 14,
   "metadata": {},
   "outputs": [
    {
     "name": "stdout",
     "output_type": "stream",
     "text": [
      "7z��'\u001c",
      "\u0000\u0004�8]g\b\u0002\u0000\u0000\u0000\u0000\u0000\u0000b\u0000\u0000\u0000\u0000\u0000\u0000\u0000�H\u0006��\u0006\t\u0002\u0000]\u0000\u0011\u0013\b'3�����'\r\n",
      "�y4P�V4\r",
      "��\u0010\bt\u0003)�\u0005�-(�u\u001e",
      "� \"1b\u001bc\u0001���\u0004�'\u0016<�\u0018��e_�F�|C�'@|��\u0013�ݪ�B�\u001a�ϛ�v�����\u0014�3\u0016�O��ާ�\u0003�}�H\u0000��+\u0018�Wʎ��� gA���\u0010��\b���c�^�\u0005��y=��\u0003\u001575+p�Yj�&WS76\u001c",
      "��\u000b",
      "\u0018\u0014�?�G��W��I�e\u0018\b�֞j�\u0011\u0011UYU��X\u0019GER�\t�|���\u0017�Ez�\u0013u\u0002�ߏdyo\\�N��\u001e",
      "�m�f�z��.P��*\u001c",
      "�⎈�����\u0015\u001f\u000b",
      "��\u0014Y\u0011�!����\u0000�����7��5�3�Я\u0012G���\u001d",
      "��\u0003\u001b'��5��s�f�D`��m3\u0001��O\u0017\"P��o3�'Ǖ�\u000f�\u0003AP�\u0001��R�!�8���O+Vӽ�i���Z��\f",
      "���_�\u0012��<�2�8¿m��.\u0007a��\u0001A\u0019)1].83v�\u0011wW�\u0010&�A#W_�~߆\f",
      "](����ᆗo\u000f�|x�]��K!�=R�=���z�ͽ�W:]�fbꏰ�\u001bC\u001aVeEgiXw�\u001c",
      "��v-r��C����_ض�\u0005~��I��*\t�ch��cU����\u0003a�U�k�w/�#��5�m���ڴ�\u0000\u0001\u0004\u0006\u0000\u0001\t�\b\u0000\u0007\u000b",
      "\u0001\u0000\u0001!!\u0001\u0000\f",
      "�\r\n"
     ]
    }
   ],
   "source": [
    "! head -n 2 grades.7z"
   ]
  },
  {
   "cell_type": "code",
   "execution_count": 12,
   "metadata": {},
   "outputs": [
    {
     "name": "stdout",
     "output_type": "stream",
     "text": [
      "\r\n",
      "7-Zip [64] 16.02 : Copyright (c) 1999-2016 Igor Pavlov : 2016-05-21\r\n",
      "p7zip Version 16.02 (locale=en_US.UTF-8,Utf16=on,HugeFiles=on,64 bits,8 CPUs Intel(R) Core(TM) i7-6700HQ CPU @ 2.60GHz (506E3),ASM,AES-NI)\r\n",
      "\r\n",
      "Scanning the drive for archives:\r\n",
      "  0M Scan\b\b\b\b\b\b\b\b\b         \b\b\b\b\b\b\b\b\b1 file, 650 bytes (1 KiB)\r\n",
      "\r\n",
      "Extracting archive: grades.7z\r\n",
      "--\r\n",
      "Path = grades.7z\r\n",
      "Type = 7z\r\n",
      "Physical Size = 650\r\n",
      "Headers Size = 130\r\n",
      "Method = LZMA2:12\r\n",
      "Solid = -\r\n",
      "Blocks = 1\r\n",
      "\r\n",
      "  0%\b\b\b\b    \b\b\b\bEverything is Ok\r\n",
      "\r\n",
      "Size:       1546\r\n",
      "Compressed: 650\r\n"
     ]
    }
   ],
   "source": [
    "! mkdir -p 7z-grades && 7z x grades.7z -o7z-grades/  #  Распаковываем"
   ]
  },
  {
   "cell_type": "code",
   "execution_count": 13,
   "metadata": {},
   "outputs": [
    {
     "name": "stdout",
     "output_type": "stream",
     "text": [
      "grades.csv\r\n"
     ]
    }
   ],
   "source": [
    "! ls 7z-grades/"
   ]
  },
  {
   "cell_type": "markdown",
   "metadata": {},
   "source": [
    "### Networking\n",
    "wget и curl позволяют выгружать данные из интернета.\n",
    "\n",
    "wget более продвинутый - он умеет скачивать сразу множество файлов, поддерживает докачку файлов и так далее. curl более простой и может использоваться скорее для точечных запросов.\n",
    "\n",
    "Подробнее можно узнать здесь - https://www.opennet.ru/man.shtml?topic=wget&category=1&russian=0 и здесь - https://www.opennet.ru/man.shtml?topic=curl&category=1&russian=3\n",
    "\n"
   ]
  },
  {
   "cell_type": "code",
   "execution_count": 206,
   "metadata": {},
   "outputs": [
    {
     "name": "stdout",
     "output_type": "stream",
     "text": [
      "  % Total    % Received % Xferd  Average Speed   Time    Time     Time  Current\n",
      "                                 Dload  Upload   Total   Spent    Left  Speed\n",
      "  0     0    0     0    0     0      0      0 --:--:-- --:--:-- --:--:--     0\n",
      "100  188k  100  188k    0     0   331k      0 --:--:-- --:--:-- --:--:--  331k\n"
     ]
    }
   ],
   "source": [
    "! curl -L http://yandex.ru > yandex-curl.html"
   ]
  },
  {
   "cell_type": "code",
   "execution_count": 207,
   "metadata": {},
   "outputs": [
    {
     "name": "stdout",
     "output_type": "stream",
     "text": [
      "--2021-01-08 13:34:10--  http://yandex.ru/\n",
      "Resolving yandex.ru (yandex.ru)... 5.255.255.88, 77.88.55.77, 77.88.55.80, ...\n",
      "Connecting to yandex.ru (yandex.ru)|5.255.255.88|:80... connected.\n",
      "HTTP request sent, awaiting response... 302 Found\n",
      "Location: https://yandex.ru/ [following]\n",
      "--2021-01-08 13:34:10--  https://yandex.ru/\n",
      "Connecting to yandex.ru (yandex.ru)|5.255.255.88|:443... connected.\n",
      "HTTP request sent, awaiting response... 200 Ok\n",
      "Length: 191550 (187K) [text/html]\n",
      "Saving to: ‘yandex-wget.html’\n",
      "\n",
      "yandex-wget.html    100%[===================>] 187.06K  --.-KB/s    in 0.04s   \n",
      "\n",
      "2021-01-08 13:34:11 (5.16 MB/s) - ‘yandex-wget.html’ saved [191550/191550]\n",
      "\n"
     ]
    }
   ],
   "source": [
    "! wget http://yandex.ru -O yandex-wget.html"
   ]
  },
  {
   "cell_type": "code",
   "execution_count": 209,
   "metadata": {},
   "outputs": [
    {
     "name": "stdout",
     "output_type": "stream",
     "text": [
      "<!DOCTYPE html><html class=\"i-ua_js_no i-ua_css_standart i-ua_browser_unknown i-ua_browser-engine_un"
     ]
    }
   ],
   "source": [
    "! head -c 100 yandex-curl.html"
   ]
  },
  {
   "cell_type": "code",
   "execution_count": 210,
   "metadata": {},
   "outputs": [
    {
     "name": "stdout",
     "output_type": "stream",
     "text": [
      "<!DOCTYPE html><html class=\"i-ua_js_no i-ua_css_standart i-ua_browser_ i-ua_browser-engine_ i-ua_bro"
     ]
    }
   ],
   "source": [
    "! head -c 100 yandex-wget.html"
   ]
  },
  {
   "cell_type": "markdown",
   "metadata": {},
   "source": [
    "Создатим список ссылок и скачаем их все разом с помощью ключа -i\n",
    "\n"
   ]
  },
  {
   "cell_type": "code",
   "execution_count": 211,
   "metadata": {},
   "outputs": [
    {
     "name": "stdout",
     "output_type": "stream",
     "text": [
      "Writing link-list.txt\n"
     ]
    }
   ],
   "source": [
    "%%writefile link-list.txt\n",
    "http://yandex.ru\n",
    "http://google.com"
   ]
  },
  {
   "cell_type": "code",
   "execution_count": 216,
   "metadata": {},
   "outputs": [
    {
     "name": "stdout",
     "output_type": "stream",
     "text": [
      "--2021-01-08 14:13:39--  http://yandex.ru/\n",
      "Resolving yandex.ru (yandex.ru)... 5.255.255.88, 5.255.255.80, 77.88.55.88, ...\n",
      "Connecting to yandex.ru (yandex.ru)|5.255.255.88|:80... connected.\n",
      "HTTP request sent, awaiting response... 302 Found\n",
      "Location: https://yandex.ru/ [following]\n",
      "--2021-01-08 14:13:39--  https://yandex.ru/\n",
      "Connecting to yandex.ru (yandex.ru)|5.255.255.88|:443... connected.\n",
      "HTTP request sent, awaiting response... 200 Ok\n",
      "Length: 191395 (187K) [text/html]\n",
      "Saving to: ‘index.html.2’\n",
      "\n",
      "index.html.2        100%[===================>] 186.91K  --.-KB/s    in 0.03s   \n",
      "\n",
      "2021-01-08 14:13:39 (5.22 MB/s) - ‘index.html.2’ saved [191395/191395]\n",
      "\n",
      "--2021-01-08 14:13:39--  http://google.com/\n",
      "Resolving google.com (google.com)... 173.194.73.101, 173.194.73.113, 173.194.73.139, ...\n",
      "Connecting to google.com (google.com)|173.194.73.101|:80... connected.\n",
      "HTTP request sent, awaiting response... 301 Moved Permanently\n",
      "Location: http://www.google.com/ [following]\n",
      "--2021-01-08 14:13:39--  http://www.google.com/\n",
      "Resolving www.google.com (www.google.com)... 64.233.165.103, 64.233.165.105, 64.233.165.99, ...\n",
      "Connecting to www.google.com (www.google.com)|64.233.165.103|:80... connected.\n",
      "HTTP request sent, awaiting response... 200 OK\n",
      "Length: unspecified [text/html]\n",
      "Saving to: ‘index.html.3’\n",
      "\n",
      "index.html.3            [ <=>                ]  15.22K  --.-KB/s    in 0.02s   \n",
      "\n",
      "2021-01-08 14:13:39 (709 KB/s) - ‘index.html.3’ saved [15590]\n",
      "\n",
      "FINISHED --2021-01-08 14:13:39--\n",
      "Total wall clock time: 0.6s\n",
      "Downloaded: 2 files, 202K in 0.06s (3.50 MB/s)\n"
     ]
    }
   ],
   "source": [
    "! wget -i link-list.txt"
   ]
  },
  {
   "cell_type": "code",
   "execution_count": null,
   "metadata": {},
   "outputs": [],
   "source": []
  }
 ],
 "metadata": {
  "kernelspec": {
   "display_name": "Python 3",
   "language": "python",
   "name": "python3"
  },
  "language_info": {
   "codemirror_mode": {
    "name": "ipython",
    "version": 3
   },
   "file_extension": ".py",
   "mimetype": "text/x-python",
   "name": "python",
   "nbconvert_exporter": "python",
   "pygments_lexer": "ipython3",
   "version": "3.8.6"
  }
 },
 "nbformat": 4,
 "nbformat_minor": 4
}
