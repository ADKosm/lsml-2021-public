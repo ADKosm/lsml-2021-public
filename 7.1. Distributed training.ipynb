{
 "cells": [
  {
   "cell_type": "markdown",
   "metadata": {},
   "source": [
    "# Распределенное обучение классических моделей\n",
    "\n",
    "Поговорим про то, как решать задачу машинного обучения, когда самих наблюдений очень много и они все не помещаются на машину.\n",
    "\n",
    "Центральная идея во всех алгоритмах - параллельно на нескольких машинах посчитать частичные элементы, которые требуются для принятия решения, передать их на центральную машину и сделать шаг алгоритма.\n",
    "\n",
    "Для обучения линейных моделей на различных машинах будем считать градиент и на главной машине делать шаг градиентного спуска.\n",
    "\n",
    "Для деревьев решений на различных машинах будем считать распределение по корзинкам (по бинам) и на главной машине будет определять порог для определенного признака."
   ]
  },
  {
   "cell_type": "markdown",
   "metadata": {},
   "source": [
    "### Распределенное обучение VW\n",
    "\n",
    "Vowpal Wabbit также умеет работать распределенно, что делает его универсальным инструментом для обучения линейных моделей на больших данных. Для работы он использует дополнительный компонент - `spanning_tree` - это специальный процесс, который координирует работу различных воркеров между собой.\n",
    "\n",
    "Про него можно также думать, как про корневую вершину в алгоритме \"Tree Allreduce\", который используется для эффективной утилизации сети при обучении.\n",
    "\n",
    "Чтобы иметь возможность использовать `spanning_tree`, необходимо собрать VW руками.\n",
    "\n",
    "\n",
    "Собирем VW. Делать это нужно с суперпользоателя, поэтому удобнее всего запускать из терминала.\n",
    "\n",
    "```bash\n",
    "apt update && \\\n",
    "apt install git psmisc -y && \\\n",
    "apt install libboost-dev libboost-program-options-dev libboost-system-dev libboost-thread-dev libboost-math-dev libboost-test-dev zlib1g-dev cmake g++ -y \n",
    "\n",
    "\n",
    "wget https://github.com/google/flatbuffers/archive/v1.12.0.tar.gz && \\\n",
    "tar -xzf v1.12.0.tar.gz && \\\n",
    "cd flatbuffers-1.12.0 && \\\n",
    "mkdir build_dir && \\\n",
    "cd build_dir && \\\n",
    "cmake -G \"Unix Makefiles\" -DFLATBUFFERS_BUILD_TESTS=Off -DFLATBUFFERS_INSTALL=On -DCMAKE_BUILD_TYPE=Release DFLATBUFFERS_BUILD_FLATHASH=Off .. && \\\n",
    "make install -j$(nproc) && \\\n",
    "cd ../..\n",
    "\n",
    "git clone --recursive https://github.com/VowpalWabbit/vowpal_wabbit.git && \\\n",
    "cd vowpal_wabbit && \\\n",
    "sudo make && \\\n",
    "cd build && \\\n",
    "sudo make install -j$(nproc)\n",
    "```\n",
    "\n",
    "**Хозяйке на заметку** Чтобы получить рутовый доступ с кластера в Azure через Jupyter можно открыть терминал и по ssh подключиться к пользователю `azureuser`. Текущий пользователь `spark` к сожалению имеет очень мало прав.\n",
    "\n",
    "```bash\n",
    "ssh azureuser@localhost\n",
    "sudo su\n",
    "```"
   ]
  },
  {
   "cell_type": "code",
   "execution_count": 1,
   "metadata": {
    "cell_status": {
     "execute_time": {
      "duration": 186.580078125,
      "end_time": 1613981874641.176
     }
    },
    "collapsed": true
   },
   "outputs": [],
   "source": [
    "%%local\n",
    "\n",
    "! which spanning_tree"
   ]
  },
  {
   "cell_type": "code",
   "execution_count": 2,
   "metadata": {
    "cell_status": {
     "execute_time": {
      "duration": 3100.781982421875,
      "end_time": 1613982023114.511
     }
    }
   },
   "outputs": [
    {
     "name": "stdout",
     "output_type": "stream",
     "text": [
      "--2021-02-22 08:20:20--  https://archive.ics.uci.edu/ml/machine-learning-databases/00462/drugsCom_raw.zip\n",
      "Resolving archive.ics.uci.edu (archive.ics.uci.edu)... 128.195.10.252\n",
      "Connecting to archive.ics.uci.edu (archive.ics.uci.edu)|128.195.10.252|:443... connected.\n",
      "HTTP request sent, awaiting response... 200 OK\n",
      "Length: 42989872 (41M) [application/x-httpd-php]\n",
      "Saving to: ‘drugsCom_raw.zip’\n",
      "\n",
      "drugsCom_raw.zip    100%[===================>]  41.00M  67.3MB/s    in 0.6s    \n",
      "\n",
      "2021-02-22 08:20:20 (67.3 MB/s) - ‘drugsCom_raw.zip’ saved [42989872/42989872]\n",
      "\n",
      "Archive:  drugsCom_raw.zip\n",
      "  inflating: drugsComTest_raw.tsv    \n",
      "  inflating: drugsComTrain_raw.tsv   \n"
     ]
    }
   ],
   "source": [
    "%%local\n",
    "\n",
    "! wget https://archive.ics.uci.edu/ml/machine-learning-databases/00462/drugsCom_raw.zip\n",
    "! unzip drugsCom_raw.zip"
   ]
  },
  {
   "cell_type": "code",
   "execution_count": 8,
   "metadata": {
    "cell_status": {
     "execute_time": {
      "duration": 5219.3681640625,
      "end_time": 1613982512264.579
     }
    }
   },
   "outputs": [
    {
     "name": "stdout",
     "output_type": "stream",
     "text": [
      "21/02/22 08:28:29 WARN azure.AzureFileSystemThreadPoolExecutor: Disabling threads for Delete operation as thread count 0 is <= 1\n",
      "21/02/22 08:28:29 INFO azure.AzureFileSystemThreadPoolExecutor: Time taken for Delete operation is: 25 ms with threads: 0\n",
      "Deleted /drugs/data\n",
      "/bin/sh: -c: line 0: syntax error near unexpected token `('\n",
      "/bin/sh: -c: line 0: ` cat drugsComTrain_raw.tsv <(tail -n +2 drugsComTest_raw.tsv) | hdfs dfs -put - /drugs/data/drugs.tsv'\n"
     ]
    }
   ],
   "source": [
    "%%local\n",
    "\n",
    "! hdfs dfs -rm -r /drugs/data || true\n",
    "! hdfs dfs -mkdir -p /drugs/data"
   ]
  },
  {
   "cell_type": "markdown",
   "metadata": {},
   "source": [
    "Выгрузим датасет с препаратами."
   ]
  },
  {
   "cell_type": "code",
   "execution_count": 9,
   "metadata": {
    "cell_status": {
     "execute_time": {
      "duration": 3977.365966796875,
      "end_time": 1613982557665.565
     }
    },
    "collapsed": true
   },
   "outputs": [],
   "source": [
    "%%bash\n",
    "\n",
    "cat drugsComTrain_raw.tsv <(tail -n +2 drugsComTest_raw.tsv) | hdfs dfs -put - /drugs/data/drugs.tsv"
   ]
  },
  {
   "cell_type": "code",
   "execution_count": 11,
   "metadata": {
    "cell_status": {
     "execute_time": {
      "duration": 2452.219970703125,
      "end_time": 1613982582184.549
     }
    }
   },
   "outputs": [
    {
     "name": "stdout",
     "output_type": "stream",
     "text": [
      "Found 1 items\r\n",
      "-rw-r--r--   1 spark supergroup    107.2 M 2021-02-22 08:29 /drugs/data/drugs.tsv\r\n"
     ]
    }
   ],
   "source": [
    "%%local\n",
    "\n",
    "! hdfs dfs -ls  -h /drugs/data"
   ]
  },
  {
   "cell_type": "code",
   "execution_count": 4,
   "metadata": {
    "cell_status": {
     "execute_time": {
      "duration": 38.340087890625,
      "end_time": 1613982201031.531
     }
    }
   },
   "outputs": [
    {
     "data": {
      "text/html": [
       "Current session configs: <tt>{u'executorCores': 4, u'numExecutors': 5, u'executorMemory': u'20000M', u'kind': 'pyspark3'}</tt><br>"
      ],
      "text/plain": [
       "<IPython.core.display.HTML object>"
      ]
     },
     "metadata": {},
     "output_type": "display_data"
    },
    {
     "data": {
      "text/html": [
       "No active sessions."
      ],
      "text/plain": [
       "<IPython.core.display.HTML object>"
      ]
     },
     "metadata": {},
     "output_type": "display_data"
    }
   ],
   "source": [
    "%%configure -f\n",
    "{\"executorMemory\": \"20000M\", \"executorCores\": 4, \"numExecutors\":5}"
   ]
  },
  {
   "cell_type": "code",
   "execution_count": 57,
   "metadata": {
    "cell_status": {
     "execute_time": {
      "duration": 33.364990234375,
      "end_time": 1613986893297.585
     }
    },
    "collapsed": true
   },
   "outputs": [],
   "source": [
    "from pyspark.sql import functions as F\n",
    "from datetime import datetime\n",
    "import re"
   ]
  },
  {
   "cell_type": "code",
   "execution_count": 5,
   "metadata": {
    "cell_status": {
     "execute_time": {
      "duration": 57.174072265625,
      "end_time": 1613982288359.318
     }
    }
   },
   "outputs": [
    {
     "name": "stdout",
     "output_type": "stream",
     "text": [
      "Starting Spark application\n"
     ]
    },
    {
     "data": {
      "text/html": [
       "<table>\n",
       "<tr><th>ID</th><th>YARN Application ID</th><th>Kind</th><th>State</th><th>Spark UI</th><th>Driver log</th><th>Current session?</th></tr><tr><td>0</td><td>application_1613979686616_0007</td><td>pyspark3</td><td>idle</td><td><a target=\"_blank\" href=\"http://hn1-lsml-s.eysj42zdkcsuzobj2lxohv11eb.dx.internal.cloudapp.net:8088/proxy/application_1613979686616_0007/\">Link</a></td><td><a target=\"_blank\" href=\"http://wn3-lsml-s.eysj42zdkcsuzobj2lxohv11eb.dx.internal.cloudapp.net:30060/node/containerlogs/container_1613979686616_0007_01_000001/livy\">Link</a></td><td>✔</td></tr></table>"
      ],
      "text/plain": [
       "<IPython.core.display.HTML object>"
      ]
     },
     "metadata": {},
     "output_type": "display_data"
    },
    {
     "name": "stdout",
     "output_type": "stream",
     "text": [
      "SparkSession available as 'spark'.\n",
      "/usr/bin/anaconda/envs/py35/lib/python3.5/site-packages/matplotlib/font_manager.py:273: UserWarning: Matplotlib is building the font cache using fc-list. This may take a moment.\n",
      "  warnings.warn('Matplotlib is building the font cache using fc-list. This may take a moment.')\n",
      "/usr/bin/anaconda/envs/py35/lib/python3.5/site-packages/matplotlib/font_manager.py:273: UserWarning: Matplotlib is building the font cache using fc-list. This may take a moment.\n",
      "  warnings.warn('Matplotlib is building the font cache using fc-list. This may take a moment.')"
     ]
    }
   ],
   "source": [
    "sc = spark.sparkContext"
   ]
  },
  {
   "cell_type": "code",
   "execution_count": 12,
   "metadata": {
    "cell_status": {
     "execute_time": {
      "duration": 17387.600830078125,
      "end_time": 1613984918317.608
     }
    },
    "collapsed": true
   },
   "outputs": [],
   "source": [
    "data = spark.read.option(\"delimiter\", \"\\t\").csv('/drugs/data/*', header=True, inferSchema=True)"
   ]
  },
  {
   "cell_type": "code",
   "execution_count": 13,
   "metadata": {
    "cell_status": {
     "execute_time": {
      "duration": 762.689208984375,
      "end_time": 1613984919090.165
     }
    }
   },
   "outputs": [
    {
     "name": "stdout",
     "output_type": "stream",
     "text": [
      "+--------------------+--------------------+--------------------+--------------------+------+-----------------+-----------+\n",
      "|                 _c0|            drugName|           condition|              review|rating|             date|usefulCount|\n",
      "+--------------------+--------------------+--------------------+--------------------+------+-----------------+-----------+\n",
      "|              206461|           Valsartan|Left Ventricular ...|\"\"\"It has no side...|   9.0|     May 20, 2012|         27|\n",
      "|               95260|          Guanfacine|                ADHD|\"\"\"My son is half...|  null|             null|       null|\n",
      "|We have tried man...|                 8.0|      April 27, 2010|                 192|  null|             null|       null|\n",
      "|               92703|              Lybrel|       Birth Control|\"\"\"I used to take...|  null|             null|       null|\n",
      "|The positive side...|                 5.0|   December 14, 2009|                  17|  null|             null|       null|\n",
      "|              138000|          Ortho Evra|       Birth Control|\"\"\"This is my fir...|   8.0| November 3, 2015|         10|\n",
      "|               35696|Buprenorphine / n...|   Opiate Dependence|\"\"\"Suboxone has c...|   9.0|November 27, 2016|         37|\n",
      "|              155963|              Cialis|Benign Prostatic ...|\"\"\"2nd day on 5mg...|   2.0|November 28, 2015|         43|\n",
      "|              165907|      Levonorgestrel|Emergency Contrac...|\"\"\"He pulled out,...|   1.0|    March 7, 2017|          5|\n",
      "|              102654|        Aripiprazole|     Bipolar Disorde|\"\"\"Abilify change...|  10.0|   March 14, 2015|         32|\n",
      "|               74811|              Keppra|            Epilepsy|\"\"\" I Ve had  not...|   1.0|   August 9, 2016|         11|\n",
      "|               48928|Ethinyl estradiol...|       Birth Control|\"\"\"I had been on ...|   8.0| December 8, 2016|          1|\n",
      "|               29607|          Topiramate| Migraine Prevention|\"\"\"I have been on...|   9.0|  January 1, 2015|         19|\n",
      "|               75612|      L-methylfolate|          Depression|\"\"\"I have taken a...|  null|             null|       null|\n",
      "|I only take Cymba...|                null|                null|                null|  null|             null|       null|\n",
      "|When I began Depl...|                10.0|       March 9, 2017|                  54|  null|             null|       null|\n",
      "|              191290|             Pentasa|     Crohn's Disease|\"\"\"I had Crohn&#0...|   4.0|     July 6, 2013|          8|\n",
      "|              221320|    Dextromethorphan|               Cough|\"\"\"Have a little ...|   4.0|September 7, 2017|          1|\n",
      "|               98494|           Nexplanon|       Birth Control|\"\"\"Started Nexpla...|  null|             null|       null|\n",
      "|I&#039;ve never h...|                 3.0|      August 7, 2014|                  10|  null|             null|       null|\n",
      "+--------------------+--------------------+--------------------+--------------------+------+-----------------+-----------+\n",
      "only showing top 20 rows"
     ]
    }
   ],
   "source": [
    "data.show()"
   ]
  },
  {
   "cell_type": "markdown",
   "metadata": {},
   "source": [
    "Мы будем запускать 2 воркера. Поэтмоу разделим весь датасет на 3 части - 2 равные для воркером и 1 маленькую часть для теста."
   ]
  },
  {
   "cell_type": "code",
   "execution_count": 45,
   "metadata": {
    "cell_status": {
     "execute_time": {
      "duration": 244.2529296875,
      "end_time": 1613986336547.433
     }
    }
   },
   "outputs": [],
   "source": [
    "part1, part2, test = (\n",
    "    data\n",
    "    .na.drop('any')\n",
    "    .randomSplit([0.45, 0.45, 0.1], 422)\n",
    ")"
   ]
  },
  {
   "cell_type": "markdown",
   "metadata": {},
   "source": [
    "Соберем датасет на спарке"
   ]
  },
  {
   "cell_type": "code",
   "execution_count": 46,
   "metadata": {
    "cell_status": {
     "execute_time": {
      "duration": 31.01318359375,
      "end_time": 1613986336688.383
     }
    }
   },
   "outputs": [],
   "source": [
    "def convert_to_vw(data):\n",
    "    target = data['usefulCount']\n",
    "    \n",
    "    drug_name = data['drugName'].lower().replace(' ', '_')\n",
    "    condition = data['condition'].lower().replace(' ', '_')\n",
    "    \n",
    "    raw_text = data['review'].lower()\n",
    "    word_pattern = re.compile(r\"[a-zA-Z0-9_]+\")\n",
    "    words = [match.group(0) for match in re.finditer(word_pattern, raw_text)]\n",
    "    review = ' '.join(words)\n",
    "    \n",
    "    rating = data['rating']\n",
    "    \n",
    "    weekday = datetime.strptime(data['date'], '%B %d, %Y').weekday()\n",
    "    \n",
    "    template = \"{target} |d {drug_name} |c {condition} |r {review} |w {weekday} |s rating:{rating}\"\n",
    "    return template.format(\n",
    "        target=target,\n",
    "        drug_name=drug_name,\n",
    "        condition=condition,\n",
    "        review=review,\n",
    "        weekday=weekday,\n",
    "        rating=rating\n",
    "    )"
   ]
  },
  {
   "cell_type": "code",
   "execution_count": 48,
   "metadata": {
    "cell_status": {
     "execute_time": {
      "duration": 3050.494873046875,
      "end_time": 1613986378939.938
     }
    }
   },
   "outputs": [
    {
     "name": "stdout",
     "output_type": "stream",
     "text": [
      "21/02/22 09:32:58 WARN azure.AzureFileSystemThreadPoolExecutor: Disabling threads for Delete operation as thread count 0 is <= 1\n",
      "21/02/22 09:32:58 WARN azure.NativeAzureFileSystem: Attempt to delete non-existent directory drugs/part1.vw/_temporary\n",
      "21/02/22 09:32:58 INFO azure.AzureFileSystemThreadPoolExecutor: Time taken for Delete operation is: 32 ms with threads: 0\n",
      "Deleted /drugs/part1.vw\n"
     ]
    }
   ],
   "source": [
    "%%local\n",
    "\n",
    "! hdfs dfs -rm -r /drugs/*.vw"
   ]
  },
  {
   "cell_type": "code",
   "execution_count": 49,
   "metadata": {
    "cell_status": {
     "execute_time": {
      "duration": 9322.19091796875,
      "end_time": 1613986395951.814
     }
    }
   },
   "outputs": [],
   "source": [
    "part1.rdd.map(convert_to_vw).saveAsTextFile('/drugs/part1.vw')\n",
    "part2.rdd.map(convert_to_vw).saveAsTextFile('/drugs/part2.vw')\n",
    "test.rdd.map(convert_to_vw).saveAsTextFile('/drugs/test.vw')"
   ]
  },
  {
   "cell_type": "code",
   "execution_count": 53,
   "metadata": {
    "cell_status": {
     "execute_time": {
      "duration": 12384.204833984375,
      "end_time": 1613986623135.253
     }
    }
   },
   "outputs": [],
   "source": [
    "%%local\n",
    "\n",
    "! hdfs dfs -cat /drugs/part1.vw/* > train.part1.vw\n",
    "! hdfs dfs -cat /drugs/part2.vw/* > train.part2.vw\n",
    "! hdfs dfs -cat /drugs/test.vw/* > test.vw"
   ]
  },
  {
   "cell_type": "markdown",
   "metadata": {},
   "source": [
    "Посмотрим, какие результаты мы получим, если просто запустим VW на всем файле."
   ]
  },
  {
   "cell_type": "code",
   "execution_count": 72,
   "metadata": {
    "cell_status": {
     "execute_time": {
      "duration": 256.260009765625,
      "end_time": 1613987206894.957
     }
    },
    "collapsed": true
   },
   "outputs": [],
   "source": [
    "%%local\n",
    "\n",
    "! cat train.*.vw > train.full.vw"
   ]
  },
  {
   "cell_type": "code",
   "execution_count": 67,
   "metadata": {
    "cell_status": {
     "execute_time": {
      "duration": 3399.77099609375,
      "end_time": 1613987014763.149
     }
    },
    "collapsed": true
   },
   "outputs": [],
   "source": [
    "%%local\n",
    "\n",
    "import numpy as np\n",
    "from sklearn.metrics import r2_score\n",
    "\n",
    "\n",
    "def calc_r2(predictions_filename, answers_filename):\n",
    "    def read_target_from_vw(vw_record):\n",
    "        return float(vw_record.split(' ')[0])\n",
    "    \n",
    "    with open(predictions_filename, 'r') as f:\n",
    "        y_pred = np.array([float(value) for value in f.readlines()])\n",
    "        \n",
    "    with open(answers_filename, 'r') as f:\n",
    "        y_expected = np.array([read_target_from_vw(value) for value in f.readlines()])\n",
    "        \n",
    "    return r2_score(y_expected, y_pred)"
   ]
  },
  {
   "cell_type": "code",
   "execution_count": null,
   "metadata": {
    "collapsed": true
   },
   "outputs": [],
   "source": []
  },
  {
   "cell_type": "code",
   "execution_count": 68,
   "metadata": {
    "cell_status": {
     "execute_time": {
      "duration": 201.5390625,
      "end_time": 1613987014977.758
     }
    }
   },
   "outputs": [
    {
     "name": "stdout",
     "output_type": "stream",
     "text": [
      "Num weight bits = 18\r\n",
      "learning rate = 0.5\r\n",
      "initial_t = 0\r\n",
      "power_t = 0.5\r\n",
      "using no cache\r\n",
      "Reading datafile = \r\n",
      "num sources = 1\r\n",
      "driver:\r\n",
      "  --onethread           Disable parse thread\r\n",
      "VW options:\r\n",
      "  --ring_size arg (=256, ) size of example ring\r\n",
      "  --strict_parse           throw on malformed examples\r\n",
      "Update options:\r\n",
      "  -l [ --learning_rate ] arg Set learning rate\r\n",
      "  --power_t arg              t power value\r\n",
      "  --decay_learning_rate arg  Set Decay factor for learning_rate between passes\r\n",
      "  --initial_t arg            initial t value\r\n"
     ]
    }
   ],
   "source": [
    "%%local\n",
    "\n",
    "! vw --help | head"
   ]
  },
  {
   "cell_type": "markdown",
   "metadata": {},
   "source": [
    "Обучаем VW на одном файле целиком"
   ]
  },
  {
   "cell_type": "code",
   "execution_count": 130,
   "metadata": {
    "cell_status": {
     "execute_time": {
      "duration": 38173.47607421875,
      "end_time": 1613989408919.288
     }
    }
   },
   "outputs": [
    {
     "name": "stdout",
     "output_type": "stream",
     "text": [
      "Generating 2-grams for r namespaces.\n",
      "creating features for following interactions: dc \n",
      "final_regressor = drugs.model.bin\n",
      "Num weight bits = 23\n",
      "learning rate = 20\n",
      "initial_t = 0\n",
      "power_t = 0.5\n",
      "decay_learning_rate = 1\n",
      "creating cache_file = train.full.vw.cache\n",
      "Reading datafile = train.full.vw\n",
      "num sources = 1\n",
      "Enabled reductions: gd, scorer\n",
      "average  since         example        example  current  current  current\n",
      "loss     last          counter         weight    label  predict features\n",
      "9.000000 9.000000            1            1.0   3.0000   0.0000      139\n",
      "23.095423 37.190845            2            2.0   7.0000   0.9016      123\n",
      "24.683209 26.270996            4            4.0   0.0000   6.5727      313\n",
      "20.996466 17.309722            8            8.0  10.0000   2.1541      221\n",
      "31.344119 41.691772           16           16.0   5.0000  13.8293      229\n",
      "1672.860897 3314.377674           32           32.0   0.0000  84.7675      281\n",
      "1124.977546 577.094196           64           64.0  20.0000  15.9025      169\n",
      "1490.576171 1856.174796          128          128.0  11.0000   1.7673       37\n",
      "1022.647551 554.718931          256          256.0   8.0000  29.5858      323\n",
      "1049.420804 1076.194056          512          512.0  34.0000  11.8548       91\n",
      "1268.394645 1487.368486         1024         1024.0  58.0000  31.8953       79\n",
      "1056.324376 844.254106         2048         2048.0  22.0000  24.0168       19\n",
      "1099.529257 1142.734138         4096         4096.0  20.0000  33.6707       29\n",
      "1062.549546 1025.569835         8192         8192.0  45.0000  31.2297       35\n",
      "1036.391918 1010.234290        16384        16384.0  13.0000  39.0479       89\n",
      "975.015095 913.638272        32768        32768.0  35.0000  20.2097       19\n",
      "914.619018 854.222942        65536        65536.0  14.0000  45.7279      129\n",
      "856.543254 798.467491       131072       131072.0  24.0000  11.5498      103\n",
      "764.272535 764.272535       262144       262144.0   0.0000   0.0000       55 h\n",
      "645.319489 526.366444       524288       524288.0  44.0000  40.9743      131 h\n",
      "557.551005 469.784027      1048576      1048576.0   0.0000   1.1844      221 h\n",
      "500.091345 442.632178      2097152      2097152.0  23.0000  21.7152      239 h\n",
      "\n",
      "finished run\n",
      "number of examples per pass = 153841\n",
      "passes used = 16\n",
      "weighted example sum = 2461456.000000\n",
      "weighted label sum = 69681760.000000\n",
      "average loss = 437.837799 h\n",
      "best constant = 28.309164\n",
      "total feature number = 434072768\n",
      "CPU times: user 1.11 s, sys: 232 ms, total: 1.34 s\n",
      "Wall time: 38.2 s\n"
     ]
    }
   ],
   "source": [
    "%%local\n",
    "%%time\n",
    "\n",
    "! vw --final_regressor drugs.model.bin train.full.vw \\\n",
    "    --onethread \\\n",
    "    --learning_rate 20.0 \\\n",
    "    --bit_precision 23 \\\n",
    "    --passes 40 \\\n",
    "    --ngram r2 \\\n",
    "    --interactions dc \\\n",
    "    --cache -k"
   ]
  },
  {
   "cell_type": "code",
   "execution_count": 131,
   "metadata": {
    "cell_status": {
     "execute_time": {
      "duration": 384.7109375,
      "end_time": 1613989409310.835
     }
    }
   },
   "outputs": [
    {
     "name": "stdout",
     "output_type": "stream",
     "text": [
      "Generating 2-grams for r namespaces.\n",
      "creating features for following interactions: dc \n",
      "only testing\n",
      "predictions = drugs.preductions.txt\n",
      "Num weight bits = 23\n",
      "learning rate = 0.5\n",
      "initial_t = 0\n",
      "power_t = 0.5\n",
      "using no cache\n",
      "Reading datafile = test.vw\n",
      "num sources = 1\n",
      "Enabled reductions: gd, scorer\n",
      "average  since         example        example  current  current  current\n",
      "loss     last          counter         weight    label  predict features\n",
      "0.105660 0.105660            1            1.0   2.0000   1.6749      105\n",
      "45.303623 90.501587            2            2.0   2.0000  11.5132      305\n",
      "25.527859 5.752096            4            4.0   7.0000   5.1406       93\n",
      "13.174219 0.820579            8            8.0  44.0000  43.9658      291\n",
      "189.101929 365.029638           16           16.0  11.0000   7.2253       85\n",
      "106.540190 23.978452           32           32.0  16.0000  12.7916      251\n",
      "121.725979 136.911768           64           64.0  12.0000  11.4016      305\n",
      "289.456672 457.187364          128          128.0  29.0000  22.2670      215\n",
      "216.817611 144.178550          256          256.0  13.0000   8.8288       79\n",
      "561.828471 906.839330          512          512.0   8.0000   8.2856      177\n",
      "471.016396 380.204322         1024         1024.0  64.0000  56.5587      173\n",
      "724.956564 978.896732         2048         2048.0  70.0000  53.3054      293\n",
      "564.611456 404.266347         4096         4096.0  10.0000  43.1104       67\n",
      "494.148744 423.686031         8192         8192.0  59.0000  54.1186       97\n",
      "459.873924 425.599104        16384        16384.0  39.0000  45.8663      305\n",
      "\n",
      "finished run\n",
      "number of examples = 18977\n",
      "weighted example sum = 18977.000000\n",
      "weighted label sum = 541670.000000\n",
      "average loss = 461.428441\n",
      "best constant = 28.543501\n",
      "total feature number = 3333709\n"
     ]
    }
   ],
   "source": [
    "%%local\n",
    "\n",
    "! vw --testonly --initial_regressor drugs.model.bin --predictions drugs.preductions.txt test.vw"
   ]
  },
  {
   "cell_type": "code",
   "execution_count": 132,
   "metadata": {
    "cell_status": {
     "execute_time": {
      "duration": 141.4169921875,
      "end_time": 1613989409456.95
     }
    }
   },
   "outputs": [
    {
     "data": {
      "text/plain": [
       "0.6457895704437322"
      ]
     },
     "execution_count": 132,
     "metadata": {},
     "output_type": "execute_result"
    }
   ],
   "source": [
    "%%local\n",
    "\n",
    "calc_r2('drugs.preductions.txt', 'test.vw')"
   ]
  },
  {
   "cell_type": "markdown",
   "metadata": {},
   "source": [
    "Обучили модель на **0.64** за **38** секунд."
   ]
  },
  {
   "cell_type": "code",
   "execution_count": null,
   "metadata": {
    "collapsed": true
   },
   "outputs": [],
   "source": []
  },
  {
   "cell_type": "markdown",
   "metadata": {},
   "source": [
    "Посмотрим, что будет если мы обучим модель только на части данных"
   ]
  },
  {
   "cell_type": "code",
   "execution_count": 99,
   "metadata": {
    "cell_status": {
     "execute_time": {
      "duration": 9082.3662109375,
      "end_time": 1613988507257.777
     }
    }
   },
   "outputs": [
    {
     "name": "stdout",
     "output_type": "stream",
     "text": [
      "Generating 2-grams for r namespaces.\n",
      "creating features for following interactions: dc \n",
      "final_regressor = drugs.model.bin\n",
      "Num weight bits = 23\n",
      "learning rate = 20\n",
      "initial_t = 0\n",
      "power_t = 0.5\n",
      "decay_learning_rate = 1\n",
      "creating cache_file = train.part1.vw.cache\n",
      "Reading datafile = train.part1.vw\n",
      "num sources = 1\n",
      "Enabled reductions: gd, scorer\n",
      "average  since         example        example  current  current  current\n",
      "loss     last          counter         weight    label  predict features\n",
      "9.000000 9.000000            1            1.0   3.0000   0.0000      139\n",
      "23.095423 37.190845            2            2.0   7.0000   0.9016      123\n",
      "24.683209 26.270996            4            4.0   0.0000   6.5727      313\n",
      "20.996466 17.309722            8            8.0  10.0000   2.1541      221\n",
      "31.344119 41.691772           16           16.0   5.0000  13.8293      229\n",
      "1672.860897 3314.377674           32           32.0   0.0000  84.7675      281\n",
      "1124.977546 577.094196           64           64.0  20.0000  15.9025      169\n",
      "1490.576171 1856.174796          128          128.0  11.0000   1.7673       37\n",
      "1022.647551 554.718931          256          256.0   8.0000  29.5858      323\n",
      "1049.420804 1076.194056          512          512.0  34.0000  11.8548       91\n",
      "1268.394645 1487.368486         1024         1024.0  58.0000  31.8953       79\n",
      "1056.324376 844.254106         2048         2048.0  22.0000  24.0168       19\n",
      "1099.529257 1142.734138         4096         4096.0  20.0000  33.6707       29\n",
      "1062.549546 1025.569835         8192         8192.0  45.0000  31.2297       35\n",
      "1036.391918 1010.234290        16384        16384.0  13.0000  39.0479       89\n",
      "975.015095 913.638272        32768        32768.0  35.0000  20.2097       19\n",
      "914.619018 854.222942        65536        65536.0  14.0000  45.7279      129\n",
      "836.795093 836.795093       131072       131072.0  54.0000  29.7436       53 h\n",
      "789.544331 742.293570       262144       262144.0  17.0000  11.7810      119 h\n",
      "770.395294 751.246258       524288       524288.0  42.0000  45.2821       85 h\n",
      "\n",
      "finished run\n",
      "number of examples per pass = 76746\n",
      "passes used = 7\n",
      "weighted example sum = 537222.000000\n",
      "weighted label sum = 15234044.000000\n",
      "average loss = 733.231934 h\n",
      "best constant = 28.357075\n",
      "total feature number = 94799866\n",
      "CPU times: user 318 ms, sys: 24.3 ms, total: 342 ms\n",
      "Wall time: 9.08 s\n"
     ]
    }
   ],
   "source": [
    "%%local\n",
    "%%time\n",
    "\n",
    "! vw --final_regressor drugs.model.bin train.part1.vw \\\n",
    "    --onethread \\\n",
    "    --learning_rate 20.0 \\\n",
    "    --bit_precision 23 \\\n",
    "    --passes 40 \\\n",
    "    --ngram r2 \\\n",
    "    --interactions dc \\\n",
    "    --cache -k"
   ]
  },
  {
   "cell_type": "code",
   "execution_count": 100,
   "metadata": {
    "cell_status": {
     "execute_time": {
      "duration": 381.276123046875,
      "end_time": 1613988507644.468
     }
    }
   },
   "outputs": [
    {
     "name": "stdout",
     "output_type": "stream",
     "text": [
      "Generating 2-grams for r namespaces.\n",
      "creating features for following interactions: dc \n",
      "only testing\n",
      "predictions = drugs.preductions.txt\n",
      "Num weight bits = 23\n",
      "learning rate = 0.5\n",
      "initial_t = 0\n",
      "power_t = 0.5\n",
      "using no cache\n",
      "Reading datafile = test.vw\n",
      "num sources = 1\n",
      "Enabled reductions: gd, scorer\n",
      "average  since         example        example  current  current  current\n",
      "loss     last          counter         weight    label  predict features\n",
      "4.000000 4.000000            1            1.0   2.0000   0.0000      105\n",
      "4.000000 4.000000            2            2.0   2.0000   0.0000      305\n",
      "10.160723 16.321446            4            4.0   7.0000   2.1376       93\n",
      "19.146634 28.132545            8            8.0  44.0000  43.2707      291\n",
      "223.987061 428.827488           16           16.0  11.0000  21.0392       85\n",
      "164.388026 104.788992           32           32.0  16.0000   0.0000      251\n",
      "155.765617 147.143208           64           64.0  12.0000  12.3560      305\n",
      "270.828497 385.891376          128          128.0  29.0000  16.0018      215\n",
      "354.488377 438.148258          256          256.0  13.0000  12.4768       79\n",
      "860.558768 1366.629158          512          512.0   8.0000   4.3189      177\n",
      "718.917967 577.277167         1024         1024.0  64.0000  56.6471      173\n",
      "954.272991 1189.628014         2048         2048.0  70.0000  86.1110      293\n",
      "835.221875 716.170760         4096         4096.0  10.0000  40.1592       67\n",
      "755.290129 675.358383         8192         8192.0  59.0000  53.1966       97\n",
      "733.386655 711.483181        16384        16384.0  39.0000  70.0894      305\n",
      "\n",
      "finished run\n",
      "number of examples = 18977\n",
      "weighted example sum = 18977.000000\n",
      "weighted label sum = 541670.000000\n",
      "average loss = 732.423672\n",
      "best constant = 28.543501\n",
      "total feature number = 3333709\n"
     ]
    }
   ],
   "source": [
    "%%local\n",
    "\n",
    "! vw --testonly --initial_regressor drugs.model.bin --predictions drugs.preductions.txt test.vw"
   ]
  },
  {
   "cell_type": "code",
   "execution_count": 101,
   "metadata": {
    "cell_status": {
     "execute_time": {
      "duration": 132.541015625,
      "end_time": 1613988507782.773
     }
    }
   },
   "outputs": [
    {
     "data": {
      "text/plain": [
       "0.43776308727255231"
      ]
     },
     "execution_count": 101,
     "metadata": {},
     "output_type": "execute_result"
    }
   ],
   "source": [
    "%%local\n",
    "\n",
    "calc_r2('drugs.preductions.txt', 'test.vw')"
   ]
  },
  {
   "cell_type": "markdown",
   "metadata": {},
   "source": [
    "Гораздо быстрее обучились, но потеряли в качестве. \n",
    "\n",
    "Модель на **0.43** за **9** секунд\n",
    "\n",
    "**Мораль** - семплирование не самых удачный подход, чтобы получать качество, нужно засовывать в модель вообще все данные."
   ]
  },
  {
   "cell_type": "markdown",
   "metadata": {},
   "source": [
    "Запустим в фоновом режиме `spanning_tree` и проверим что он правда работает.\n",
    "\n",
    "Далее воркеры будут подключаться к нему по tcp."
   ]
  },
  {
   "cell_type": "code",
   "execution_count": 79,
   "metadata": {
    "cell_status": {
     "execute_time": {
      "duration": 14.64794921875,
      "end_time": 1613987732434.034
     }
    }
   },
   "outputs": [
    {
     "name": "stdout",
     "output_type": "stream",
     "text": [
      "Starting job # 0 in a separate thread.\n"
     ]
    }
   ],
   "source": [
    "%%bash --bg --out OUT --err ERR\n",
    "spanning_tree --nondaemon"
   ]
  },
  {
   "cell_type": "code",
   "execution_count": 102,
   "metadata": {
    "cell_status": {
     "execute_time": {
      "duration": 201.56298828125,
      "end_time": 1613988532226.307
     }
    }
   },
   "outputs": [
    {
     "name": "stdout",
     "output_type": "stream",
     "text": [
      "spark    11265  0.0  0.0  22276  4040 ?        S    09:55   0:00 spanning_tree --nondaemon\r\n",
      "spark    26120  0.0  0.0  13296  2936 pts/2    Ss+  10:08   0:00 /bin/sh -c  ps aux | grep spanning_tree\r\n",
      "spark    26126  0.0  0.0  15000  1032 pts/2    R+   10:08   0:00 grep spanning_tree\r\n"
     ]
    }
   ],
   "source": [
    "%%local\n",
    "\n",
    "! ps aux | grep spanning_tree"
   ]
  },
  {
   "cell_type": "markdown",
   "metadata": {},
   "source": [
    "Пора запускать рабочих. Для этого используется уже известная команда vw, в которую просто добавляются специальные параметры\n",
    "\n",
    "* `--span_server` - указываем адрес, где находится менеджер (spanning_tree). В нашем случае это localhost. В реальной жизни там мог бы быть IP адрес другой машины\n",
    "* `--unique_id` - так как один spanning_tree может обрабатывать сразу много различных процессов обучения, то необходимо их как-то разграничить. Для этого используется unique_id - это число, которое должно быть одинаковым для всех ваших рабочих, чтобы их не перепутали с другими. Например ваш коллега также обучает VW но для другой задачи - он может подключить свои VW к этому же spanning_tree указав для них unique_id = 0. В таком случае вам, чтобы подключиться, нужно запускать свои рабочие например с unique_id = 5, чтобы они не смешались с рабочими вашего коллеги.\n",
    "* `--total` - число рабочих, которое вы планируете подключить в текущей сессии обучения\n",
    "--node - идентификатор текущего рабочего. Нумерация начинается с нуля, поэтому если вы хотите запустить 3 рабочих, то им нужно выдать значения для --node 0, 1 и 2.\n",
    "* `-d` - данные для обработки для текущего рабочего\n",
    "Все остальные параметры обучения должны быть одинаковыми для всех рабочих.\n",
    "\n",
    "Чтобы сохранить коэффициенты полученной модели, необходимо для какого-то одного рабочего указать через `-f` или `--final_regressor` файл, куда записать результат. Точно также, как мы это делали в предыдущей лабораторной.\n",
    "\n",
    "Запустим двух рабочих. Первого запустим также в фоне, а вот второй запустим прямо в ноутбуке и будем следить за процессом обучения."
   ]
  },
  {
   "cell_type": "code",
   "execution_count": 133,
   "metadata": {
    "cell_status": {
     "execute_time": {
      "duration": 13.574951171875,
      "end_time": 1613990892362.47
     }
    }
   },
   "outputs": [
    {
     "name": "stdout",
     "output_type": "stream",
     "text": [
      "Starting job # 9 in a separate thread.\n"
     ]
    }
   ],
   "source": [
    "%%bash --bg --out OUT --err ERR\n",
    "\n",
    "vw -d train.part1.vw \\\n",
    "    --span_server localhost \\\n",
    "    --total 2 \\\n",
    "    --node 0 \\\n",
    "    --unique_id 1 \\\n",
    "    --learning_rate 20.0 \\\n",
    "    --bit_precision 23 \\\n",
    "    --passes 40 \\\n",
    "    --ngram r2 \\\n",
    "    --interactions dc \\\n",
    "    --cache -k"
   ]
  },
  {
   "cell_type": "code",
   "execution_count": 134,
   "metadata": {
    "cell_status": {
     "execute_time": {
      "duration": 238.797119140625,
      "end_time": 1613990892776.134
     }
    }
   },
   "outputs": [
    {
     "name": "stdout",
     "output_type": "stream",
     "text": [
      "spark     3187  0.0  0.5 238320 147084 ?       Rl   10:48   0:00 vw -d train.part1.vw --span_server localhost --total 2 --node 0 --unique_id 1 --learning_rate 20.0 --bit_precision 23 --passes 40 --ngram r2 --interactions dc --cache -k\r\n",
      "spark     3190  0.0  0.0  13296  3032 pts/2    Ss+  10:48   0:00 /bin/sh -c  ps aux | grep vw\r\n",
      "spark     3194  0.0  0.0  15000   952 pts/2    R+   10:48   0:00 grep vw\r\n"
     ]
    }
   ],
   "source": [
    "%%local \n",
    "! ps aux | grep vw"
   ]
  },
  {
   "cell_type": "code",
   "execution_count": 135,
   "metadata": {
    "cell_status": {
     "execute_time": {
      "duration": 36841.71484375,
      "end_time": 1613990929623.276
     }
    }
   },
   "outputs": [
    {
     "name": "stdout",
     "output_type": "stream",
     "text": [
      "Generating 2-grams for r namespaces.\n",
      "creating features for following interactions: dc \n",
      "final_regressor = drugs.model.bin\n",
      "Num weight bits = 23\n",
      "learning rate = 20\n",
      "initial_t = 0\n",
      "power_t = 0.5\n",
      "decay_learning_rate = 1\n",
      "creating cache_file = train.part2.vw.cache\n",
      "Reading datafile = train.part2.vw\n",
      "num sources = 1\n",
      "Enabled reductions: gd, scorer\n",
      "average  since         example        example  current  current  current\n",
      "loss     last          counter         weight    label  predict features\n",
      "0.000000 0.000000            1            1.0   0.0000   0.0000      291\n",
      "24.500000 49.000000            2            2.0   7.0000   0.0000      325\n",
      "14.530513 4.561025            4            4.0   2.0000   3.2344      191\n",
      "8.172677 1.814841            8            8.0   4.0000   3.6167      321\n",
      "33.730052 59.287428           16           16.0   0.0000  11.4410      257\n",
      "133.395619 233.061186           32           32.0   9.0000  20.9062      107\n",
      "459.865899 786.336180           64           64.0   0.0000   3.1751        9\n",
      "1055.768750 1651.671601          128          128.0   3.0000   5.9379      247\n",
      "808.469620 561.170490          256          256.0  46.0000  32.9716      283\n",
      "1077.463123 1346.456625          512          512.0   2.0000   0.0000      261\n",
      "1073.339635 1069.216148         1024         1024.0  15.0000  41.6494      289\n",
      "1065.634490 1057.929345         2048         2048.0  58.0000  67.1914      207\n",
      "1453.840090 1842.045690         4096         4096.0  35.0000  68.4067      233\n",
      "1798.716564 2143.593038         8192         8192.0  29.0000   6.5701      113\n",
      "1401.895941 1005.075318        16384        16384.0   1.0000  22.4941      287\n",
      "1162.928159 923.960377        32768        32768.0   2.0000   0.0000      311\n",
      "1020.844066 878.759974        65536        65536.0  21.0000  25.5043       67\n",
      "connecting to 127.0.0.1 = ip6-localhost:26543\n",
      "wrote unique_id=1\n",
      "wrote total=2\n",
      "wrote node=1\n",
      "read ok=1\n",
      "read kid_count=1\n",
      "read parent_ip=255.255.255.255\n",
      "read parent_port=65535\n",
      "811.994797 811.994797       131072       131072.0   3.0000  16.6506      219 h\n",
      "679.857409 547.720020       262144       262144.0  36.0000  45.0861      129 h\n",
      "570.300908 460.748169       524288       524288.0  18.0000  16.3087       71 h\n",
      "494.553542 418.806175      1048576      1048576.0  45.0000  43.3640       55 h\n",
      "\n",
      "finished run\n",
      "number of examples per pass = 153841\n",
      "passes used = 21\n",
      "weighted example sum = 3230661.000000\n",
      "weighted label sum = 91370208.000000\n",
      "average loss = 878.578430 h\n",
      "best constant = 28.282202\n",
      "total feature number = 569322048\n",
      "CPU times: user 1.07 s, sys: 192 ms, total: 1.27 s\n",
      "Wall time: 36.8 s\n"
     ]
    }
   ],
   "source": [
    "%%local\n",
    "%%time\n",
    "\n",
    "! vw -d train.part2.vw \\\n",
    "    --span_server localhost \\\n",
    "    --total 2 \\\n",
    "    --node 1 \\\n",
    "    --unique_id 1 \\\n",
    "    --learning_rate 20.0 \\\n",
    "    --bit_precision 23 \\\n",
    "    --passes 40 \\\n",
    "    --ngram r2 \\\n",
    "    --interactions dc \\\n",
    "    --cache -k \\\n",
    "    -f drugs.model.bin"
   ]
  },
  {
   "cell_type": "code",
   "execution_count": 136,
   "metadata": {
    "cell_status": {
     "execute_time": {
      "duration": 385.595947265625,
      "end_time": 1613990930014.148
     }
    }
   },
   "outputs": [
    {
     "name": "stdout",
     "output_type": "stream",
     "text": [
      "Generating 2-grams for r namespaces.\n",
      "creating features for following interactions: dc \n",
      "only testing\n",
      "predictions = drugs.preductions.txt\n",
      "Num weight bits = 23\n",
      "learning rate = 0.5\n",
      "initial_t = 0\n",
      "power_t = 0.5\n",
      "using no cache\n",
      "Reading datafile = test.vw\n",
      "num sources = 1\n",
      "Enabled reductions: gd, scorer\n",
      "average  since         example        example  current  current  current\n",
      "loss     last          counter         weight    label  predict features\n",
      "4.000000 4.000000            1            1.0   2.0000   0.0000      105\n",
      "2.054122 0.108243            2            2.0   2.0000   2.3290      305\n",
      "2.844955 3.635789            4            4.0   7.0000   6.3951       93\n",
      "1.785510 0.726064            8            8.0  44.0000  44.6815      291\n",
      "199.965630 398.145750           16           16.0  11.0000   7.5989       85\n",
      "118.965405 37.965181           32           32.0  16.0000  13.7154      251\n",
      "124.239531 129.513657           64           64.0  12.0000  11.7332      305\n",
      "259.078211 393.916891          128          128.0  29.0000  20.8047      215\n",
      "242.175229 225.272248          256          256.0  13.0000   9.8774       79\n",
      "594.410494 946.645759          512          512.0   8.0000   6.3827      177\n",
      "468.865520 343.320546         1024         1024.0  64.0000  51.0378      173\n",
      "709.200241 949.534963         2048         2048.0  70.0000  64.2937      293\n",
      "548.585010 387.969779         4096         4096.0  10.0000  38.8888       67\n",
      "483.632464 418.679918         8192         8192.0  59.0000  52.8369       97\n",
      "448.568320 413.504176        16384        16384.0  39.0000  53.1994      305\n",
      "\n",
      "finished run\n",
      "number of examples = 18977\n",
      "weighted example sum = 18977.000000\n",
      "weighted label sum = 541670.000000\n",
      "average loss = 446.023502\n",
      "best constant = 28.543501\n",
      "total feature number = 3333709\n"
     ]
    }
   ],
   "source": [
    "%%local\n",
    "\n",
    "! vw --testonly --initial_regressor drugs.model.bin --predictions drugs.preductions.txt test.vw"
   ]
  },
  {
   "cell_type": "code",
   "execution_count": 137,
   "metadata": {
    "cell_status": {
     "execute_time": {
      "duration": 134.175048828125,
      "end_time": 1613990930153.721
     }
    }
   },
   "outputs": [
    {
     "data": {
      "text/plain": [
       "0.65761500207159129"
      ]
     },
     "execution_count": 137,
     "metadata": {},
     "output_type": "execute_result"
    }
   ],
   "source": [
    "%%local\n",
    "\n",
    "calc_r2('drugs.preductions.txt', 'test.vw')"
   ]
  },
  {
   "cell_type": "markdown",
   "metadata": {},
   "source": [
    "Качество получилось даже немного больше, чем при одиночном запуске.\n",
    "\n",
    "Сильного ускорения по времени мы не увидели, потому что мы все это запускаем на одной машине. Однако если запускать эти воркеры на разных машинах и на больших объемах данных, то можно увидеть сильное ускорение процесса обучения.\n",
    "\n",
    "И основное достижение этого алгоритма - теперь мы можем размещать данные по нескольким машинам, что позволяет нам теоретически обработать датасет произвольного размера."
   ]
  },
  {
   "cell_type": "code",
   "execution_count": null,
   "metadata": {},
   "outputs": [],
   "source": []
  },
  {
   "cell_type": "markdown",
   "metadata": {},
   "source": [
    "### VW на Hadoop\n",
    "\n",
    "VW достаточно несложно запустить в виде обычной MapReduce задачи. Для этого даже есть готовый скрипт, который написан авторами инструмента. \n",
    "\n",
    "Почитать про то, как запускать этот инструмент на Hadoop можно вот здесь - https://github.com/VowpalWabbit/vowpal_wabbit/tree/master/cluster .\n",
    "\n",
    "Мы же с вами более внимательно рассмотрим более удобный интерфейс для распределенного обучения VW на кластере."
   ]
  },
  {
   "cell_type": "markdown",
   "metadata": {
    "collapsed": true
   },
   "source": [
    "### MMLSpark\n",
    "\n",
    "Существует целый набор библиотек для Spark от Microsoft, который позволяет удобно и быстро запускать распределенные алгоритмы на кластере Spark. Про все возможности можно почитать на официальном GitHub - https://github.com/Azure/mmlspark .\n",
    "\n",
    "Мы с вами воспользуемся двумя инструментами оттуда - VW и LightGBM (градиентный бустинг).\n",
    "\n",
    "Чтобы поставить mmlspark в окружение с lyvi (это окржуение присутствует в кластере azure), достаточно просто переконфигурировать сессию спарка."
   ]
  },
  {
   "cell_type": "code",
   "execution_count": 138,
   "metadata": {
    "cell_status": {
     "execute_time": {
      "duration": 3315.400146484375,
      "end_time": 1613992915031.123
     }
    }
   },
   "outputs": [
    {
     "name": "stdout",
     "output_type": "stream",
     "text": [
      "Starting Spark application\n"
     ]
    },
    {
     "data": {
      "text/html": [
       "<table>\n",
       "<tr><th>ID</th><th>YARN Application ID</th><th>Kind</th><th>State</th><th>Spark UI</th><th>Driver log</th><th>Current session?</th></tr><tr><td>1</td><td>application_1613979686616_0008</td><td>pyspark3</td><td>idle</td><td><a target=\"_blank\" href=\"http://hn1-lsml-s.eysj42zdkcsuzobj2lxohv11eb.dx.internal.cloudapp.net:8088/proxy/application_1613979686616_0008/\">Link</a></td><td><a target=\"_blank\" href=\"http://wn4-lsml-s.eysj42zdkcsuzobj2lxohv11eb.dx.internal.cloudapp.net:30060/node/containerlogs/container_1613979686616_0008_01_000001/livy\">Link</a></td><td>✔</td></tr></table>"
      ],
      "text/plain": [
       "<IPython.core.display.HTML object>"
      ]
     },
     "metadata": {},
     "output_type": "display_data"
    },
    {
     "name": "stdout",
     "output_type": "stream",
     "text": [
      "SparkSession available as 'spark'.\n",
      "/usr/bin/anaconda/envs/py35/lib/python3.5/site-packages/matplotlib/font_manager.py:273: UserWarning: Matplotlib is building the font cache using fc-list. This may take a moment.\n",
      "  warnings.warn('Matplotlib is building the font cache using fc-list. This may take a moment.')\n",
      "/usr/bin/anaconda/envs/py35/lib/python3.5/site-packages/matplotlib/font_manager.py:273: UserWarning: Matplotlib is building the font cache using fc-list. This may take a moment.\n",
      "  warnings.warn('Matplotlib is building the font cache using fc-list. This may take a moment.')"
     ]
    },
    {
     "data": {
      "text/html": [
       "Current session configs: <tt>{u'kind': 'pyspark3', u'name': u'mmlspark', u'conf': {u'spark.jars.packages': u'com.microsoft.ml.spark:mmlspark_2.11:1.0.0-rc3', u'spark.jars.repositories': u'https://mmlspark.azureedge.net/maven', u'spark.jars.excludes': u'org.scala-lang:scala-reflect,org.apache.spark:spark-tags_2.11,org.scalactic:scalactic_2.11,org.scalatest:scalatest_2.11'}}</tt><br>"
      ],
      "text/plain": [
       "<IPython.core.display.HTML object>"
      ]
     },
     "metadata": {},
     "output_type": "display_data"
    },
    {
     "data": {
      "text/html": [
       "<table>\n",
       "<tr><th>ID</th><th>YARN Application ID</th><th>Kind</th><th>State</th><th>Spark UI</th><th>Driver log</th><th>Current session?</th></tr><tr><td>1</td><td>application_1613979686616_0008</td><td>pyspark</td><td>idle</td><td><a target=\"_blank\" href=\"http://hn1-lsml-s.eysj42zdkcsuzobj2lxohv11eb.dx.internal.cloudapp.net:8088/proxy/application_1613979686616_0008/\">Link</a></td><td><a target=\"_blank\" href=\"http://wn4-lsml-s.eysj42zdkcsuzobj2lxohv11eb.dx.internal.cloudapp.net:30060/node/containerlogs/container_1613979686616_0008_01_000001/livy\">Link</a></td><td>✔</td></tr></table>"
      ],
      "text/plain": [
       "<IPython.core.display.HTML object>"
      ]
     },
     "metadata": {},
     "output_type": "display_data"
    }
   ],
   "source": [
    "%%configure -f\n",
    "{\n",
    "    \"name\": \"mmlspark\",\n",
    "    \"conf\": {\n",
    "        \"spark.jars.packages\": \"com.microsoft.ml.spark:mmlspark_2.11:1.0.0-rc3\",\n",
    "        \"spark.jars.repositories\": \"https://mmlspark.azureedge.net/maven\",\n",
    "        \"spark.jars.excludes\": \"org.scala-lang:scala-reflect,org.apache.spark:spark-tags_2.11,org.scalactic:scalactic_2.11,org.scalatest:scalatest_2.11\"\n",
    "    }\n",
    "}"
   ]
  },
  {
   "cell_type": "code",
   "execution_count": 177,
   "metadata": {
    "cell_status": {
     "execute_time": {
      "duration": 39.697021484375,
      "end_time": 1613995620888.398
     }
    },
    "collapsed": true
   },
   "outputs": [],
   "source": [
    "from pyspark.sql.functions import when, col\n",
    "from pyspark.ml import Pipeline\n",
    "from mmlspark.vw import VowpalWabbitFeaturizer, VowpalWabbitRegressor"
   ]
  },
  {
   "cell_type": "code",
   "execution_count": 178,
   "metadata": {
    "cell_status": {
     "execute_time": {
      "duration": 2252.64794921875,
      "end_time": 1613995623288.365
     }
    },
    "collapsed": true
   },
   "outputs": [],
   "source": [
    "data = spark.read.option(\"delimiter\", \"\\t\").csv('/drugs/data/*', header=True, inferSchema=True)"
   ]
  },
  {
   "cell_type": "code",
   "execution_count": 179,
   "metadata": {
    "cell_status": {
     "execute_time": {
      "duration": 234.337158203125,
      "end_time": 1613995623531.917
     }
    }
   },
   "outputs": [],
   "source": [
    "train, test = (\n",
    "    data\n",
    "    .na.drop('any')\n",
    "    .randomSplit([0.9, 0.1], 422)\n",
    ")"
   ]
  },
  {
   "cell_type": "code",
   "execution_count": 180,
   "metadata": {
    "cell_status": {
     "execute_time": {
      "duration": 741.008056640625,
      "end_time": 1613995624283.641
     }
    }
   },
   "outputs": [
    {
     "name": "stdout",
     "output_type": "stream",
     "text": [
      "+--------------------+--------------------+--------------------+--------------------+------+-----------------+-----------+\n",
      "|                 _c0|            drugName|           condition|              review|rating|             date|usefulCount|\n",
      "+--------------------+--------------------+--------------------+--------------------+------+-----------------+-----------+\n",
      "|              206461|           Valsartan|Left Ventricular ...|\"\"\"It has no side...|   9.0|     May 20, 2012|         27|\n",
      "|               95260|          Guanfacine|                ADHD|\"\"\"My son is half...|  null|             null|       null|\n",
      "|We have tried man...|                 8.0|      April 27, 2010|                 192|  null|             null|       null|\n",
      "|               92703|              Lybrel|       Birth Control|\"\"\"I used to take...|  null|             null|       null|\n",
      "|The positive side...|                 5.0|   December 14, 2009|                  17|  null|             null|       null|\n",
      "|              138000|          Ortho Evra|       Birth Control|\"\"\"This is my fir...|   8.0| November 3, 2015|         10|\n",
      "|               35696|Buprenorphine / n...|   Opiate Dependence|\"\"\"Suboxone has c...|   9.0|November 27, 2016|         37|\n",
      "|              155963|              Cialis|Benign Prostatic ...|\"\"\"2nd day on 5mg...|   2.0|November 28, 2015|         43|\n",
      "|              165907|      Levonorgestrel|Emergency Contrac...|\"\"\"He pulled out,...|   1.0|    March 7, 2017|          5|\n",
      "|              102654|        Aripiprazole|     Bipolar Disorde|\"\"\"Abilify change...|  10.0|   March 14, 2015|         32|\n",
      "|               74811|              Keppra|            Epilepsy|\"\"\" I Ve had  not...|   1.0|   August 9, 2016|         11|\n",
      "|               48928|Ethinyl estradiol...|       Birth Control|\"\"\"I had been on ...|   8.0| December 8, 2016|          1|\n",
      "|               29607|          Topiramate| Migraine Prevention|\"\"\"I have been on...|   9.0|  January 1, 2015|         19|\n",
      "|               75612|      L-methylfolate|          Depression|\"\"\"I have taken a...|  null|             null|       null|\n",
      "|I only take Cymba...|                null|                null|                null|  null|             null|       null|\n",
      "|When I began Depl...|                10.0|       March 9, 2017|                  54|  null|             null|       null|\n",
      "|              191290|             Pentasa|     Crohn's Disease|\"\"\"I had Crohn&#0...|   4.0|     July 6, 2013|          8|\n",
      "|              221320|    Dextromethorphan|               Cough|\"\"\"Have a little ...|   4.0|September 7, 2017|          1|\n",
      "|               98494|           Nexplanon|       Birth Control|\"\"\"Started Nexpla...|  null|             null|       null|\n",
      "|I&#039;ve never h...|                 3.0|      August 7, 2014|                  10|  null|             null|       null|\n",
      "+--------------------+--------------------+--------------------+--------------------+------+-----------------+-----------+\n",
      "only showing top 20 rows"
     ]
    }
   ],
   "source": [
    "data.show()"
   ]
  },
  {
   "cell_type": "markdown",
   "metadata": {},
   "source": [
    "Создадим объект для создания признаков в формате VW. Он принимает dataframe и возвращает dataframe но уже с новой колонкой, в которой записаны эти признаки"
   ]
  },
  {
   "cell_type": "code",
   "execution_count": 181,
   "metadata": {
    "cell_status": {
     "execute_time": {
      "duration": 38.982177734375,
      "end_time": 1613995624334.72
     }
    },
    "collapsed": true
   },
   "outputs": [],
   "source": [
    "vw_featurizer = VowpalWabbitFeaturizer(\n",
    "    inputCols=[\"drugName\", \"condition\", \"rating\"], \n",
    "    stringSplitInputCols=[\"review\"],\n",
    "    outputCol=\"features\",\n",
    "    numBits=24\n",
    ")"
   ]
  },
  {
   "cell_type": "code",
   "execution_count": 182,
   "metadata": {
    "cell_status": {
     "execute_time": {
      "duration": 2252.458984375,
      "end_time": 1613995626618.318
     }
    }
   },
   "outputs": [
    {
     "name": "stdout",
     "output_type": "stream",
     "text": [
      "SparseVector(16777216, {242607: 1.0, 322542: 1.0, 554393: 1.0, 667916: 1.0, 767305: 1.0, 1227143: 1.0, 1652180: 1.0, 1988378: 1.0, 2076500: 1.0, 2711816: 1.0, 3213474: 1.0, 3282905: 1.0, 3329565: 3.0, 3449553: 1.0, 3586426: 3.0, 3702762: 1.0, 4764873: 1.0, 4883620: 1.0, 5316217: 1.0, 5366447: 1.0, 5886655: 1.0, 6404762: 1.0, 6820536: 2.0, 7166710: 1.0, 7296596: 1.0, 7709679: 1.0, 9418434: 1.0, 9481902: 1.0, 9504901: 1.0, 9829382: 1.0, 11227913: 1.0, 11655066: 1.0, 11814010: 1.0, 12095292: 1.0, 12501039: 1.0, 13034204: 1.0, 13096767: 1.0, 13413959: 1.0, 13732862: 1.0, 13990054: 1.0, 14295339: 1.0, 14599339: 1.0, 15072472: 1.0, 15177082: 1.0, 15477096: 1.0, 16165677: 1.0, 16588573: 2.0})"
     ]
    }
   ],
   "source": [
    "x = vw_featurizer.transform(train).rdd.first()\n",
    "x['features']"
   ]
  },
  {
   "cell_type": "code",
   "execution_count": null,
   "metadata": {
    "collapsed": true
   },
   "outputs": [],
   "source": []
  },
  {
   "cell_type": "markdown",
   "metadata": {},
   "source": [
    "Создадим объект для обучения классификатора. Схема работы точно такая же - принимает на вход dataframe и потом может модифицировать другой dataframe, делая предсказание."
   ]
  },
  {
   "cell_type": "code",
   "execution_count": 183,
   "metadata": {
    "cell_status": {
     "execute_time": {
      "duration": 243.45703125,
      "end_time": 1613995626869.473
     }
    },
    "collapsed": true
   },
   "outputs": [],
   "source": [
    "args = \"--learning_rate 20.0 --bit_precision 23 --ngram r2 --interactions dc\"\n",
    "vw_model = VowpalWabbitRegressor(\n",
    "    featuresCol=\"features\",\n",
    "    labelCol=\"usefulCount\",\n",
    "    args=args,\n",
    "    numPasses=40\n",
    ")"
   ]
  },
  {
   "cell_type": "markdown",
   "metadata": {},
   "source": [
    "Соберем их в единый пайплайн"
   ]
  },
  {
   "cell_type": "code",
   "execution_count": 184,
   "metadata": {
    "cell_status": {
     "execute_time": {
      "duration": 38.97900390625,
      "end_time": 1613995626918.419
     }
    },
    "collapsed": true
   },
   "outputs": [],
   "source": [
    "vw_pipeline = Pipeline(stages=[vw_featurizer, vw_model])"
   ]
  },
  {
   "cell_type": "code",
   "execution_count": 185,
   "metadata": {
    "cell_status": {
     "execute_time": {
      "duration": 59484.3818359375,
      "end_time": 1613995686444.083
     }
    },
    "collapsed": true
   },
   "outputs": [],
   "source": [
    "vw_trained = vw_pipeline.fit(train)"
   ]
  },
  {
   "cell_type": "code",
   "execution_count": 186,
   "metadata": {
    "cell_status": {
     "execute_time": {
      "duration": 236.666015625,
      "end_time": 1613995686690.678
     }
    },
    "collapsed": true
   },
   "outputs": [],
   "source": [
    "prediction = vw_trained.transform(test)"
   ]
  },
  {
   "cell_type": "code",
   "execution_count": 187,
   "metadata": {
    "cell_status": {
     "execute_time": {
      "duration": 2271.975830078125,
      "end_time": 1613995688975.507
     }
    }
   },
   "outputs": [
    {
     "name": "stdout",
     "output_type": "stream",
     "text": [
      "+------+--------------------+----------------+--------------------+------+------------------+-----------+--------------------+------------------+------------------+\n",
      "|   _c0|            drugName|       condition|              review|rating|              date|usefulCount|            features|     rawPrediction|        prediction|\n",
      "+------+--------------------+----------------+--------------------+------+------------------+-----------+--------------------+------------------+------------------+\n",
      "| 10000|      Lo Loestrin Fe|   Birth Control|\"\"\"I was on this ...|   7.0|    April 10, 2013|          4|(16777216,[242607...|               0.0|               0.0|\n",
      "| 10007|      Lo Loestrin Fe|   Birth Control|\"\"\"I posted on th...|   9.0|    March 10, 2013|         18|(16777216,[463906...|21.216596603393555|21.216596603393555|\n",
      "|100105|Desogestrel / eth...|   Birth Control|\"\"\"For the most p...|   8.0| November 30, 2016|          3|(16777216,[176662...| 2.666006088256836| 2.666006088256836|\n",
      "|100157|Desogestrel / eth...|   Birth Control|\"\"\"Just about to ...|   8.0|     April 2, 2016|          0|(16777216,[22171,...|               0.0|               0.0|\n",
      "|100199|Desogestrel / eth...|   Birth Control|\"\"\"This will be m...|   3.0|    April 18, 2016|          4|(16777216,[667916...|               0.0|               0.0|\n",
      "|100242|Desogestrel / eth...|   Birth Control|\"\"\"I first starte...|  10.0| December 28, 2015|          1|(16777216,[540027...|0.5855464935302734|0.5855464935302734|\n",
      "|100322|Desogestrel / eth...|   Birth Control|\"\"\"At first, I ha...|   1.0|      May 30, 2015|          5|(16777216,[165399...|               0.0|               0.0|\n",
      "|100381|Desogestrel / eth...|   Birth Control|\"\"\"Hi! I would li...|   9.0|  February 5, 2015|          5|(16777216,[65793,...|38.111812591552734|38.111812591552734|\n",
      "|100394|Desogestrel / eth...|   Birth Control|\"\"\"I&#039;ve been...|   9.0|  November 5, 2014|          1|(16777216,[52915,...| 5.672334671020508| 5.672334671020508|\n",
      "| 10046|      Lo Loestrin Fe|   Birth Control|\"\"\"I have been ta...|   8.0|  February 1, 2012|          7|(16777216,[242607...|10.007638931274414|10.007638931274414|\n",
      "|100477|Desogestrel / eth...|   Birth Control|\"\"\"Not very happy...|   2.0|  October 18, 2011|         13|(16777216,[45469,...|               0.0|               0.0|\n",
      "|100697|            Orlistat|         Obesity|\"\"\"Hiya, I&#039;v...|  10.0|     July 20, 2017|         17|(16777216,[35884,...| 34.00066375732422| 34.00066375732422|\n",
      "|100905|            Orlistat|         Obesity|\"\"\"On my second l...|  10.0|   October 4, 2010|         83|(16777216,[35884,...| 76.97732543945312| 76.97732543945312|\n",
      "|100939|            Orlistat|         Obesity|\"\"\"I was first pr...|   9.0|   August 23, 2012|        217|(16777216,[35884,...|123.01808166503906|123.01808166503906|\n",
      "|101008|             Rexulti|   Schizophrenia|\"\"\"Has anyone gai...|   7.0|  February 9, 2017|         10|(16777216,[236070...|25.444616317749023|25.444616317749023|\n",
      "|101147|               Actos|Diabetes, Type 2|\"\"\"Experienced ma...|   1.0|September 22, 2010|         31|(16777216,[406164...| 31.68090057373047| 31.68090057373047|\n",
      "|101193|              Invega|   Schizophrenia|\"\"\"My daughter wa...|   9.0|     June 22, 2008|         77|(16777216,[40310,...| 67.47831726074219| 67.47831726074219|\n",
      "|101322|               Aubra|   Birth Control|\"\"\"I began taking...|   5.0| December 15, 2016|          0|(16777216,[176662...| 7.285636901855469| 7.285636901855469|\n",
      "|101539|              Vaniqa|       Hirsutism|\"\"\"I have always ...|  10.0| February 16, 2014|         76|(16777216,[165399...| 78.75003051757812| 78.75003051757812|\n",
      "|101665|       Methocarbamol|    Muscle Spasm|\"\"\"works for me, ...|  10.0|     March 8, 2016|         49|(16777216,[176662...| 46.58009719848633| 46.58009719848633|\n",
      "+------+--------------------+----------------+--------------------+------+------------------+-----------+--------------------+------------------+------------------+\n",
      "only showing top 20 rows"
     ]
    }
   ],
   "source": [
    "prediction.show()"
   ]
  },
  {
   "cell_type": "code",
   "execution_count": 188,
   "metadata": {
    "cell_status": {
     "execute_time": {
      "duration": 2255.380126953125,
      "end_time": 1613995691243.609
     }
    },
    "collapsed": true
   },
   "outputs": [],
   "source": [
    "from mmlspark.train import ComputeModelStatistics\n",
    "metrics = ComputeModelStatistics(\n",
    "    evaluationMetric='regression',\n",
    "    labelCol='usefulCount',\n",
    "    scoresCol='prediction'\n",
    ").transform(prediction)"
   ]
  },
  {
   "cell_type": "code",
   "execution_count": 189,
   "metadata": {
    "cell_status": {
     "execute_time": {
      "duration": 238.402099609375,
      "end_time": 1613995691492.945
     }
    }
   },
   "outputs": [
    {
     "name": "stdout",
     "output_type": "stream",
     "text": [
      "+------------------+-----------------------+-------------------+-------------------+\n",
      "|mean_squared_error|root_mean_squared_error|                R^2|mean_absolute_error|\n",
      "+------------------+-----------------------+-------------------+-------------------+\n",
      "| 675.2070439236329|      25.98474637020021|0.46103020070572054| 16.375469583477777|\n",
      "+------------------+-----------------------+-------------------+-------------------+"
     ]
    }
   ],
   "source": [
    "metrics.show()"
   ]
  },
  {
   "cell_type": "code",
   "execution_count": null,
   "metadata": {
    "collapsed": true
   },
   "outputs": [],
   "source": []
  },
  {
   "cell_type": "code",
   "execution_count": null,
   "metadata": {
    "collapsed": true
   },
   "outputs": [],
   "source": []
  },
  {
   "cell_type": "markdown",
   "metadata": {},
   "source": [
    "### SparkML\n",
    "\n",
    "Нужно отметить, что в стандартной библиотеке Spark присутствует модуль для машинного обучения.\n",
    "\n",
    "**ОДНАКО** нужно сказать, что работает он крайне плохо. Лучшее, что вы можете с ним сделать - это попробовать один раз его запустить и понять, что больше никогда не будете его использовать.\n",
    "\n",
    "Это правда важно, потому что это не звучит слишком убедительно, что стандартная библиотека для ML насколько уж плохо работет и наверное все таки есть случаи, когда она работает хорошо, правда ведь? Ответ - вполне возможно. Чтобы вам самим понять, есть ли такие случаи, попробуйте самостоятельно что-то обучить на SparkML и прочувствуйте границы применимости :)"
   ]
  },
  {
   "cell_type": "code",
   "execution_count": 19,
   "metadata": {
    "cell_status": {
     "execute_time": {
      "duration": 3360.5009765625,
      "end_time": 1614008058614.997
     }
    }
   },
   "outputs": [
    {
     "name": "stdout",
     "output_type": "stream",
     "text": [
      "Starting Spark application\n"
     ]
    },
    {
     "data": {
      "text/html": [
       "<table>\n",
       "<tr><th>ID</th><th>YARN Application ID</th><th>Kind</th><th>State</th><th>Spark UI</th><th>Driver log</th><th>Current session?</th></tr><tr><td>1</td><td>application_1614006317960_0008</td><td>pyspark3</td><td>idle</td><td><a target=\"_blank\" href=\"http://hn1-lsml-s.muyzmke0ieguhmoxew3z0wwpod.dx.internal.cloudapp.net:8088/proxy/application_1614006317960_0008/\">Link</a></td><td><a target=\"_blank\" href=\"http://wn1-lsml-s.muyzmke0ieguhmoxew3z0wwpod.dx.internal.cloudapp.net:30060/node/containerlogs/container_1614006317960_0008_01_000001/livy\">Link</a></td><td>✔</td></tr></table>"
      ],
      "text/plain": [
       "<IPython.core.display.HTML object>"
      ]
     },
     "metadata": {},
     "output_type": "display_data"
    },
    {
     "name": "stdout",
     "output_type": "stream",
     "text": [
      "SparkSession available as 'spark'.\n",
      "/usr/bin/anaconda/envs/py35/lib/python3.5/site-packages/matplotlib/font_manager.py:273: UserWarning: Matplotlib is building the font cache using fc-list. This may take a moment.\n",
      "  warnings.warn('Matplotlib is building the font cache using fc-list. This may take a moment.')\n",
      "/usr/bin/anaconda/envs/py35/lib/python3.5/site-packages/matplotlib/font_manager.py:273: UserWarning: Matplotlib is building the font cache using fc-list. This may take a moment.\n",
      "  warnings.warn('Matplotlib is building the font cache using fc-list. This may take a moment.')"
     ]
    },
    {
     "data": {
      "text/html": [
       "Current session configs: <tt>{u'executorCores': 4, u'numExecutors': 5, u'executorMemory': u'20000M', u'kind': 'pyspark3'}</tt><br>"
      ],
      "text/plain": [
       "<IPython.core.display.HTML object>"
      ]
     },
     "metadata": {},
     "output_type": "display_data"
    },
    {
     "data": {
      "text/html": [
       "<table>\n",
       "<tr><th>ID</th><th>YARN Application ID</th><th>Kind</th><th>State</th><th>Spark UI</th><th>Driver log</th><th>Current session?</th></tr><tr><td>1</td><td>application_1614006317960_0008</td><td>pyspark</td><td>idle</td><td><a target=\"_blank\" href=\"http://hn1-lsml-s.muyzmke0ieguhmoxew3z0wwpod.dx.internal.cloudapp.net:8088/proxy/application_1614006317960_0008/\">Link</a></td><td><a target=\"_blank\" href=\"http://wn1-lsml-s.muyzmke0ieguhmoxew3z0wwpod.dx.internal.cloudapp.net:30060/node/containerlogs/container_1614006317960_0008_01_000001/livy\">Link</a></td><td>✔</td></tr></table>"
      ],
      "text/plain": [
       "<IPython.core.display.HTML object>"
      ]
     },
     "metadata": {},
     "output_type": "display_data"
    }
   ],
   "source": [
    "%%configure -f\n",
    "{\"executorMemory\": \"20000M\", \"executorCores\": 4, \"numExecutors\":5}"
   ]
  },
  {
   "cell_type": "code",
   "execution_count": 20,
   "metadata": {
    "cell_status": {
     "execute_time": {
      "duration": 761.909912109375,
      "end_time": 1614008059391.028
     }
    }
   },
   "outputs": [],
   "source": [
    "from pyspark.ml.classification import LogisticRegression\n",
    "from pyspark.ml.regression import LinearRegression\n",
    "from pyspark.ml.feature import HashingTF, IDF, Tokenizer\n",
    "from pyspark.ml import Pipeline\n",
    "from pyspark.ml.feature import OneHotEncoder, OneHotEncoderEstimator, StringIndexer, VectorAssembler"
   ]
  },
  {
   "cell_type": "code",
   "execution_count": 34,
   "metadata": {
    "cell_status": {
     "execute_time": {
      "duration": 2289.341064453125,
      "end_time": 1614008102760.016
     }
    }
   },
   "outputs": [],
   "source": [
    "data = spark.read.option(\"delimiter\", \"\\t\").csv('/drugs/data/*', header=True, inferSchema=True)"
   ]
  },
  {
   "cell_type": "code",
   "execution_count": 35,
   "metadata": {
    "cell_status": {
     "execute_time": {
      "duration": 268.247802734375,
      "end_time": 1614008103042.305
     }
    }
   },
   "outputs": [],
   "source": [
    "data = (\n",
    "    data\n",
    "    .na.drop('any')\n",
    "    .withColumn('ratingNum', data.rating.cast('integer'))\n",
    ")\n",
    "\n",
    "\n",
    "train, test = data.randomSplit([0.9, 0.1], 422)\n",
    "train, test = train.cache(), test.cache()"
   ]
  },
  {
   "cell_type": "code",
   "execution_count": null,
   "metadata": {
    "cell_status": {
     "execute_time": {
      "duration": 249.799072265625,
      "end_time": 1614002002346.306
     }
    },
    "collapsed": true
   },
   "outputs": [],
   "source": []
  },
  {
   "cell_type": "code",
   "execution_count": 19,
   "metadata": {
    "cell_status": {
     "execute_time": {
      "duration": 11318.88916015625,
      "end_time": 1614002013693.811
     }
    }
   },
   "outputs": [],
   "source": [
    "tokenizer = Tokenizer(inputCol=\"review\", outputCol=\"words\")\n",
    "wordsData = tokenizer.transform(train)\n",
    "\n",
    "hashingTF = HashingTF(inputCol=\"words\", outputCol=\"rawFeatures\", numFeatures=2**23)\n",
    "featurizedData = hashingTF.transform(wordsData)\n",
    "idf = IDF(inputCol=\"rawFeatures\", outputCol=\"features\")\n",
    "idfModel = idf.fit(featurizedData)\n",
    "\n",
    "rescaledData = idfModel.transform(featurizedData)"
   ]
  },
  {
   "cell_type": "code",
   "execution_count": 20,
   "metadata": {
    "cell_status": {
     "execute_time": {
      "duration": 2270.119873046875,
      "end_time": 1614002015974.044
     }
    }
   },
   "outputs": [
    {
     "name": "stdout",
     "output_type": "stream",
     "text": [
      "+------+--------------------+-------------+--------------------+------+-------------+-----------+---------+--------------------+--------------------+--------------------+\n",
      "|   _c0|            drugName|    condition|              review|rating|         date|usefulCount|ratingNum|               words|         rawFeatures|            features|\n",
      "+------+--------------------+-------------+--------------------+------+-------------+-----------+---------+--------------------+--------------------+--------------------+\n",
      "|100002|Desogestrel / eth...|Birth Control|\"\"\"I have been ta...|   4.0|July 12, 2017|          2|        4|[\"\"\"i, have, been...|(8388608,[15664,5...|(8388608,[15664,5...|\n",
      "+------+--------------------+-------------+--------------------+------+-------------+-----------+---------+--------------------+--------------------+--------------------+"
     ]
    }
   ],
   "source": [
    "rescaledData.limit(1).show()"
   ]
  },
  {
   "cell_type": "code",
   "execution_count": 21,
   "metadata": {
    "cell_status": {
     "execute_time": {
      "duration": 1471.298828125,
      "end_time": 1614002017454.737
     }
    }
   },
   "outputs": [],
   "source": [
    "stringIndexer = StringIndexer(inputCol='drugName', outputCol = \"drugIndex\").setHandleInvalid(\"skip\")\n",
    "encoder = OneHotEncoder(inputCol=\"drugIndex\", outputCol=\"drugVec\")\n",
    "\n",
    "pipeline = Pipeline(stages=[stringIndexer, encoder])\n",
    "ohe = pipeline.fit(rescaledData).transform(rescaledData)"
   ]
  },
  {
   "cell_type": "code",
   "execution_count": 22,
   "metadata": {
    "cell_status": {
     "execute_time": {
      "duration": 5661.347900390625,
      "end_time": 1614002023126.504
     }
    }
   },
   "outputs": [
    {
     "name": "stdout",
     "output_type": "stream",
     "text": [
      "Row(_c0='100002', drugName='Desogestrel / ethinyl estradiol', condition='Birth Control', review='\"\"\"I have been taking this birth control for four months now. The first was the worst, I was irritable, frequently sad, lethargic and just overall moody. It cleared up my face and didn&#039;t change much in the way of flow on my period but, did make them shorter. My sex drive has also decreased as well as my eating habits. I find myself less hungry but, my breasts have grown in size. Now four months later I&#039;ve been spotting non-stop for the past two weeks and my face is breaking out in acne that rests under the skin. Going to change my prescription soon but, for awhile it was definitely tolerable.\"\"\"', rating='4.0', date='July 12, 2017', usefulCount=2, ratingNum=4, words=['\"\"\"i', 'have', 'been', 'taking', 'this', 'birth', 'control', 'for', 'four', 'months', 'now.', 'the', 'first', 'was', 'the', 'worst,', 'i', 'was', 'irritable,', 'frequently', 'sad,', 'lethargic', 'and', 'just', 'overall', 'moody.', 'it', 'cleared', 'up', 'my', 'face', 'and', 'didn&#039;t', 'change', 'much', 'in', 'the', 'way', 'of', 'flow', 'on', 'my', 'period', 'but,', 'did', 'make', 'them', 'shorter.', 'my', 'sex', 'drive', 'has', 'also', 'decreased', 'as', 'well', 'as', 'my', 'eating', 'habits.', 'i', 'find', 'myself', 'less', 'hungry', 'but,', 'my', 'breasts', 'have', 'grown', 'in', 'size.', 'now', 'four', 'months', 'later', 'i&#039;ve', 'been', 'spotting', 'non-stop', 'for', 'the', 'past', 'two', 'weeks', 'and', 'my', 'face', 'is', 'breaking', 'out', 'in', 'acne', 'that', 'rests', 'under', 'the', 'skin.', 'going', 'to', 'change', 'my', 'prescription', 'soon', 'but,', 'for', 'awhile', 'it', 'was', 'definitely', 'tolerable.\"\"\"'], rawFeatures=SparseVector(8388608, {15664: 1.0, 51255: 1.0, 82111: 1.0, 91677: 3.0, 105627: 1.0, 272059: 1.0, 328794: 1.0, 729332: 1.0, 802764: 3.0, 827106: 1.0, 834880: 1.0, 1140311: 1.0, 1250993: 1.0, 1282015: 1.0, 1335137: 2.0, 1396895: 2.0, 1457856: 1.0, 1659358: 1.0, 1800295: 2.0, 1907098: 1.0, 1943549: 1.0, 1975398: 1.0, 2119062: 3.0, 2173916: 1.0, 2374194: 1.0, 2449013: 1.0, 2473060: 1.0, 2559219: 1.0, 2686527: 1.0, 2715290: 1.0, 2856776: 1.0, 2871995: 1.0, 2927872: 1.0, 2933394: 1.0, 2934524: 2.0, 3040165: 1.0, 3155367: 1.0, 3178971: 1.0, 3183580: 7.0, 3325072: 1.0, 3405420: 1.0, 3601599: 1.0, 3640557: 1.0, 3663314: 1.0, 3856941: 1.0, 3903693: 1.0, 3960562: 1.0, 4291475: 1.0, 4304146: 1.0, 4441698: 2.0, 4612487: 1.0, 4645740: 1.0, 4655703: 1.0, 5014852: 1.0, 5433390: 1.0, 5586655: 1.0, 5642832: 1.0, 5648081: 1.0, 6106684: 1.0, 6133150: 5.0, 6230146: 1.0, 6251765: 3.0, 6368785: 1.0, 6411366: 1.0, 6544931: 2.0, 6602149: 1.0, 6843288: 1.0, 6907622: 1.0, 7268154: 1.0, 7310064: 1.0, 7312151: 1.0, 7432678: 2.0, 7440290: 1.0, 7527717: 1.0, 7535903: 1.0, 7695483: 2.0, 7880209: 1.0, 7889890: 3.0, 7945566: 1.0, 8010902: 1.0, 8207510: 2.0, 8347002: 1.0}), features=SparseVector(8388608, {15664: 2.2567, 51255: 6.9985, 82111: 1.5638, 91677: 0.5272, 105627: 3.2184, 272059: 2.3215, 328794: 7.0996, 729332: 0.2961, 802764: 1.1878, 827106: 7.6176, 834880: 0.9341, 1140311: 6.4353, 1250993: 5.4608, 1282015: 3.6741, 1335137: 0.3301, 1396895: 0.8242, 1457856: 2.0279, 1659358: 6.5431, 1800295: 2.0541, 1907098: 6.3215, 1943549: 0.7581, 1975398: 1.8192, 2119062: 14.7167, 2173916: 2.2026, 2374194: 2.5781, 2449013: 2.9404, 2473060: 1.4689, 2559219: 2.5497, 2686527: 4.6539, 2715290: 3.2968, 2856776: 2.3704, 2871995: 3.4252, 2927872: 6.6457, 2933394: 10.6621, 2934524: 3.0123, 3040165: 4.5908, 3155367: 0.5698, 3178971: 3.8048, 3183580: 2.4163, 3325072: 1.7549, 3405420: 3.2522, 3601599: 6.0249, 3640557: 2.4498, 3663314: 3.9838, 3856941: 2.6349, 3903693: 2.1804, 3960562: 1.5653, 4291475: 1.627, 4304146: 6.1905, 4441698: 7.244, 4612487: 3.667, 4645740: 7.9709, 4655703: 3.3201, 5014852: 3.2283, 5433390: 6.072, 5586655: 3.9812, 5642832: 6.5032, 5648081: 3.9894, 6106684: 2.9263, 6133150: 1.2258, 6230146: 3.9844, 6251765: 2.292, 6368785: 1.4182, 6411366: 4.1649, 6544931: 1.1669, 6602149: 5.8378, 6843288: 5.0985, 6907622: 3.4368, 7268154: 2.9905, 7310064: 1.8423, 7312151: 4.9231, 7432678: 7.3879, 7440290: 0.6936, 7527717: 2.9701, 7535903: 2.0499, 7695483: 8.088, 7880209: 0.826, 7889890: 2.0051, 7945566: 0.8395, 8010902: 4.7978, 8207510: 3.7182, 8347002: 3.367}), drugIndex=63.0, drugVec=SparseVector(3488, {63: 1.0}))"
     ]
    }
   ],
   "source": [
    "x = ohe.limit(1).rdd.first()\n",
    "x"
   ]
  },
  {
   "cell_type": "code",
   "execution_count": 24,
   "metadata": {
    "cell_status": {
     "execute_time": {
      "duration": 57.4951171875,
      "end_time": 1614002050942.128
     }
    }
   },
   "outputs": [
    {
     "name": "stdout",
     "output_type": "stream",
     "text": [
      "SparseVector(3488, {63: 1.0})"
     ]
    }
   ],
   "source": [
    "x['drugVec']"
   ]
  },
  {
   "cell_type": "code",
   "execution_count": null,
   "metadata": {
    "collapsed": true
   },
   "outputs": [],
   "source": []
  },
  {
   "cell_type": "markdown",
   "metadata": {},
   "source": [
    "Подготавливаем признаки"
   ]
  },
  {
   "cell_type": "code",
   "execution_count": 25,
   "metadata": {
    "cell_status": {
     "execute_time": {
      "duration": 1161.2451171875,
      "end_time": 1614002060570.721
     }
    },
    "collapsed": true
   },
   "outputs": [],
   "source": [
    "wordsData = tokenizer.transform(train)\n",
    "\n",
    "tokenizer = Tokenizer(inputCol=\"review\", outputCol=\"words\")\n",
    "hashingTF = HashingTF(inputCol=\"words\", outputCol=\"rawFeatures\", numFeatures=2**23)\n",
    "idf = IDF(inputCol=\"rawFeatures\", outputCol=\"revviewFeatures\")\n",
    "\n",
    "stringIndexerCondition = StringIndexer(inputCol='condition', outputCol = \"conditionIndex\").setHandleInvalid(\"skip\")\n",
    "encoderCondition = OneHotEncoder(inputCol=\"conditionIndex\", outputCol=\"conditionVec\")\n",
    "\n",
    "stringIndexerDrug = StringIndexer(inputCol='drugName', outputCol = \"drugIndex\").setHandleInvalid(\"skip\")\n",
    "encoderDrug = OneHotEncoder(inputCol=\"drugIndex\", outputCol=\"drugVec\")\n",
    "\n",
    "assembler = VectorAssembler(inputCols=[\"drugVec\", \"conditionVec\", \"revviewFeatures\", 'ratingNum'], outputCol=\"features\")\n",
    "\n",
    "preproc = Pipeline(stages=[\n",
    "    tokenizer,\n",
    "    hashingTF,\n",
    "    idf,\n",
    "    stringIndexerCondition,\n",
    "    encoderCondition,\n",
    "    stringIndexerDrug,\n",
    "    encoderDrug,\n",
    "    assembler\n",
    "])"
   ]
  },
  {
   "cell_type": "code",
   "execution_count": null,
   "metadata": {
    "cell_status": {
     "execute_time": {
      "duration": 390136.5959472656,
      "end_time": 1614002526825.782
     }
    }
   },
   "outputs": [],
   "source": [
    "train_proc = preproc.fit(train).transform(train).cache()"
   ]
  },
  {
   "cell_type": "code",
   "execution_count": null,
   "metadata": {
    "cell_status": {
     "execute_time": {
      "duration": 37.211181640625,
      "end_time": 1614002117596.296
     }
    }
   },
   "outputs": [],
   "source": [
    "train_proc.show()"
   ]
  },
  {
   "cell_type": "code",
   "execution_count": null,
   "metadata": {
    "collapsed": true
   },
   "outputs": [],
   "source": []
  },
  {
   "cell_type": "code",
   "execution_count": 5,
   "metadata": {
    "cell_status": {
     "execute_time": {
      "duration": 258.18994140625,
      "end_time": 1614003221877.417
     }
    }
   },
   "outputs": [],
   "source": [
    "tokenizer = Tokenizer(inputCol=\"review\", outputCol=\"words\")\n",
    "hashingTF = HashingTF(inputCol=\"words\", outputCol=\"rawFeatures\", numFeatures=2**23)\n",
    "idf = IDF(inputCol=\"rawFeatures\", outputCol=\"revviewFeatures\")\n",
    "\n",
    "preproc = Pipeline(stages=[\n",
    "    tokenizer,\n",
    "    hashingTF,\n",
    "    idf\n",
    "])"
   ]
  },
  {
   "cell_type": "markdown",
   "metadata": {},
   "source": [
    "Запустить сбор признаков, который написан, у вас скорее всего не получится. Поэтому попробуем урезать количество вычислений - может быть получится."
   ]
  },
  {
   "cell_type": "code",
   "execution_count": 36,
   "metadata": {
    "cell_status": {
     "execute_time": {
      "duration": 254.76513671875,
      "end_time": 1614008109896.306
     }
    }
   },
   "outputs": [],
   "source": [
    "stringIndexerCondition = StringIndexer(inputCol='condition', outputCol = \"conditionIndex\").setHandleInvalid(\"skip\")\n",
    "encoderCondition = OneHotEncoder(inputCol=\"conditionIndex\", outputCol=\"conditionVec\")\n",
    "\n",
    "stringIndexerDrug = StringIndexer(inputCol='drugName', outputCol = \"drugIndex\").setHandleInvalid(\"skip\")\n",
    "encoderDrug = OneHotEncoder(inputCol=\"drugIndex\", outputCol=\"drugVec\")\n",
    "\n",
    "assembler = VectorAssembler(inputCols=[\"drugVec\", \"conditionVec\", 'ratingNum'], outputCol=\"features\")\n",
    "\n",
    "\n",
    "preproc = Pipeline(stages=[\n",
    "    stringIndexerCondition,\n",
    "    encoderCondition,\n",
    "    stringIndexerDrug,\n",
    "    encoderDrug,\n",
    "    assembler\n",
    "])"
   ]
  },
  {
   "cell_type": "code",
   "execution_count": 37,
   "metadata": {
    "cell_status": {
     "execute_time": {
      "duration": 5316.071044921875,
      "end_time": 1614008115227.569
     }
    }
   },
   "outputs": [],
   "source": [
    "preproc = preproc.fit(data)"
   ]
  },
  {
   "cell_type": "code",
   "execution_count": 38,
   "metadata": {
    "cell_status": {
     "execute_time": {
      "duration": 756.6298828125,
      "end_time": 1614008115996.191
     }
    }
   },
   "outputs": [],
   "source": [
    "train_proc = preproc.transform(train).cache()\n",
    "test_proc = preproc.transform(test).cache()"
   ]
  },
  {
   "cell_type": "code",
   "execution_count": 39,
   "metadata": {
    "cell_status": {
     "execute_time": {
      "duration": 3277.0419921875,
      "end_time": 1614008119284.472
     }
    }
   },
   "outputs": [
    {
     "name": "stdout",
     "output_type": "stream",
     "text": [
      "+------+--------------------+-------------+--------------------+------+------------------+-----------+---------+--------------+---------------+---------+-----------------+--------------------+\n",
      "|   _c0|            drugName|    condition|              review|rating|              date|usefulCount|ratingNum|conditionIndex|   conditionVec|drugIndex|          drugVec|            features|\n",
      "+------+--------------------+-------------+--------------------+------+------------------+-----------+---------+--------------+---------------+---------+-----------------+--------------------+\n",
      "|100029|Desogestrel / eth...|Birth Control|\"\"\"I was switched...|   5.0|  December 6, 2017|          0|        5|           0.0|(896,[0],[1.0])|     60.0|(3572,[60],[1.0])|(4469,[60,3572,44...|\n",
      "|100071|Desogestrel / eth...|Birth Control|\"\"\"So I&#039;ve o...|   8.0|     March 7, 2017|          7|        8|           0.0|(896,[0],[1.0])|     60.0|(3572,[60],[1.0])|(4469,[60,3572,44...|\n",
      "|100087|Desogestrel / eth...|Birth Control|\"\"\"I&#039;m 19 an...|   9.0|  January 26, 2017|          3|        9|           0.0|(896,[0],[1.0])|     60.0|(3572,[60],[1.0])|(4469,[60,3572,44...|\n",
      "|100088|Desogestrel / eth...|Birth Control|\"\"\"I switched to ...|  10.0|  January 19, 2017|          4|       10|           0.0|(896,[0],[1.0])|     60.0|(3572,[60],[1.0])|(4469,[60,3572,44...|\n",
      "|100094|Desogestrel / eth...|Birth Control|\"\"\"I started Apri...|   8.0| December 29, 2016|          2|        8|           0.0|(896,[0],[1.0])|     60.0|(3572,[60],[1.0])|(4469,[60,3572,44...|\n",
      "|100100|Desogestrel / eth...|Birth Control|\"\"\"I&#039;ve been...|   7.0| December 19, 2016|          7|        7|           0.0|(896,[0],[1.0])|     60.0|(3572,[60],[1.0])|(4469,[60,3572,44...|\n",
      "|100125|Desogestrel / eth...|Birth Control|\"\"\"Seems fine so ...|   9.0|  October 28, 2016|          4|        9|           0.0|(896,[0],[1.0])|     60.0|(3572,[60],[1.0])|(4469,[60,3572,44...|\n",
      "|100153|Desogestrel / eth...|Birth Control|\"\"\"I&#039;ve been...|   7.0|     April 5, 2016|          2|        7|           0.0|(896,[0],[1.0])|     60.0|(3572,[60],[1.0])|(4469,[60,3572,44...|\n",
      "|100157|Desogestrel / eth...|Birth Control|\"\"\"Just about to ...|   8.0|     April 2, 2016|          0|        8|           0.0|(896,[0],[1.0])|     60.0|(3572,[60],[1.0])|(4469,[60,3572,44...|\n",
      "|100163|Desogestrel / eth...|Birth Control|\"\"\"I first starte...|   4.0|    March 21, 2016|          0|        4|           0.0|(896,[0],[1.0])|     60.0|(3572,[60],[1.0])|(4469,[60,3572,44...|\n",
      "|100188|Desogestrel / eth...|Birth Control|\"\"\"I went on Recl...|   2.0|      May 12, 2016|          3|        2|           0.0|(896,[0],[1.0])|     60.0|(3572,[60],[1.0])|(4469,[60,3572,44...|\n",
      "|100199|Desogestrel / eth...|Birth Control|\"\"\"This will be m...|   3.0|    April 18, 2016|          4|        3|           0.0|(896,[0],[1.0])|     60.0|(3572,[60],[1.0])|(4469,[60,3572,44...|\n",
      "|100224|Desogestrel / eth...|Birth Control|\"\"\"I took Azurett...|   5.0|  October 16, 2015|          2|        5|           0.0|(896,[0],[1.0])|     60.0|(3572,[60],[1.0])|(4469,[60,3572,44...|\n",
      "|100259|Desogestrel / eth...|Birth Control|\"\"\"I changed to t...|   4.0|September 21, 2015|          2|        4|           0.0|(896,[0],[1.0])|     60.0|(3572,[60],[1.0])|(4469,[60,3572,44...|\n",
      "|100281|Desogestrel / eth...|Birth Control|\"\"\"I have been on...|   4.0|    April 29, 2015|          2|        4|           0.0|(896,[0],[1.0])|     60.0|(3572,[60],[1.0])|(4469,[60,3572,44...|\n",
      "|100294|Desogestrel / eth...|Birth Control|\"\"\"This pill is g...|  10.0|    March 22, 2015|         13|       10|           0.0|(896,[0],[1.0])|     60.0|(3572,[60],[1.0])|(4469,[60,3572,44...|\n",
      "|100310|Desogestrel / eth...|Birth Control|\"\"\"Pros: I never ...|   6.0|      July 4, 2015|          7|        6|           0.0|(896,[0],[1.0])|     60.0|(3572,[60],[1.0])|(4469,[60,3572,44...|\n",
      "|100325|Desogestrel / eth...|Birth Control|\"\"\"My experience ...|   1.0|      May 20, 2015|          0|        1|           0.0|(896,[0],[1.0])|     60.0|(3572,[60],[1.0])|(4469,[60,3572,44...|\n",
      "|100332|Desogestrel / eth...|Birth Control|\"\"\"Worst birth co...|   1.0|  October 18, 2016|          3|        1|           0.0|(896,[0],[1.0])|     60.0|(3572,[60],[1.0])|(4469,[60,3572,44...|\n",
      "|100337|Desogestrel / eth...|Birth Control|\"\"\"I&#039;d say t...|   9.0|   October 3, 2016|          1|        9|           0.0|(896,[0],[1.0])|     60.0|(3572,[60],[1.0])|(4469,[60,3572,44...|\n",
      "+------+--------------------+-------------+--------------------+------+------------------+-----------+---------+--------------+---------------+---------+-----------------+--------------------+\n",
      "only showing top 20 rows"
     ]
    }
   ],
   "source": [
    "train_proc.show()"
   ]
  },
  {
   "cell_type": "code",
   "execution_count": null,
   "metadata": {
    "collapsed": true
   },
   "outputs": [],
   "source": []
  },
  {
   "cell_type": "markdown",
   "metadata": {},
   "source": [
    "Если все таки удалось собрать датасет, то запускаем линейную регрессию"
   ]
  },
  {
   "cell_type": "code",
   "execution_count": 40,
   "metadata": {
    "cell_status": {
     "execute_time": {
      "duration": 246.6259765625,
      "end_time": 1614008119542.424
     }
    }
   },
   "outputs": [],
   "source": [
    "lr = LinearRegression(featuresCol='features', labelCol='usefulCount', maxIter=10, regParam=0.3, elasticNetParam=0.8)"
   ]
  },
  {
   "cell_type": "code",
   "execution_count": 41,
   "metadata": {
    "cell_status": {
     "execute_time": {
      "duration": 13373.862060546875,
      "end_time": 1614008132927.959
     }
    }
   },
   "outputs": [],
   "source": [
    "lrModel = lr.fit(train_proc)"
   ]
  },
  {
   "cell_type": "code",
   "execution_count": 42,
   "metadata": {
    "cell_status": {
     "execute_time": {
      "duration": 264.359130859375,
      "end_time": 1614008133204.069
     }
    }
   },
   "outputs": [
    {
     "name": "stdout",
     "output_type": "stream",
     "text": [
      "SparseVector(4469, {0: -0.6743, 6: -0.0783, 7: 0.2372, 8: -2.602, 11: 18.7913, 12: -2.539, 13: 7.4739, 15: -4.8054, 17: 0.4586, 18: 1.5943, 19: -4.8051, 20: -1.6743, 22: -1.0804, 24: 1.6261, 25: 5.4599, 27: -3.7968, 28: 15.3822, 30: -1.9413, 31: -6.3131, 32: 4.7946, 34: -1.0008, 36: 17.4721, 37: -1.6746, 41: -0.9766, 43: 8.391, 44: 16.0544, 45: 8.4384, 46: -4.1876, 47: 19.8013, 49: 1.4817, 51: 21.742, 54: -2.4582, 59: 2.7534, 61: -6.7088, 63: 16.3311, 64: 3.8718, 68: -8.194, 69: 3.5768, 70: -0.0624, 73: 2.2912, 74: 20.8008, 76: 8.7944, 77: 12.2401, 83: 10.5261, 85: 0.339, 88: -2.3094, 89: -1.2361, 91: 3.2148, 94: -4.7645, 97: 10.7624, 101: 5.7298, 104: 8.1481, 106: 14.3783, 107: 0.4101, 108: -1.2586, 109: 12.4, 110: 20.6213, 111: 8.2038, 113: -5.6766, 115: 1.6724, 118: 15.4201, 119: 2.6892, 120: 5.7309, 122: 7.8388, 123: 10.2542, 124: 27.0023, 126: -0.6129, 132: 0.6256, 139: -0.5122, 140: 1.4564, 142: -0.513, 143: 39.0297, 145: 15.5268, 147: 17.2809, 149: 7.4676, 152: 4.0548, 153: 6.8062, 156: 1.3863, 158: 0.6106, 159: 1.6287, 162: 1.4761, 163: 5.0712, 164: -2.1172, 166: 1.69, 169: 5.5613, 179: 1.7214, 180: 0.9202, 181: 27.7247, 183: -0.6352, 185: 7.0626, 193: 21.9811, 196: -3.0485, 199: 0.3291, 206: 2.2725, 210: -8.6093, 211: 10.226, 212: 29.5761, 217: 3.26, 220: -0.4749, 223: 2.4368, 227: 18.22, 230: 3.0672, 235: 25.8553, 237: 7.7466, 240: 15.3489, 245: -1.55, 247: 5.1871, 248: 3.3778, 249: 3.5747, 253: 8.1912, 254: 17.3368, 257: 8.03, 259: 34.4656, 260: 3.404, 273: 26.7478, 275: 5.6475, 278: 8.0872, 288: 0.3983, 290: 38.9615, 291: 15.1425, 293: 1.7057, 296: 2.24, 297: 18.7477, 299: -0.5126, 301: 10.8762, 303: 7.1468, 305: 4.5317, 306: 14.0121, 307: -1.678, 309: 13.6205, 310: 14.7306, 311: 9.3045, 313: 11.994, 316: -3.3708, 317: 3.912, 324: 20.3612, 325: 2.4772, 329: 5.5244, 335: 21.7382, 338: 1.0822, 345: 7.7423, 354: 14.0309, 357: 6.1046, 376: 18.3516, 378: 6.4337, 381: -0.1476, 387: 30.8644, 391: 27.9828, 392: 6.3497, 395: 0.2574, 396: 26.087, 402: -5.1978, 403: -1.3555, 404: -1.879, 406: 4.1358, 407: 10.3676, 410: 4.8575, 411: 0.9377, 412: 0.6261, 414: 5.2245, 433: 4.9863, 436: 0.7938, 448: 10.2672, 449: 2.9742, 457: 18.9235, 459: -0.6424, 461: 17.7981, 462: 30.5927, 467: 3.4028, 473: 28.4844, 481: 7.7015, 485: 8.8874, 486: 13.4698, 487: 29.3026, 488: 7.0236, 494: 33.7115, 504: 15.873, 506: 11.3935, 515: 9.472, 524: 8.2515, 526: 14.3803, 529: 21.128, 535: 10.37, 540: -4.6541, 541: 32.425, 544: 10.3142, 545: 19.1793, 549: 12.8812, 553: 41.3303, 568: 13.3384, 578: 45.3127, 579: 14.9494, 580: 23.4092, 581: -1.4447, 590: 1.6704, 591: 48.7071, 600: 4.9799, 602: 52.729, 605: 14.2135, 606: -3.7585, 615: 27.5131, 619: 12.8166, 620: -6.6881, 622: -6.294, 623: -4.6271, 624: 3.3842, 629: -4.3507, 632: 1.3642, 637: 1.4958, 639: 14.1029, 642: 1.2942, 647: 16.5655, 651: 20.0673, 654: 5.1716, 660: 3.194, 662: 1.135, 663: 31.0104, 665: 56.1685, 668: 3.4056, 672: 6.0283, 674: 29.4939, 677: 36.9676, 679: 47.7809, 685: 8.0346, 690: 5.6129, 692: -4.5685, 693: 18.1258, 701: 1.0903, 707: 10.0411, 708: 21.874, 713: 37.6111, 715: 7.0012, 718: 17.1682, 721: 19.5577, 739: 8.1016, 740: 28.96, 742: 12.8836, 745: 73.2602, 747: 9.3805, 749: 10.4098, 759: 46.128, 768: 4.3379, 773: 8.0799, 775: 9.1994, 776: 5.1681, 780: 13.3481, 790: 0.3503, 794: 17.4687, 797: 24.799, 811: 18.688, 814: 24.9568, 815: 2.3697, 820: 14.5186, 822: 30.5779, 826: 5.0896, 829: 2.3067, 839: 11.3616, 848: -1.38, 859: 5.7904, 881: 17.688, 888: 11.0058, 897: 24.0072, 899: -4.8587, 900: 28.7495, 908: 39.4216, 913: 10.8774, 915: 14.7151, 917: 5.1022, 924: 8.6147, 939: 35.3659, 946: 29.2601, 950: 36.7903, 951: 18.915, 960: 8.3634, 963: 3.448, 993: 0.8655, 997: 7.7716, 1000: -2.5481, 1002: -5.479, 1008: 0.3957, 1011: -1.2841, 1019: 11.9011, 1032: -2.5469, 1033: 7.0942, 1062: 26.1472, 1064: 34.8159, 1076: 13.7113, 1081: 40.5687, 1119: 66.2223, 1128: -1.979, 1132: 8.6535, 1143: 2.2561, 1183: 1.1468, 1215: 40.796, 1224: 15.037, 1225: 8.5726, 1236: 27.0724, 1254: 25.8592, 1278: 21.0444, 1294: 1.1539, 1298: 10.3329, 1342: 24.7607, 1353: 93.2775, 1416: 1.4849, 1430: -2.8658, 1437: 9.6763, 1468: 19.934, 1469: -2.8658, 1497: 5.7412, 1515: 33.0451, 1542: 2.9795, 1543: 16.3921, 1609: 2.0593, 1619: 29.3514, 1622: -0.3949, 1654: 48.253, 1663: 30.5766, 1742: 4.0238, 1934: 8.552, 2224: 8.334, 2302: 36.588, 2357: 46.6809, 2382: 12.8192, 2737: 15.0985, 3123: 15.2152, 3498: 24.0515, 3572: -14.9406, 3573: 22.0754, 3574: 4.593, 3575: 18.079, 3576: -8.9932, 3577: 6.3901, 3578: 7.3884, 3579: 3.4911, 3580: 5.7005, 3581: 6.697, 3582: -11.7476, 3583: 0.1191, 3584: 14.9666, 3585: -4.6749, 3586: -4.7472, 3587: 12.6106, 3588: -3.8706, 3589: -8.1109, 3590: -13.7377, 3591: 29.0646, 3594: 9.3517, 3595: 8.5922, 3596: -0.8463, 3597: 1.9685, 3598: 13.9011, 3599: 10.6083, 3600: 1.5237, 3601: 20.5412, 3602: 22.5823, 3603: -5.4992, 3604: 15.6049, 3605: 2.236, 3606: -4.432, 3609: -2.0832, 3610: 0.5819, 3611: -14.5255, 3612: 10.5969, 3613: 8.5825, 3614: 2.4927, 3616: -0.32, 3617: 19.7556, 3618: 1.6077, 3619: -12.0893, 3620: 9.6225, 3622: -4.4786, 3623: 12.2659, 3625: -3.7873, 3628: 29.29, 3630: 2.7544, 3631: -4.7132, 3633: -18.0628, 3634: 27.9967, 3635: -0.5892, 3636: 5.6774, 3637: -5.9887, 3639: -7.0444, 3640: 37.2814, 3641: -7.8761, 3642: -9.4934, 3643: -5.5018, 3644: 8.0305, 3645: -7.453, 3647: 21.8025, 3648: 43.565, 3651: 9.0339, 3652: -7.9361, 3655: 28.0034, 3656: -1.187, 3658: -13.1679, 3659: -5.3608, 3662: 16.8392, 3664: 9.4139, 3665: -0.2785, 3666: -0.4165, 3668: 13.8031, 3670: -1.6067, 3676: 7.0725, 3677: 0.5094, 3679: 1.4306, 3681: 15.5439, 3684: -2.7782, 3685: 8.8847, 3686: -6.3091, 3687: 4.0763, 3689: -0.8417, 3690: -4.4611, 3691: 5.2893, 3692: -0.7952, 3693: -8.6048, 3694: 10.0861, 3695: 7.221, 3696: 7.9315, 3697: -1.6908, 3700: -0.4035, 3702: 10.6969, 3704: -3.0262, 3706: 9.6459, 3707: -12.9399, 3710: -10.2005, 3712: 13.1897, 3714: 1.9811, 3716: 8.6159, 3717: -14.3727, 3718: 5.6123, 3719: -5.1993, 3723: 15.252, 3724: -1.5468, 3725: -0.0381, 3726: 1.8467, 3727: 21.1151, 3729: 1.6157, 3730: 8.4351, 3731: 16.0715, 3732: 13.1721, 3735: -12.399, 3741: 7.7241, 3743: -11.9421, 3744: 22.5238, 3748: 9.0722, 3751: -9.8101, 3752: -4.7729, 3754: -10.0076, 3756: 3.9771, 3761: -10.2907, 3764: -1.417, 3766: -3.2267, 3770: -1.8532, 3774: 16.9894, 3775: 3.8266, 3776: -9.1836, 3777: -3.7197, 3781: 0.4042, 3785: -1.2565, 3788: 10.2996, 3789: 18.0599, 3797: -11.0507, 3803: -9.7574, 3804: 6.2989, 3805: -2.44, 3807: -5.5152, 3810: -1.0714, 3812: 0.8319, 3818: 6.4748, 3819: -5.9145, 3825: -4.7119, 3832: -1.7487, 3835: 21.6578, 3842: -3.2483, 3844: -3.5998, 3849: -0.2812, 3862: -3.3269, 3873: -15.6792, 3883: 8.9158, 3896: -2.0469, 3908: -2.4847, 3920: -0.5791, 3934: 22.1669, 3982: 27.4383, 4241: 28.9864, 4361: 6.7417, 4468: 2.1593})"
     ]
    }
   ],
   "source": [
    "lrModel.coefficients"
   ]
  },
  {
   "cell_type": "code",
   "execution_count": 43,
   "metadata": {
    "cell_status": {
     "execute_time": {
      "duration": 249.432861328125,
      "end_time": 1614008133464.818
     }
    }
   },
   "outputs": [],
   "source": [
    "from pyspark.ml.evaluation import RegressionEvaluator\n",
    "\n",
    "predictions = lrModel.transform(test_proc)"
   ]
  },
  {
   "cell_type": "code",
   "execution_count": 44,
   "metadata": {
    "cell_status": {
     "execute_time": {
      "duration": 2274.383056640625,
      "end_time": 1614008135751.993
     }
    }
   },
   "outputs": [
    {
     "name": "stdout",
     "output_type": "stream",
     "text": [
      "+------+--------------------+--------------------+--------------------+------+------------------+-----------+---------+--------------+-----------------+---------+-------------------+--------------------+------------------+\n",
      "|   _c0|            drugName|           condition|              review|rating|              date|usefulCount|ratingNum|conditionIndex|     conditionVec|drugIndex|            drugVec|            features|        prediction|\n",
      "+------+--------------------+--------------------+--------------------+------+------------------+-----------+---------+--------------+-----------------+---------+-------------------+--------------------+------------------+\n",
      "|100012|Desogestrel / eth...|       Birth Control|\"\"\"I&#039;ve been...|   9.0|     June 17, 2017|          2|        9|           0.0|  (896,[0],[1.0])|     60.0|  (3572,[60],[1.0])|(4469,[60,3572,44...|14.531704383354949|\n",
      "|100123|Desogestrel / eth...|       Birth Control|\"\"\"I haven&#039;t...|   1.0|  November 2, 2016|          2|        1|           0.0|  (896,[0],[1.0])|     60.0|  (3572,[60],[1.0])|(4469,[60,3572,44...|-2.742560810239681|\n",
      "|100215|Desogestrel / eth...|       Birth Control|\"\"\"I have been on...|   6.0|  November 1, 2015|          3|        6|           0.0|  (896,[0],[1.0])|     60.0|  (3572,[60],[1.0])|(4469,[60,3572,44...| 8.053854935756963|\n",
      "|100402|Desogestrel / eth...|       Birth Control|\"\"\"It has worked ...|   5.0|September 16, 2014|          7|        5|           0.0|  (896,[0],[1.0])|     60.0|  (3572,[60],[1.0])|(4469,[60,3572,44...| 5.894571786557634|\n",
      "|100500|Desogestrel / eth...|       Birth Control|\"\"\"Since I starte...|   9.0|     April 1, 2013|         11|        9|           0.0|  (896,[0],[1.0])|     60.0|  (3572,[60],[1.0])|(4469,[60,3572,44...|14.531704383354949|\n",
      "| 10059|      Lo Loestrin Fe|       Birth Control|\"\"\"I&#039;ve been...|   9.0|     July 11, 2013|         29|        9|           0.0|  (896,[0],[1.0])|     35.0|  (3572,[35],[1.0])|(4469,[35,3572,44...|14.531704383354949|\n",
      "|100767|            Orlistat|             Obesity|\"\"\"It does what i...|   3.0|       May 9, 2016|         59|        3|           8.0|  (896,[8],[1.0])|    254.0| (3572,[254],[1.0])|(4469,[254,3580,4...| 39.55391668386575|\n",
      "|100996|             Rexulti|Major Depressive ...|\"\"\"Rexulti has gi...|  10.0|     June 11, 2017|         44|       10|          21.0| (896,[21],[1.0])|    427.0| (3572,[427],[1.0])|(4469,[427,3593,4...| 31.63159733041452|\n",
      "|101037|         Plecanatide|Chronic Idiopathi...|\"\"\"Works great! N...|  10.0|      June 5, 2017|         26|       10|         219.0|(896,[219],[1.0])|    830.0| (3572,[830],[1.0])|(4469,[830,3791,4...| 31.63159733041452|\n",
      "|101145|               Actos|    Diabetes, Type 2|\"\"\"I&#039;ve been...|   2.0|  October 16, 2010|         58|        2|          11.0| (896,[11],[1.0])|    889.0| (3572,[889],[1.0])|(4469,[889,3583,4...| 14.47643558737596|\n",
      "|101187|              Invega|     Bipolar Disorde|\"\"\"I have been on...|   7.0| December 14, 2009|         21|        7|           5.0|  (896,[5],[1.0])|    525.0| (3572,[525],[1.0])|(4469,[525,3577,4...|31.543843719686116|\n",
      "|101745|       Methocarbamol|        Muscle Spasm|\"\"\"Somehow I mana...|   8.0| December 24, 2011|         78|        8|          26.0| (896,[26],[1.0])|    275.0| (3572,[275],[1.0])|(4469,[275,3598,4...| 46.86161554496712|\n",
      "|102112|Morphine / naltre...|        Chronic Pain|\"\"\"Just started -...|   8.0| November 10, 2016|          0|        8|          23.0| (896,[23],[1.0])|    771.0| (3572,[771],[1.0])|(4469,[771,3595,4...| 35.90522191877081|\n",
      "|102198|             Spiriva|   COPD, Maintenance|\"\"\"If a doseage h...|   9.0| December 11, 2016|         17|        9|          88.0| (896,[88],[1.0])|    615.0| (3572,[615],[1.0])|(4469,[615,3660,4...|56.985454478458344|\n",
      "| 10231|              Axiron|  Hypogonadism, Male|\"\"\"I had some wei...|   6.0|     July 25, 2012|         11|        6|          58.0| (896,[58],[1.0])|    484.0| (3572,[484],[1.0])|(4469,[484,3630,4...|25.748871516767466|\n",
      "|102538|        Aripiprazole|      Agitated State|\"\"\"I&#039;m takin...|   1.0|     April 2, 2016|         11|        1|         268.0|(896,[268],[1.0])|     62.0|  (3572,[62],[1.0])|(4469,[62,3840,44...|12.198048987620563|\n",
      "|102684|        Aripiprazole|     Bipolar Disorde|\"\"\"After having t...|   2.0|   August 14, 2015|         10|        2|           5.0|  (896,[5],[1.0])|     62.0|  (3572,[62],[1.0])|(4469,[62,3577,44...|20.747427973689472|\n",
      "|102810|        Aripiprazole|          Depression|\"\"\"Intake Effexor...|   4.0|   August 17, 2012|         33|        4|           1.0|  (896,[1],[1.0])|     62.0|  (3572,[62],[1.0])|(4469,[62,3573,44...|40.751279623378366|\n",
      "|103193|           Estarylla|       Birth Control|\"\"\"I have been on...|  10.0| February 27, 2017|         10|       10|           0.0|  (896,[0],[1.0])|    356.0| (3572,[356],[1.0])|(4469,[356,3572,4...|16.690987532554278|\n",
      "|103391|        Treprostinil|Pulmonary Hyperte...|\"\"\"I found it to ...|   4.0|       May 9, 2017|          0|        4|         192.0|(896,[192],[1.0])|   1455.0|(3572,[1455],[1.0])|(4469,[1455,3764,...|17.258854729624236|\n",
      "+------+--------------------+--------------------+--------------------+------+------------------+-----------+---------+--------------+-----------------+---------+-------------------+--------------------+------------------+\n",
      "only showing top 20 rows"
     ]
    }
   ],
   "source": [
    "predictions.show()"
   ]
  },
  {
   "cell_type": "code",
   "execution_count": 45,
   "metadata": {
    "cell_status": {
     "execute_time": {
      "duration": 2279.85205078125,
      "end_time": 1614008138042.79
     }
    }
   },
   "outputs": [
    {
     "name": "stdout",
     "output_type": "stream",
     "text": [
      "0.2824947550170618"
     ]
    }
   ],
   "source": [
    "lr_evaluator = RegressionEvaluator(predictionCol=\"prediction\", labelCol=\"usefulCount\", metricName=\"r2\")\n",
    "lr_evaluator.evaluate(predictions)"
   ]
  },
  {
   "cell_type": "code",
   "execution_count": null,
   "metadata": {
    "collapsed": true
   },
   "outputs": [],
   "source": []
  },
  {
   "cell_type": "markdown",
   "metadata": {},
   "source": [
    "Далее будем говорить уже про деревья решений. Там мы будем смотреть на другой полезный инструмент, который называется H2O.\n",
    "\n",
    "Для удобства, я разнес эти части по разным ноутбукам. Переходите в следующий ноутбук **7.2**"
   ]
  },
  {
   "cell_type": "code",
   "execution_count": null,
   "metadata": {},
   "outputs": [],
   "source": []
  }
 ],
 "metadata": {
  "kernelspec": {
   "display_name": "PySpark3",
   "language": "",
   "name": "pyspark3kernel"
  },
  "language_info": {
   "codemirror_mode": {
    "name": "python",
    "version": 3
   },
   "mimetype": "text/x-python",
   "name": "pyspark3",
   "pygments_lexer": "python3"
  }
 },
 "nbformat": 4,
 "nbformat_minor": 2
}
